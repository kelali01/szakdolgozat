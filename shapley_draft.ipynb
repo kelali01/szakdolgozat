{
 "cells": [
  {
   "cell_type": "code",
   "execution_count": 2,
   "id": "9f1eb4bf",
   "metadata": {},
   "outputs": [],
   "source": [
    "from model_builder import model_builder\n",
    "from data_gen import simulate_private_equity_cashflows\n",
    "import numpy as np"
   ]
  },
  {
   "cell_type": "code",
   "execution_count": 3,
   "id": "749e967f",
   "metadata": {},
   "outputs": [],
   "source": [
    "cashflows = simulate_private_equity_cashflows()"
   ]
  },
  {
   "cell_type": "code",
   "execution_count": 4,
   "id": "e395ad42",
   "metadata": {},
   "outputs": [
    {
     "data": {
      "text/html": [
       "<div>\n",
       "<style scoped>\n",
       "    .dataframe tbody tr th:only-of-type {\n",
       "        vertical-align: middle;\n",
       "    }\n",
       "\n",
       "    .dataframe tbody tr th {\n",
       "        vertical-align: top;\n",
       "    }\n",
       "\n",
       "    .dataframe thead th {\n",
       "        text-align: right;\n",
       "    }\n",
       "</style>\n",
       "<table border=\"1\" class=\"dataframe\">\n",
       "  <thead>\n",
       "    <tr style=\"text-align: right;\">\n",
       "      <th></th>\n",
       "      <th>FundID</th>\n",
       "      <th>VintageYear</th>\n",
       "      <th>Strategy</th>\n",
       "      <th>Geography</th>\n",
       "      <th>FundQuality</th>\n",
       "      <th>Quarter</th>\n",
       "      <th>date</th>\n",
       "      <th>Cashflow</th>\n",
       "    </tr>\n",
       "  </thead>\n",
       "  <tbody>\n",
       "    <tr>\n",
       "      <th>0</th>\n",
       "      <td>0</td>\n",
       "      <td>1992</td>\n",
       "      <td>Venture</td>\n",
       "      <td>North America</td>\n",
       "      <td>Bad</td>\n",
       "      <td>0</td>\n",
       "      <td>1992-03-31</td>\n",
       "      <td>-0.127937</td>\n",
       "    </tr>\n",
       "    <tr>\n",
       "      <th>1</th>\n",
       "      <td>0</td>\n",
       "      <td>1992</td>\n",
       "      <td>Venture</td>\n",
       "      <td>North America</td>\n",
       "      <td>Bad</td>\n",
       "      <td>1</td>\n",
       "      <td>1992-06-30</td>\n",
       "      <td>-0.082006</td>\n",
       "    </tr>\n",
       "    <tr>\n",
       "      <th>2</th>\n",
       "      <td>0</td>\n",
       "      <td>1992</td>\n",
       "      <td>Venture</td>\n",
       "      <td>North America</td>\n",
       "      <td>Bad</td>\n",
       "      <td>2</td>\n",
       "      <td>1992-09-30</td>\n",
       "      <td>-0.074795</td>\n",
       "    </tr>\n",
       "    <tr>\n",
       "      <th>3</th>\n",
       "      <td>0</td>\n",
       "      <td>1992</td>\n",
       "      <td>Venture</td>\n",
       "      <td>North America</td>\n",
       "      <td>Bad</td>\n",
       "      <td>3</td>\n",
       "      <td>1992-12-31</td>\n",
       "      <td>0.000000</td>\n",
       "    </tr>\n",
       "    <tr>\n",
       "      <th>4</th>\n",
       "      <td>0</td>\n",
       "      <td>1992</td>\n",
       "      <td>Venture</td>\n",
       "      <td>North America</td>\n",
       "      <td>Bad</td>\n",
       "      <td>4</td>\n",
       "      <td>1993-03-31</td>\n",
       "      <td>-0.065673</td>\n",
       "    </tr>\n",
       "    <tr>\n",
       "      <th>...</th>\n",
       "      <td>...</td>\n",
       "      <td>...</td>\n",
       "      <td>...</td>\n",
       "      <td>...</td>\n",
       "      <td>...</td>\n",
       "      <td>...</td>\n",
       "      <td>...</td>\n",
       "      <td>...</td>\n",
       "    </tr>\n",
       "    <tr>\n",
       "      <th>118780</th>\n",
       "      <td>2399</td>\n",
       "      <td>1992</td>\n",
       "      <td>Venture</td>\n",
       "      <td>Rest of World</td>\n",
       "      <td>Bad</td>\n",
       "      <td>47</td>\n",
       "      <td>2003-12-31</td>\n",
       "      <td>0.046362</td>\n",
       "    </tr>\n",
       "    <tr>\n",
       "      <th>118781</th>\n",
       "      <td>2399</td>\n",
       "      <td>1992</td>\n",
       "      <td>Venture</td>\n",
       "      <td>Rest of World</td>\n",
       "      <td>Bad</td>\n",
       "      <td>48</td>\n",
       "      <td>2004-03-31</td>\n",
       "      <td>0.000000</td>\n",
       "    </tr>\n",
       "    <tr>\n",
       "      <th>118782</th>\n",
       "      <td>2399</td>\n",
       "      <td>1992</td>\n",
       "      <td>Venture</td>\n",
       "      <td>Rest of World</td>\n",
       "      <td>Bad</td>\n",
       "      <td>49</td>\n",
       "      <td>2004-06-30</td>\n",
       "      <td>0.022639</td>\n",
       "    </tr>\n",
       "    <tr>\n",
       "      <th>118783</th>\n",
       "      <td>2399</td>\n",
       "      <td>1992</td>\n",
       "      <td>Venture</td>\n",
       "      <td>Rest of World</td>\n",
       "      <td>Bad</td>\n",
       "      <td>50</td>\n",
       "      <td>2004-09-30</td>\n",
       "      <td>0.000000</td>\n",
       "    </tr>\n",
       "    <tr>\n",
       "      <th>118784</th>\n",
       "      <td>2399</td>\n",
       "      <td>1992</td>\n",
       "      <td>Venture</td>\n",
       "      <td>Rest of World</td>\n",
       "      <td>Bad</td>\n",
       "      <td>51</td>\n",
       "      <td>2004-12-31</td>\n",
       "      <td>0.050502</td>\n",
       "    </tr>\n",
       "  </tbody>\n",
       "</table>\n",
       "<p>118785 rows × 8 columns</p>\n",
       "</div>"
      ],
      "text/plain": [
       "        FundID  VintageYear Strategy      Geography FundQuality  Quarter  \\\n",
       "0            0         1992  Venture  North America         Bad        0   \n",
       "1            0         1992  Venture  North America         Bad        1   \n",
       "2            0         1992  Venture  North America         Bad        2   \n",
       "3            0         1992  Venture  North America         Bad        3   \n",
       "4            0         1992  Venture  North America         Bad        4   \n",
       "...        ...          ...      ...            ...         ...      ...   \n",
       "118780    2399         1992  Venture  Rest of World         Bad       47   \n",
       "118781    2399         1992  Venture  Rest of World         Bad       48   \n",
       "118782    2399         1992  Venture  Rest of World         Bad       49   \n",
       "118783    2399         1992  Venture  Rest of World         Bad       50   \n",
       "118784    2399         1992  Venture  Rest of World         Bad       51   \n",
       "\n",
       "             date  Cashflow  \n",
       "0      1992-03-31 -0.127937  \n",
       "1      1992-06-30 -0.082006  \n",
       "2      1992-09-30 -0.074795  \n",
       "3      1992-12-31  0.000000  \n",
       "4      1993-03-31 -0.065673  \n",
       "...           ...       ...  \n",
       "118780 2003-12-31  0.046362  \n",
       "118781 2004-03-31  0.000000  \n",
       "118782 2004-06-30  0.022639  \n",
       "118783 2004-09-30  0.000000  \n",
       "118784 2004-12-31  0.050502  \n",
       "\n",
       "[118785 rows x 8 columns]"
      ]
     },
     "execution_count": 4,
     "metadata": {},
     "output_type": "execute_result"
    }
   ],
   "source": [
    "# Normalize the cashflows of each fund in the market\n",
    "\n",
    "def fund_weights(cashflows):\n",
    "    funds = cashflows['FundID'].unique() \n",
    "    weights = {}\n",
    "    for fund in funds:\n",
    "        fund_cashflows = cashflows[cashflows['FundID'] == fund]\n",
    "        weights[fund] = -fund_cashflows['Cashflow'].sum()\n",
    "    return weights\n",
    "\n",
    "cashflows_contr = cashflows[cashflows['Cashflow'] < 0]\n",
    "eq_cashflows_contr = fund_weights(cashflows_contr)\n",
    "\n",
    "def eq_calc(row):\n",
    "    fund = row['FundID']\n",
    "    cf = row['Cashflow']\n",
    "    \n",
    "    return cf / eq_cashflows_contr[fund]\n",
    "\n",
    "# Apply the function row-wise\n",
    "cashflows['eq_cashflow'] = cashflows.apply(eq_calc, axis=1)\n",
    "\n",
    "# Drop and rename\n",
    "cashflows = cashflows.drop(columns=['Cashflow']).rename(columns={'eq_cashflow': 'Cashflow'})\n",
    "\n",
    "cashflows"
   ]
  },
  {
   "cell_type": "markdown",
   "id": "130ce4f5",
   "metadata": {},
   "source": [
    "### Shapley value calculation"
   ]
  },
  {
   "cell_type": "code",
   "execution_count": 5,
   "id": "5eb65043",
   "metadata": {},
   "outputs": [],
   "source": [
    "attributions = []\n",
    "vintages = cashflows['VintageYear'].unique()\n",
    "strategies = cashflows['Strategy'].unique()\n",
    "geos = cashflows['Geography'].unique()\n",
    "\n",
    "for vintage in vintages:\n",
    "    for strategy in strategies:\n",
    "        for geo in geos:\n",
    "            attributions.append((vintage, strategy, geo))"
   ]
  },
  {
   "cell_type": "code",
   "execution_count": 6,
   "id": "c0f10b95",
   "metadata": {},
   "outputs": [],
   "source": [
    "import random\n",
    "from pme_calc import moic, xirr\n",
    "import pandas as pd\n",
    "\n",
    "def permute_list(input_list):\n",
    "    output_list = input_list.copy()  # Make a copy to not modify the original\n",
    "    random.shuffle(output_list)\n",
    "    return output_list\n",
    "\n",
    "permutated_attributions = []\n",
    "numb_of_permutations = 10 # Number of permutations to generate\n",
    "for i in range(numb_of_permutations):\n",
    "    permutated_attributions.append(permute_list(attributions))"
   ]
  },
  {
   "cell_type": "code",
   "execution_count": 24,
   "id": "c69bc62d",
   "metadata": {},
   "outputs": [],
   "source": [
    "attribution_values = []\n",
    "first_df = cashflows[(cashflows['VintageYear'] == attributions[0][0]) & (cashflows['Strategy']== attributions[0][1]) & (cashflows['Geography'] == attributions[0][2])]\n",
    "first_aggregated_df = first_df.groupby('date', as_index=False)['Cashflow'].sum()\n",
    "first_attribution_irr = xirr(first_aggregated_df['date'], first_aggregated_df['Cashflow'])\n",
    "attribution_values.append(first_attribution_irr)\n",
    "\n",
    "for attrib in attributions[1:]:\n",
    "    df = cashflows[(cashflows['VintageYear'] == attrib[0]) & (cashflows['Strategy']== attrib[1]) & (cashflows['Geography'] == attrib[2])]\n",
    "    first_df = pd.concat([first_df, df], ignore_index=True)  # Use pd.concat to concatenate DataFrames\n",
    "    aggregated_df = first_df.groupby('date', as_index=False)['Cashflow'].sum()\n",
    "    # attribution_moic = moic(first_df)\n",
    "    attribution_irr = xirr(aggregated_df['date'], aggregated_df['Cashflow'])\n",
    "    attribution_values.append(attribution_irr)\n",
    "\n",
    "final_attribution_values = []\n",
    "final_attribution_values.append(attribution_values[0])\n",
    "for i in range(1,len(attribution_values)):\n",
    "    final_attribution_values.append(attribution_values[i] - attribution_values[i-1])\n",
    "    "
   ]
  },
  {
   "cell_type": "code",
   "execution_count": 27,
   "id": "b98a0182",
   "metadata": {},
   "outputs": [
    {
     "data": {
      "text/plain": [
       "2.4312816263474373"
      ]
     },
     "execution_count": 27,
     "metadata": {},
     "output_type": "execute_result"
    }
   ],
   "source": [
    "moic(first_aggregated_df)"
   ]
  },
  {
   "cell_type": "code",
   "execution_count": 9,
   "id": "13a58cf5",
   "metadata": {},
   "outputs": [],
   "source": [
    "def attribution_irr_changes(attributions, cashflows):\n",
    "    attribution_values = []\n",
    "\n",
    "    # Handle the first attribution separately\n",
    "    first_df = cashflows[\n",
    "        (cashflows['VintageYear'] == attributions[0][0]) &\n",
    "        (cashflows['Strategy'] == attributions[0][1]) &\n",
    "        (cashflows['Geography'] == attributions[0][2])\n",
    "    ]\n",
    "    first_aggregated_df = first_df.groupby('date', as_index=False)['Cashflow'].sum()\n",
    "    first_attribution_irr = xirr(first_aggregated_df['date'], first_aggregated_df['Cashflow'])\n",
    "    attribution_values.append(first_attribution_irr)\n",
    "\n",
    "    # Iterate through the rest\n",
    "    for attrib in attributions[1:]:\n",
    "        df = cashflows[\n",
    "            (cashflows['VintageYear'] == attrib[0]) &\n",
    "            (cashflows['Strategy'] == attrib[1]) &\n",
    "            (cashflows['Geography'] == attrib[2])\n",
    "        ]\n",
    "        first_df = pd.concat([first_df, df], ignore_index=True)  # Keep building the portfolio\n",
    "        aggregated_df = first_df.groupby('date', as_index=False)['Cashflow'].sum()\n",
    "        attribution_irr = xirr(aggregated_df['date'], aggregated_df['Cashflow'])\n",
    "        attribution_values.append(attribution_irr)\n",
    "\n",
    "    # Calculate incremental IRRs\n",
    "    final_attribution_values = [attribution_values[0]]\n",
    "    for i in range(1, len(attribution_values)):\n",
    "        delta = attribution_values[i] - attribution_values[i-1]\n",
    "        final_attribution_values.append(delta)\n",
    "\n",
    "    # Build the output dict\n",
    "    result = {attrib: value for attrib, value in zip(attributions, final_attribution_values)}\n",
    "    \n",
    "    return result\n"
   ]
  },
  {
   "cell_type": "code",
   "execution_count": 10,
   "id": "471bb4fc",
   "metadata": {},
   "outputs": [],
   "source": [
    "cumulative_results = {}\n",
    "\n",
    "# Suppose permutated_attributions is a list of lists (each a permutation)\n",
    "for permuted_attribution in permutated_attributions:\n",
    "    result = attribution_irr_changes(permuted_attribution, cashflows)\n",
    "    for key, value in result.items():\n",
    "        if key in cumulative_results:\n",
    "            cumulative_results[key] += value\n",
    "        else:\n",
    "            cumulative_results[key] = value"
   ]
  },
  {
   "cell_type": "code",
   "execution_count": 11,
   "id": "adf30a29",
   "metadata": {},
   "outputs": [],
   "source": [
    "average_results = {key: value / len(permutated_attributions) for key, value in cumulative_results.items()}"
   ]
  },
  {
   "cell_type": "code",
   "execution_count": 12,
   "id": "af541b84",
   "metadata": {},
   "outputs": [
    {
     "data": {
      "text/plain": [
       "80"
      ]
     },
     "execution_count": 12,
     "metadata": {},
     "output_type": "execute_result"
    }
   ],
   "source": [
    "len(average_results)"
   ]
  },
  {
   "cell_type": "markdown",
   "id": "0da1078d",
   "metadata": {},
   "source": [
    "### Portfolio generation and attribution analysis"
   ]
  },
  {
   "cell_type": "code",
   "execution_count": 13,
   "id": "867651fa",
   "metadata": {},
   "outputs": [],
   "source": [
    "def portfolio_cashflows(cashflows, portfolio_size):\n",
    "    \n",
    "    selected_funds = np.random.choice(cashflows['FundID'].unique(), size=portfolio_size, replace=False)\n",
    "    portfolio = cashflows[cashflows['FundID'].isin(selected_funds)]\n",
    "\n",
    "    return portfolio"
   ]
  },
  {
   "cell_type": "code",
   "execution_count": 14,
   "id": "28622ad0",
   "metadata": {},
   "outputs": [],
   "source": [
    "port_cfs = portfolio_cashflows(cashflows, 200)\n",
    "port_cfs_contr = port_cfs[port_cfs['Cashflow'] < 0]"
   ]
  },
  {
   "cell_type": "code",
   "execution_count": 15,
   "id": "57b3b2d3",
   "metadata": {},
   "outputs": [],
   "source": [
    "def calculate_attribution_weights(port_cfs_contr):\n",
    "    # Group by the attribution dimensions\n",
    "    grouped = port_cfs_contr.groupby(['VintageYear', 'Strategy', 'Geography'])['Cashflow'].sum()\n",
    "    \n",
    "    # Calculate total contributions\n",
    "    total_contribution = grouped.sum()\n",
    "    \n",
    "    # Calculate weights\n",
    "    weights = grouped / total_contribution\n",
    "    \n",
    "    # Convert back to DataFrame (optional, for easy viewing)\n",
    "    weights_df = weights.reset_index().rename(columns={'Cashflow': 'Weight'})\n",
    "    \n",
    "    return weights_df"
   ]
  },
  {
   "cell_type": "code",
   "execution_count": 16,
   "id": "f21d9f73",
   "metadata": {},
   "outputs": [],
   "source": [
    "weight_df = calculate_attribution_weights(port_cfs_contr)"
   ]
  },
  {
   "cell_type": "code",
   "execution_count": 17,
   "id": "f8e4bf23",
   "metadata": {},
   "outputs": [],
   "source": [
    "def weighted_attribution(weights_df, attribution_results):\n",
    "    weighted_results = {}\n",
    "    \n",
    "    for _, row in weights_df.iterrows():\n",
    "        key = (row['VintageYear'], row['Strategy'], row['Geography'])\n",
    "        \n",
    "        if key in attribution_results:\n",
    "            weighted_value = row['Weight'] * attribution_results[key]\n",
    "            weighted_results[key] = weighted_value\n",
    "        else:\n",
    "            # If some attribution is missing from results, assume 0\n",
    "            weighted_results[key] = 0\n",
    "    \n",
    "    return weighted_results\n"
   ]
  },
  {
   "cell_type": "code",
   "execution_count": 18,
   "id": "5767ac2b",
   "metadata": {},
   "outputs": [],
   "source": [
    "port_result = weighted_attribution(weight_df, average_results)"
   ]
  },
  {
   "cell_type": "code",
   "execution_count": 19,
   "id": "6e7ed80a",
   "metadata": {},
   "outputs": [
    {
     "name": "stdout",
     "output_type": "stream",
     "text": [
      "0.17429433377077025\n"
     ]
    }
   ],
   "source": [
    "total_weighted_attribution = sum(port_result.values())\n",
    "print(total_weighted_attribution*len(average_results))\n"
   ]
  },
  {
   "cell_type": "code",
   "execution_count": 20,
   "id": "8e6700c2",
   "metadata": {},
   "outputs": [],
   "source": [
    "market_aggregated_df = cashflows.groupby('date', as_index=False)['Cashflow'].sum()\n",
    "market_irr = xirr(market_aggregated_df['date'], market_aggregated_df['Cashflow'])\n",
    "port_aggregated_df = port_cfs.groupby('date', as_index=False)['Cashflow'].sum()\n",
    "port_irr = xirr(port_aggregated_df['date'], port_aggregated_df['Cashflow'])"
   ]
  },
  {
   "cell_type": "code",
   "execution_count": 21,
   "id": "ab380fdf",
   "metadata": {},
   "outputs": [
    {
     "data": {
      "text/plain": [
       "0.11419283437694876"
      ]
     },
     "execution_count": 21,
     "metadata": {},
     "output_type": "execute_result"
    }
   ],
   "source": [
    "port_irr"
   ]
  },
  {
   "cell_type": "code",
   "execution_count": 22,
   "id": "20fff4a0",
   "metadata": {},
   "outputs": [
    {
     "data": {
      "text/plain": [
       "0.1076287439745897"
      ]
     },
     "execution_count": 22,
     "metadata": {},
     "output_type": "execute_result"
    }
   ],
   "source": [
    "market_irr"
   ]
  },
  {
   "cell_type": "code",
   "execution_count": 88,
   "id": "67032fe9",
   "metadata": {},
   "outputs": [],
   "source": [
    "# valszeg az első attribucióból ki kéne vonni a marketet, meg a qualityt kivenni a data_genből"
   ]
  },
  {
   "cell_type": "code",
   "execution_count": null,
   "id": "8954e26d",
   "metadata": {},
   "outputs": [],
   "source": [
    "# összegezni lehetne vintage, strategy, geography szerint is"
   ]
  }
 ],
 "metadata": {
  "kernelspec": {
   "display_name": "Python 3",
   "language": "python",
   "name": "python3"
  },
  "language_info": {
   "codemirror_mode": {
    "name": "ipython",
    "version": 3
   },
   "file_extension": ".py",
   "mimetype": "text/x-python",
   "name": "python",
   "nbconvert_exporter": "python",
   "pygments_lexer": "ipython3",
   "version": "3.11.9"
  }
 },
 "nbformat": 4,
 "nbformat_minor": 5
}
