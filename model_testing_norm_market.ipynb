{
 "cells": [
  {
   "cell_type": "markdown",
   "id": "2c174e25",
   "metadata": {},
   "source": [
    "## Normalized market with sizing effect"
   ]
  },
  {
   "cell_type": "code",
   "execution_count": 1,
   "id": "2a69648c",
   "metadata": {},
   "outputs": [],
   "source": [
    "from model_builder import model_builder\n",
    "from data_gen import simulate_private_equity_cashflows\n",
    "import numpy as np"
   ]
  },
  {
   "cell_type": "code",
   "execution_count": 2,
   "id": "6fc6cef0",
   "metadata": {},
   "outputs": [],
   "source": [
    "cashflows = simulate_private_equity_cashflows()"
   ]
  },
  {
   "cell_type": "code",
   "execution_count": 3,
   "id": "fcdf7e4a",
   "metadata": {},
   "outputs": [
    {
     "data": {
      "text/html": [
       "<div>\n",
       "<style scoped>\n",
       "    .dataframe tbody tr th:only-of-type {\n",
       "        vertical-align: middle;\n",
       "    }\n",
       "\n",
       "    .dataframe tbody tr th {\n",
       "        vertical-align: top;\n",
       "    }\n",
       "\n",
       "    .dataframe thead th {\n",
       "        text-align: right;\n",
       "    }\n",
       "</style>\n",
       "<table border=\"1\" class=\"dataframe\">\n",
       "  <thead>\n",
       "    <tr style=\"text-align: right;\">\n",
       "      <th></th>\n",
       "      <th>FundID</th>\n",
       "      <th>VintageYear</th>\n",
       "      <th>Strategy</th>\n",
       "      <th>Geography</th>\n",
       "      <th>FundQuality</th>\n",
       "      <th>Quarter</th>\n",
       "      <th>date</th>\n",
       "      <th>Cashflow</th>\n",
       "    </tr>\n",
       "  </thead>\n",
       "  <tbody>\n",
       "    <tr>\n",
       "      <th>0</th>\n",
       "      <td>0</td>\n",
       "      <td>2003</td>\n",
       "      <td>Venture</td>\n",
       "      <td>Rest of World</td>\n",
       "      <td>Bad</td>\n",
       "      <td>0</td>\n",
       "      <td>2003-03-31</td>\n",
       "      <td>-0.110380</td>\n",
       "    </tr>\n",
       "    <tr>\n",
       "      <th>1</th>\n",
       "      <td>0</td>\n",
       "      <td>2003</td>\n",
       "      <td>Venture</td>\n",
       "      <td>Rest of World</td>\n",
       "      <td>Bad</td>\n",
       "      <td>1</td>\n",
       "      <td>2003-06-30</td>\n",
       "      <td>-0.070752</td>\n",
       "    </tr>\n",
       "    <tr>\n",
       "      <th>2</th>\n",
       "      <td>0</td>\n",
       "      <td>2003</td>\n",
       "      <td>Venture</td>\n",
       "      <td>Rest of World</td>\n",
       "      <td>Bad</td>\n",
       "      <td>2</td>\n",
       "      <td>2003-09-30</td>\n",
       "      <td>-0.064530</td>\n",
       "    </tr>\n",
       "    <tr>\n",
       "      <th>3</th>\n",
       "      <td>0</td>\n",
       "      <td>2003</td>\n",
       "      <td>Venture</td>\n",
       "      <td>Rest of World</td>\n",
       "      <td>Bad</td>\n",
       "      <td>3</td>\n",
       "      <td>2003-12-31</td>\n",
       "      <td>-0.073506</td>\n",
       "    </tr>\n",
       "    <tr>\n",
       "      <th>4</th>\n",
       "      <td>0</td>\n",
       "      <td>2003</td>\n",
       "      <td>Venture</td>\n",
       "      <td>Rest of World</td>\n",
       "      <td>Bad</td>\n",
       "      <td>4</td>\n",
       "      <td>2004-03-31</td>\n",
       "      <td>-0.056660</td>\n",
       "    </tr>\n",
       "    <tr>\n",
       "      <th>...</th>\n",
       "      <td>...</td>\n",
       "      <td>...</td>\n",
       "      <td>...</td>\n",
       "      <td>...</td>\n",
       "      <td>...</td>\n",
       "      <td>...</td>\n",
       "      <td>...</td>\n",
       "      <td>...</td>\n",
       "    </tr>\n",
       "    <tr>\n",
       "      <th>119064</th>\n",
       "      <td>2399</td>\n",
       "      <td>1996</td>\n",
       "      <td>Buyout</td>\n",
       "      <td>Rest of World</td>\n",
       "      <td>Bad</td>\n",
       "      <td>43</td>\n",
       "      <td>2006-12-31</td>\n",
       "      <td>0.052958</td>\n",
       "    </tr>\n",
       "    <tr>\n",
       "      <th>119065</th>\n",
       "      <td>2399</td>\n",
       "      <td>1996</td>\n",
       "      <td>Buyout</td>\n",
       "      <td>Rest of World</td>\n",
       "      <td>Bad</td>\n",
       "      <td>44</td>\n",
       "      <td>2007-03-31</td>\n",
       "      <td>0.045725</td>\n",
       "    </tr>\n",
       "    <tr>\n",
       "      <th>119066</th>\n",
       "      <td>2399</td>\n",
       "      <td>1996</td>\n",
       "      <td>Buyout</td>\n",
       "      <td>Rest of World</td>\n",
       "      <td>Bad</td>\n",
       "      <td>45</td>\n",
       "      <td>2007-06-30</td>\n",
       "      <td>0.000000</td>\n",
       "    </tr>\n",
       "    <tr>\n",
       "      <th>119067</th>\n",
       "      <td>2399</td>\n",
       "      <td>1996</td>\n",
       "      <td>Buyout</td>\n",
       "      <td>Rest of World</td>\n",
       "      <td>Bad</td>\n",
       "      <td>46</td>\n",
       "      <td>2007-09-30</td>\n",
       "      <td>0.015371</td>\n",
       "    </tr>\n",
       "    <tr>\n",
       "      <th>119068</th>\n",
       "      <td>2399</td>\n",
       "      <td>1996</td>\n",
       "      <td>Buyout</td>\n",
       "      <td>Rest of World</td>\n",
       "      <td>Bad</td>\n",
       "      <td>47</td>\n",
       "      <td>2007-12-31</td>\n",
       "      <td>0.000000</td>\n",
       "    </tr>\n",
       "  </tbody>\n",
       "</table>\n",
       "<p>119069 rows × 8 columns</p>\n",
       "</div>"
      ],
      "text/plain": [
       "        FundID  VintageYear Strategy      Geography FundQuality  Quarter  \\\n",
       "0            0         2003  Venture  Rest of World         Bad        0   \n",
       "1            0         2003  Venture  Rest of World         Bad        1   \n",
       "2            0         2003  Venture  Rest of World         Bad        2   \n",
       "3            0         2003  Venture  Rest of World         Bad        3   \n",
       "4            0         2003  Venture  Rest of World         Bad        4   \n",
       "...        ...          ...      ...            ...         ...      ...   \n",
       "119064    2399         1996   Buyout  Rest of World         Bad       43   \n",
       "119065    2399         1996   Buyout  Rest of World         Bad       44   \n",
       "119066    2399         1996   Buyout  Rest of World         Bad       45   \n",
       "119067    2399         1996   Buyout  Rest of World         Bad       46   \n",
       "119068    2399         1996   Buyout  Rest of World         Bad       47   \n",
       "\n",
       "             date  Cashflow  \n",
       "0      2003-03-31 -0.110380  \n",
       "1      2003-06-30 -0.070752  \n",
       "2      2003-09-30 -0.064530  \n",
       "3      2003-12-31 -0.073506  \n",
       "4      2004-03-31 -0.056660  \n",
       "...           ...       ...  \n",
       "119064 2006-12-31  0.052958  \n",
       "119065 2007-03-31  0.045725  \n",
       "119066 2007-06-30  0.000000  \n",
       "119067 2007-09-30  0.015371  \n",
       "119068 2007-12-31  0.000000  \n",
       "\n",
       "[119069 rows x 8 columns]"
      ]
     },
     "execution_count": 3,
     "metadata": {},
     "output_type": "execute_result"
    }
   ],
   "source": [
    "# Normalize the cashflows of each fund in the market\n",
    "\n",
    "def fund_weights(cashflows):\n",
    "    funds = cashflows['FundID'].unique() \n",
    "    weights = {}\n",
    "    for fund in funds:\n",
    "        fund_cashflows = cashflows[cashflows['FundID'] == fund]\n",
    "        weights[fund] = -fund_cashflows['Cashflow'].sum()\n",
    "    return weights\n",
    "\n",
    "cashflows_contr = cashflows[cashflows['Cashflow'] < 0]\n",
    "eq_cashflows_contr = fund_weights(cashflows_contr)\n",
    "\n",
    "def eq_calc(row):\n",
    "    fund = row['FundID']\n",
    "    cf = row['Cashflow']\n",
    "    \n",
    "    return cf / eq_cashflows_contr[fund]\n",
    "\n",
    "# Apply the function row-wise\n",
    "cashflows['eq_cashflow'] = cashflows.apply(eq_calc, axis=1)\n",
    "\n",
    "# Drop and rename\n",
    "cashflows = cashflows.drop(columns=['Cashflow']).rename(columns={'eq_cashflow': 'Cashflow'})\n",
    "\n",
    "cashflows"
   ]
  },
  {
   "cell_type": "code",
   "execution_count": 4,
   "id": "63809543",
   "metadata": {},
   "outputs": [],
   "source": [
    "def portfolio_cashflows(cashflows, portfolio_size):\n",
    "    # Randomly select fund IDs\n",
    "    selected_funds = np.random.choice(cashflows['FundID'].unique(), size=portfolio_size, replace=False)\n",
    "    \n",
    "    # Create a random size adjustment for each selected fund\n",
    "    size_adjustments = {fund: np.random.uniform(0.5, 2.0) for fund in selected_funds}\n",
    "    \n",
    "    # Filter the portfolio\n",
    "    portfolio = cashflows[cashflows['FundID'].isin(selected_funds)].copy()\n",
    "    \n",
    "    # Apply the size adjustment\n",
    "    portfolio['Cashflow'] = portfolio.apply(lambda row: row['Cashflow'] * size_adjustments[row['FundID']], axis=1)\n",
    "    \n",
    "    return portfolio"
   ]
  },
  {
   "cell_type": "code",
   "execution_count": 5,
   "id": "b25f74fd",
   "metadata": {},
   "outputs": [],
   "source": [
    "port_cfs = portfolio_cashflows(cashflows, 200)\n",
    "port_cfs = port_cfs.copy()\n",
    "model = model_builder(cashflows, port_cfs)"
   ]
  },
  {
   "cell_type": "markdown",
   "id": "3b5a30a1",
   "metadata": {},
   "source": [
    "### Monte-carlo simulation"
   ]
  },
  {
   "cell_type": "code",
   "execution_count": 32,
   "id": "1f87eb8c",
   "metadata": {},
   "outputs": [
    {
     "data": {
      "text/plain": [
       "({'Portfolio MOIC': 1.9132413771615897,\n",
       "  'Market MOIC': 1.9132413771615897,\n",
       "  'Timing Alpha MOIC': -2.220446049250313e-16,\n",
       "  'Strategy Alpha MOIC': -2.220446049250313e-16,\n",
       "  'Geography Alpha MOIC': -2.220446049250313e-16,\n",
       "  'Sizing Alpha MOIC': 0.0,\n",
       "  'Residual Alpha MOIC': 6.661338147750939e-16},\n",
       " {'Portfolio IRR': 0.11354391650455908,\n",
       "  'Market IRR': 0.11354391650455908,\n",
       "  'Timing Alpha IRR': 1.942890293094024e-16,\n",
       "  'Strategy Alpha IRR': 1.942890293094024e-16,\n",
       "  'Geography Alpha IRR': 1.942890293094024e-16,\n",
       "  'Sizing Alpha IRR': -2.3592239273284576e-16,\n",
       "  'Residual Alpha IRR': -3.469446951953614e-16})"
      ]
     },
     "execution_count": 32,
     "metadata": {},
     "output_type": "execute_result"
    }
   ],
   "source": [
    "market_model = model_builder(cashflows, cashflows)\n",
    "market_model"
   ]
  },
  {
   "cell_type": "code",
   "execution_count": 72,
   "id": "2f6673eb",
   "metadata": {},
   "outputs": [],
   "source": [
    "number_of_simulations = 100\n",
    "fund_size = 200\n",
    "moic_results = []\n",
    "irr_results = []\n",
    "\n",
    "for i in range(number_of_simulations):\n",
    "    port_cfs = portfolio_cashflows(cashflows, fund_size)\n",
    "    port_cfs = port_cfs.copy()\n",
    "    model = model_builder(cashflows, port_cfs)\n",
    "    moic_results.append(model[0])\n",
    "    irr_results.append(model[1])\n"
   ]
  },
  {
   "cell_type": "code",
   "execution_count": 43,
   "id": "9c6a8eea",
   "metadata": {},
   "outputs": [],
   "source": [
    "def average_dicts(dict_list):\n",
    "    \"\"\"Compute the average of a list of dictionaries.\"\"\"\n",
    "    keys = dict_list[0].keys()\n",
    "    avg_dict = {}\n",
    "    for key in keys:\n",
    "        avg_dict[key] = sum(d[key] for d in dict_list) / len(dict_list)\n",
    "    return avg_dict"
   ]
  },
  {
   "cell_type": "code",
   "execution_count": 73,
   "id": "29831d96",
   "metadata": {},
   "outputs": [],
   "source": [
    "avg_moic_decomposition = average_dicts(moic_results)\n",
    "avg_irr_decomposition = average_dicts(irr_results)"
   ]
  },
  {
   "cell_type": "code",
   "execution_count": 74,
   "id": "7bd74e13",
   "metadata": {},
   "outputs": [
    {
     "data": {
      "text/plain": [
       "{'Portfolio IRR': 0.11318978211728598,\n",
       " 'Market IRR': 0.11354391650455925,\n",
       " 'Timing Alpha IRR': 0.00018783212993540881,\n",
       " 'Strategy Alpha IRR': 0.00014638805183436951,\n",
       " 'Geography Alpha IRR': 0.00027898456397964263,\n",
       " 'Sizing Alpha IRR': 2.37388865306494e-05,\n",
       " 'Residual Alpha IRR': -0.0009910780195531584}"
      ]
     },
     "execution_count": 74,
     "metadata": {},
     "output_type": "execute_result"
    }
   ],
   "source": [
    "avg_irr_decomposition"
   ]
  },
  {
   "cell_type": "code",
   "execution_count": 75,
   "id": "f8a3cc37",
   "metadata": {},
   "outputs": [
    {
     "data": {
      "text/plain": [
       "{'Portfolio MOIC': 1.9103922912086282,\n",
       " 'Market MOIC': 1.9132413771615902,\n",
       " 'Timing Alpha MOIC': 0.0005033111993123218,\n",
       " 'Strategy Alpha MOIC': 0.0011209679924466265,\n",
       " 'Geography Alpha MOIC': 0.0027676333575359304,\n",
       " 'Sizing Alpha MOIC': -6.146126142814179e-05,\n",
       " 'Residual Alpha MOIC': -0.00717953724082798}"
      ]
     },
     "execution_count": 75,
     "metadata": {},
     "output_type": "execute_result"
    }
   ],
   "source": [
    "avg_moic_decomposition"
   ]
  },
  {
   "cell_type": "markdown",
   "id": "ca14bb92",
   "metadata": {},
   "source": [
    "## Analyze the individual effect"
   ]
  },
  {
   "cell_type": "markdown",
   "id": "f46d0473",
   "metadata": {},
   "source": [
    "### Strategy effect"
   ]
  },
  {
   "cell_type": "code",
   "execution_count": 76,
   "id": "d5e7744e",
   "metadata": {},
   "outputs": [],
   "source": [
    "venture_ids = cashflows[cashflows['Strategy'] == 'Venture']['FundID'].unique()\n",
    "buyout_ids = cashflows[cashflows['Strategy'] == 'Buyout']['FundID'].unique()\n",
    "venture_ids = np.append(venture_ids,buyout_ids[0]) # we need at least one venture fund to make the model work\n",
    "buyout_ids = np.append(buyout_ids,venture_ids[0]) # we need at least one buyout fund to make the model work"
   ]
  },
  {
   "cell_type": "code",
   "execution_count": 77,
   "id": "2c9eb48f",
   "metadata": {},
   "outputs": [],
   "source": [
    "def portfolio_cashflows_by_id(cashflows, ids):\n",
    "\n",
    "    # Create a random size adjustment for each selected fund\n",
    "    size_adjustments = {fund: np.random.uniform(0.5, 2.0) for fund in ids}\n",
    "    \n",
    "    # Filter the portfolio\n",
    "    portfolio = cashflows[cashflows['FundID'].isin(ids)].copy()\n",
    "    \n",
    "    # Apply the size adjustment\n",
    "    portfolio['Cashflow'] = portfolio.apply(lambda row: row['Cashflow'] * size_adjustments[row['FundID']], axis=1)\n",
    "    \n",
    "    return portfolio"
   ]
  },
  {
   "cell_type": "code",
   "execution_count": 78,
   "id": "db9561ca",
   "metadata": {},
   "outputs": [],
   "source": [
    "port_cfs_venture = portfolio_cashflows_by_id(cashflows, venture_ids)\n",
    "port_cfs_venture = port_cfs_venture.copy()\n",
    "port_cfs_buyout = portfolio_cashflows_by_id(cashflows, buyout_ids)\n",
    "port_cfs_buyout = port_cfs_buyout.copy()"
   ]
  },
  {
   "cell_type": "code",
   "execution_count": 79,
   "id": "1e93f655",
   "metadata": {},
   "outputs": [
    {
     "data": {
      "text/plain": [
       "({'Portfolio MOIC': 2.182694667466335,\n",
       "  'Market MOIC': 1.9132413771615897,\n",
       "  'Timing Alpha MOIC': 0.001628138871754281,\n",
       "  'Strategy Alpha MOIC': 0.2670068795619307,\n",
       "  'Geography Alpha MOIC': -0.009885606645638756,\n",
       "  'Sizing Alpha MOIC': 0.004990763061409886,\n",
       "  'Residual Alpha MOIC': 0.005713115455288964},\n",
       " {'Portfolio IRR': 0.14145156880180076,\n",
       "  'Market IRR': 0.11354391650455908,\n",
       "  'Timing Alpha IRR': 0.0002700161823088326,\n",
       "  'Strategy Alpha IRR': 0.02774126660040188,\n",
       "  'Geography Alpha IRR': 0.00038001128426620734,\n",
       "  'Sizing Alpha IRR': 0.00024941322853963555,\n",
       "  'Residual Alpha IRR': -0.0007330549982748763})"
      ]
     },
     "execution_count": 79,
     "metadata": {},
     "output_type": "execute_result"
    }
   ],
   "source": [
    "model_venture = model_builder(cashflows, port_cfs_venture)\n",
    "model_venture"
   ]
  },
  {
   "cell_type": "code",
   "execution_count": 80,
   "id": "b9120a7e",
   "metadata": {},
   "outputs": [
    {
     "data": {
      "text/plain": [
       "({'Portfolio MOIC': 1.6701870739211384,\n",
       "  'Market MOIC': 1.9132413771615897,\n",
       "  'Timing Alpha MOIC': -0.0012259638666529682,\n",
       "  'Strategy Alpha MOIC': -0.25543572770086254,\n",
       "  'Geography Alpha MOIC': 0.01153559303764995,\n",
       "  'Sizing Alpha MOIC': 0.011333220582565584,\n",
       "  'Residual Alpha MOIC': -0.009261425293151326},\n",
       " {'Portfolio IRR': 0.0864890090206433,\n",
       "  'Market IRR': 0.11354391650455908,\n",
       "  'Timing Alpha IRR': -8.530975224463333e-06,\n",
       "  'Strategy Alpha IRR': -0.028784752788373447,\n",
       "  'Geography Alpha IRR': 0.00011860078101326443,\n",
       "  'Sizing Alpha IRR': 0.0016776261822776944,\n",
       "  'Residual Alpha IRR': -5.7850683608834386e-05})"
      ]
     },
     "execution_count": 80,
     "metadata": {},
     "output_type": "execute_result"
    }
   ],
   "source": [
    "model_buyout = model_builder(cashflows, port_cfs_buyout)\n",
    "model_buyout"
   ]
  },
  {
   "cell_type": "markdown",
   "id": "406ec287",
   "metadata": {},
   "source": [
    "### Geo effect"
   ]
  },
  {
   "cell_type": "code",
   "execution_count": 81,
   "id": "c2abe581",
   "metadata": {},
   "outputs": [],
   "source": [
    "america_ids = cashflows[cashflows['Geography'] == 'North America']['FundID'].unique()\n",
    "row_ids = cashflows[cashflows['Geography'] == 'Rest of World']['FundID'].unique()\n",
    "america_ids = np.append(america_ids,row_ids[0]) # we need at least one venture fund to make the model work\n",
    "row_ids = np.append(row_ids,america_ids[0]) # we need at least one buyout fund to make the model work"
   ]
  },
  {
   "cell_type": "code",
   "execution_count": 82,
   "id": "66a3bfb2",
   "metadata": {},
   "outputs": [],
   "source": [
    "port_cfs_america = portfolio_cashflows_by_id(cashflows, america_ids)\n",
    "port_cfs_america = port_cfs_america.copy()\n",
    "port_cfs_row = portfolio_cashflows_by_id(cashflows, row_ids)\n",
    "port_cfs_row = port_cfs_row.copy()"
   ]
  },
  {
   "cell_type": "code",
   "execution_count": 83,
   "id": "108b5ea3",
   "metadata": {},
   "outputs": [
    {
     "data": {
      "text/plain": [
       "({'Portfolio MOIC': 2.3281147035357606,\n",
       "  'Market MOIC': 1.9132413771615897,\n",
       "  'Timing Alpha MOIC': 0.0012476371201057823,\n",
       "  'Strategy Alpha MOIC': -0.011983275975596897,\n",
       "  'Geography Alpha MOIC': 0.39732148944794154,\n",
       "  'Sizing Alpha MOIC': 0.02354561164867741,\n",
       "  'Residual Alpha MOIC': 0.004741864133043006},\n",
       " {'Portfolio IRR': 0.14890664947135837,\n",
       "  'Market IRR': 0.11354391650455908,\n",
       "  'Timing Alpha IRR': 1.1344790237982627e-05,\n",
       "  'Strategy Alpha IRR': -0.0009702677700760276,\n",
       "  'Geography Alpha IRR': 0.03565678873856806,\n",
       "  'Sizing Alpha IRR': 0.00029206153932306855,\n",
       "  'Residual Alpha IRR': 0.00037280566874620114})"
      ]
     },
     "execution_count": 83,
     "metadata": {},
     "output_type": "execute_result"
    }
   ],
   "source": [
    "model_america = model_builder(cashflows, port_cfs_america)\n",
    "model_america"
   ]
  },
  {
   "cell_type": "code",
   "execution_count": 84,
   "id": "53dbd0a8",
   "metadata": {},
   "outputs": [
    {
     "data": {
      "text/plain": [
       "({'Portfolio MOIC': 1.469307765435622,\n",
       "  'Market MOIC': 1.9132413771615897,\n",
       "  'Timing Alpha MOIC': 0.0021840576731415595,\n",
       "  'Strategy Alpha MOIC': 0.006538658346052051,\n",
       "  'Geography Alpha MOIC': -0.43487005875458107,\n",
       "  'Sizing Alpha MOIC': -0.017528885344679335,\n",
       "  'Residual Alpha MOIC': -0.00025738364590099927},\n",
       " {'Portfolio IRR': 0.06496134276347316,\n",
       "  'Market IRR': 0.11354391650455908,\n",
       "  'Timing Alpha IRR': 0.0003538597541422883,\n",
       "  'Strategy Alpha IRR': -0.00018808154074874406,\n",
       "  'Geography Alpha IRR': -0.04797672446436543,\n",
       "  'Sizing Alpha IRR': -0.0018707761160409453,\n",
       "  'Residual Alpha IRR': 0.0010991486259269156})"
      ]
     },
     "execution_count": 84,
     "metadata": {},
     "output_type": "execute_result"
    }
   ],
   "source": [
    "model_row = model_builder(cashflows, port_cfs_row)\n",
    "model_row"
   ]
  },
  {
   "cell_type": "markdown",
   "id": "402114a2",
   "metadata": {},
   "source": [
    "### Fund quality"
   ]
  },
  {
   "cell_type": "code",
   "execution_count": 85,
   "id": "e3afdf30",
   "metadata": {},
   "outputs": [],
   "source": [
    "good_ids = cashflows[cashflows['FundQuality'] == 'Good']['FundID'].unique()\n",
    "bad_ids = cashflows[cashflows['FundQuality'] == 'Bad']['FundID'].unique()\n",
    "good_ids = np.append(good_ids,bad_ids[0]) # we need at least one venture fund to make the model work\n",
    "bad_ids = np.append(bad_ids,good_ids[0]) # we need at least one buyout fund to make the model work"
   ]
  },
  {
   "cell_type": "code",
   "execution_count": 86,
   "id": "092f975f",
   "metadata": {},
   "outputs": [],
   "source": [
    "port_cfs_good = portfolio_cashflows_by_id(cashflows, good_ids)\n",
    "port_cfs_good = port_cfs_good.copy()    \n",
    "port_cfs_bad = portfolio_cashflows_by_id(cashflows, bad_ids)\n",
    "port_cfs_bad = port_cfs_bad.copy()"
   ]
  },
  {
   "cell_type": "code",
   "execution_count": 87,
   "id": "a53cd431",
   "metadata": {},
   "outputs": [
    {
     "data": {
      "text/plain": [
       "({'Portfolio MOIC': 2.4717859149163393,\n",
       "  'Market MOIC': 1.9132413771615897,\n",
       "  'Timing Alpha MOIC': -0.0032170406945657426,\n",
       "  'Strategy Alpha MOIC': 0.012909529497238115,\n",
       "  'Geography Alpha MOIC': 0.004251617461964008,\n",
       "  'Sizing Alpha MOIC': -0.02062987723638443,\n",
       "  'Residual Alpha MOIC': 0.5652303087264976},\n",
       " {'Portfolio IRR': 0.16254577935064426,\n",
       "  'Market IRR': 0.11354391650455908,\n",
       "  'Timing Alpha IRR': -0.00015171791123982925,\n",
       "  'Strategy Alpha IRR': 0.0015979067450611895,\n",
       "  'Geography Alpha IRR': 3.0054044007243874e-05,\n",
       "  'Sizing Alpha IRR': -0.0031149344164498327,\n",
       "  'Residual Alpha IRR': 0.05064055438470641})"
      ]
     },
     "execution_count": 87,
     "metadata": {},
     "output_type": "execute_result"
    }
   ],
   "source": [
    "model_good = model_builder(cashflows, port_cfs_good)\n",
    "model_good"
   ]
  },
  {
   "cell_type": "code",
   "execution_count": 88,
   "id": "877da297",
   "metadata": {},
   "outputs": [
    {
     "data": {
      "text/plain": [
       "({'Portfolio MOIC': 1.321878717142031,\n",
       "  'Market MOIC': 1.9132413771615897,\n",
       "  'Timing Alpha MOIC': 0.0016577876181085305,\n",
       "  'Strategy Alpha MOIC': -0.014899739043762406,\n",
       "  'Geography Alpha MOIC': -0.00939604829679963,\n",
       "  'Sizing Alpha MOIC': 0.0021293236990558295,\n",
       "  'Residual Alpha MOIC': -0.570853983996161},\n",
       " {'Portfolio IRR': 0.04562917162090492,\n",
       "  'Market IRR': 0.11354391650455908,\n",
       "  'Timing Alpha IRR': -0.00028031859133119397,\n",
       "  'Strategy Alpha IRR': -0.0017015141166047826,\n",
       "  'Geography Alpha IRR': -0.0005806413153480461,\n",
       "  'Sizing Alpha IRR': -0.0001690758636035128,\n",
       "  'Residual Alpha IRR': -0.06518319499676663})"
      ]
     },
     "execution_count": 88,
     "metadata": {},
     "output_type": "execute_result"
    }
   ],
   "source": [
    "model_bad = model_builder(cashflows, port_cfs_bad)\n",
    "model_bad"
   ]
  },
  {
   "cell_type": "markdown",
   "id": "b8b787c9",
   "metadata": {},
   "source": [
    "### Vintage effect"
   ]
  },
  {
   "cell_type": "code",
   "execution_count": 89,
   "id": "1765fbc2",
   "metadata": {},
   "outputs": [],
   "source": [
    "vintage_ids = {}\n",
    "for vint in cashflows['VintageYear'].unique():\n",
    "    vint_ids = cashflows[cashflows['VintageYear'] == vint]['FundID'].unique()\n",
    "    vintage_ids[vint] = vint_ids"
   ]
  },
  {
   "cell_type": "code",
   "execution_count": 90,
   "id": "c0167782",
   "metadata": {},
   "outputs": [],
   "source": [
    "import random\n",
    "def pick_one_per_vintage(fund_dict):\n",
    "    selected_ids = []\n",
    "\n",
    "    for vintage, fund_ids in fund_dict.items():\n",
    "        # Randomly pick one fund from this vintage\n",
    "        fund_ids = list(fund_ids)  # ensure it's a list\n",
    "        selected_id = random.choice(fund_ids)\n",
    "        selected_ids.append(selected_id)\n",
    "\n",
    "    return np.array(selected_ids)\n",
    "\n",
    "one_from_each = pick_one_per_vintage(vintage_ids)"
   ]
  },
  {
   "cell_type": "code",
   "execution_count": 91,
   "id": "4e598497",
   "metadata": {},
   "outputs": [],
   "source": [
    "good_vintage_ids = cashflows[cashflows['VintageYear'] % 2 == 1]['FundID'].unique()\n",
    "bad_vintage_ids = cashflows[cashflows['VintageYear'] % 2 == 0]['FundID'].unique()\n",
    "good_vintage_ids = np.append(good_vintage_ids,one_from_each) # we need at least one venture fund to make the model work\n",
    "bad_vintage_ids = np.append(bad_vintage_ids,one_from_each) # we need at least one buyout fund to make the model work"
   ]
  },
  {
   "cell_type": "code",
   "execution_count": 92,
   "id": "e49693ac",
   "metadata": {},
   "outputs": [],
   "source": [
    "port_cfs_good_vintage = portfolio_cashflows_by_id(cashflows, good_vintage_ids)\n",
    "port_cfs_good_vintage = port_cfs_good_vintage.copy()\n",
    "port_cfs_bad_vintage = portfolio_cashflows_by_id(cashflows, bad_vintage_ids)\n",
    "port_cfs_bad_vintage = port_cfs_bad_vintage.copy()"
   ]
  },
  {
   "cell_type": "code",
   "execution_count": 93,
   "id": "c1096b7d",
   "metadata": {},
   "outputs": [
    {
     "data": {
      "text/plain": [
       "({'Portfolio MOIC': 2.1589791422277567,\n",
       "  'Market MOIC': 1.9132413771615897,\n",
       "  'Timing Alpha MOIC': 0.2390477303915084,\n",
       "  'Strategy Alpha MOIC': 0.005064207334172455,\n",
       "  'Geography Alpha MOIC': 0.032582595908614786,\n",
       "  'Sizing Alpha MOIC': 0.005314218255803915,\n",
       "  'Residual Alpha MOIC': -0.036270986823932594},\n",
       " {'Portfolio IRR': 0.14185781662921462,\n",
       "  'Market IRR': 0.11354391650455908,\n",
       "  'Timing Alpha IRR': 0.026745503745859323,\n",
       "  'Strategy Alpha IRR': 0.0015587535733163627,\n",
       "  'Geography Alpha IRR': 0.005000572469897574,\n",
       "  'Sizing Alpha IRR': 0.001311429725767227,\n",
       "  'Residual Alpha IRR': -0.006302359390184947})"
      ]
     },
     "execution_count": 93,
     "metadata": {},
     "output_type": "execute_result"
    }
   ],
   "source": [
    "model_good_vintage = model_builder(cashflows, port_cfs_good_vintage)\n",
    "model_good_vintage"
   ]
  },
  {
   "cell_type": "code",
   "execution_count": 94,
   "id": "a2d14209",
   "metadata": {},
   "outputs": [
    {
     "data": {
      "text/plain": [
       "({'Portfolio MOIC': 1.6747949824005188,\n",
       "  'Market MOIC': 1.9132413771615897,\n",
       "  'Timing Alpha MOIC': -0.2473412127318122,\n",
       "  'Strategy Alpha MOIC': 0.0696383291230207,\n",
       "  'Geography Alpha MOIC': 0.0053152703295475945,\n",
       "  'Sizing Alpha MOIC': 0.006543027420515157,\n",
       "  'Residual Alpha MOIC': -0.07260180890234214},\n",
       " {'Portfolio IRR': 0.08693360626430874,\n",
       "  'Market IRR': 0.11354391650455908,\n",
       "  'Timing Alpha IRR': -0.02722977265412274,\n",
       "  'Strategy Alpha IRR': 0.010786885217840353,\n",
       "  'Geography Alpha IRR': 0.001084851757246541,\n",
       "  'Sizing Alpha IRR': 0.0004912907365518943,\n",
       "  'Residual Alpha IRR': -0.011743565297766392})"
      ]
     },
     "execution_count": 94,
     "metadata": {},
     "output_type": "execute_result"
    }
   ],
   "source": [
    "model_bad_vintage = model_builder(cashflows, port_cfs_bad_vintage)\n",
    "model_bad_vintage"
   ]
  },
  {
   "cell_type": "code",
   "execution_count": null,
   "id": "200db888",
   "metadata": {},
   "outputs": [],
   "source": []
  }
 ],
 "metadata": {
  "kernelspec": {
   "display_name": "Python 3",
   "language": "python",
   "name": "python3"
  },
  "language_info": {
   "codemirror_mode": {
    "name": "ipython",
    "version": 3
   },
   "file_extension": ".py",
   "mimetype": "text/x-python",
   "name": "python",
   "nbconvert_exporter": "python",
   "pygments_lexer": "ipython3",
   "version": "3.11.9"
  }
 },
 "nbformat": 4,
 "nbformat_minor": 5
}
