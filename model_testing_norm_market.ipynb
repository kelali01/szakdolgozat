{
 "cells": [
  {
   "cell_type": "code",
   "execution_count": 1,
   "id": "2a69648c",
   "metadata": {},
   "outputs": [],
   "source": [
    "from model_builder import model_builder\n",
    "from data_gen import simulate_private_equity_cashflows\n",
    "import numpy as np"
   ]
  },
  {
   "cell_type": "code",
   "execution_count": 15,
   "id": "6fc6cef0",
   "metadata": {},
   "outputs": [],
   "source": [
    "cashflows = simulate_private_equity_cashflows()"
   ]
  },
  {
   "cell_type": "code",
   "execution_count": 16,
   "id": "fcdf7e4a",
   "metadata": {},
   "outputs": [
    {
     "data": {
      "text/html": [
       "<div>\n",
       "<style scoped>\n",
       "    .dataframe tbody tr th:only-of-type {\n",
       "        vertical-align: middle;\n",
       "    }\n",
       "\n",
       "    .dataframe tbody tr th {\n",
       "        vertical-align: top;\n",
       "    }\n",
       "\n",
       "    .dataframe thead th {\n",
       "        text-align: right;\n",
       "    }\n",
       "</style>\n",
       "<table border=\"1\" class=\"dataframe\">\n",
       "  <thead>\n",
       "    <tr style=\"text-align: right;\">\n",
       "      <th></th>\n",
       "      <th>FundID</th>\n",
       "      <th>VintageYear</th>\n",
       "      <th>Strategy</th>\n",
       "      <th>Geography</th>\n",
       "      <th>FundQuality</th>\n",
       "      <th>Quarter</th>\n",
       "      <th>date</th>\n",
       "      <th>Cashflow</th>\n",
       "    </tr>\n",
       "  </thead>\n",
       "  <tbody>\n",
       "    <tr>\n",
       "      <th>0</th>\n",
       "      <td>0</td>\n",
       "      <td>1992</td>\n",
       "      <td>Buyout</td>\n",
       "      <td>Rest of World</td>\n",
       "      <td>Good</td>\n",
       "      <td>0</td>\n",
       "      <td>1992-03-31</td>\n",
       "      <td>-0.143824</td>\n",
       "    </tr>\n",
       "    <tr>\n",
       "      <th>1</th>\n",
       "      <td>0</td>\n",
       "      <td>1992</td>\n",
       "      <td>Buyout</td>\n",
       "      <td>Rest of World</td>\n",
       "      <td>Good</td>\n",
       "      <td>1</td>\n",
       "      <td>1992-06-30</td>\n",
       "      <td>-0.092189</td>\n",
       "    </tr>\n",
       "    <tr>\n",
       "      <th>2</th>\n",
       "      <td>0</td>\n",
       "      <td>1992</td>\n",
       "      <td>Buyout</td>\n",
       "      <td>Rest of World</td>\n",
       "      <td>Good</td>\n",
       "      <td>2</td>\n",
       "      <td>1992-09-30</td>\n",
       "      <td>-0.084082</td>\n",
       "    </tr>\n",
       "    <tr>\n",
       "      <th>3</th>\n",
       "      <td>0</td>\n",
       "      <td>1992</td>\n",
       "      <td>Buyout</td>\n",
       "      <td>Rest of World</td>\n",
       "      <td>Good</td>\n",
       "      <td>3</td>\n",
       "      <td>1992-12-31</td>\n",
       "      <td>0.000000</td>\n",
       "    </tr>\n",
       "    <tr>\n",
       "      <th>4</th>\n",
       "      <td>0</td>\n",
       "      <td>1992</td>\n",
       "      <td>Buyout</td>\n",
       "      <td>Rest of World</td>\n",
       "      <td>Good</td>\n",
       "      <td>4</td>\n",
       "      <td>1993-03-31</td>\n",
       "      <td>-0.073827</td>\n",
       "    </tr>\n",
       "    <tr>\n",
       "      <th>...</th>\n",
       "      <td>...</td>\n",
       "      <td>...</td>\n",
       "      <td>...</td>\n",
       "      <td>...</td>\n",
       "      <td>...</td>\n",
       "      <td>...</td>\n",
       "      <td>...</td>\n",
       "      <td>...</td>\n",
       "    </tr>\n",
       "    <tr>\n",
       "      <th>118681</th>\n",
       "      <td>2399</td>\n",
       "      <td>2001</td>\n",
       "      <td>Venture</td>\n",
       "      <td>North America</td>\n",
       "      <td>Good</td>\n",
       "      <td>48</td>\n",
       "      <td>2013-03-31</td>\n",
       "      <td>0.061353</td>\n",
       "    </tr>\n",
       "    <tr>\n",
       "      <th>118682</th>\n",
       "      <td>2399</td>\n",
       "      <td>2001</td>\n",
       "      <td>Venture</td>\n",
       "      <td>North America</td>\n",
       "      <td>Good</td>\n",
       "      <td>49</td>\n",
       "      <td>2013-06-30</td>\n",
       "      <td>0.000000</td>\n",
       "    </tr>\n",
       "    <tr>\n",
       "      <th>118683</th>\n",
       "      <td>2399</td>\n",
       "      <td>2001</td>\n",
       "      <td>Venture</td>\n",
       "      <td>North America</td>\n",
       "      <td>Good</td>\n",
       "      <td>50</td>\n",
       "      <td>2013-09-30</td>\n",
       "      <td>0.000000</td>\n",
       "    </tr>\n",
       "    <tr>\n",
       "      <th>118684</th>\n",
       "      <td>2399</td>\n",
       "      <td>2001</td>\n",
       "      <td>Venture</td>\n",
       "      <td>North America</td>\n",
       "      <td>Good</td>\n",
       "      <td>51</td>\n",
       "      <td>2013-12-31</td>\n",
       "      <td>0.000000</td>\n",
       "    </tr>\n",
       "    <tr>\n",
       "      <th>118685</th>\n",
       "      <td>2399</td>\n",
       "      <td>2001</td>\n",
       "      <td>Venture</td>\n",
       "      <td>North America</td>\n",
       "      <td>Good</td>\n",
       "      <td>52</td>\n",
       "      <td>2014-03-31</td>\n",
       "      <td>0.000000</td>\n",
       "    </tr>\n",
       "  </tbody>\n",
       "</table>\n",
       "<p>118686 rows × 8 columns</p>\n",
       "</div>"
      ],
      "text/plain": [
       "        FundID  VintageYear Strategy      Geography FundQuality  Quarter  \\\n",
       "0            0         1992   Buyout  Rest of World        Good        0   \n",
       "1            0         1992   Buyout  Rest of World        Good        1   \n",
       "2            0         1992   Buyout  Rest of World        Good        2   \n",
       "3            0         1992   Buyout  Rest of World        Good        3   \n",
       "4            0         1992   Buyout  Rest of World        Good        4   \n",
       "...        ...          ...      ...            ...         ...      ...   \n",
       "118681    2399         2001  Venture  North America        Good       48   \n",
       "118682    2399         2001  Venture  North America        Good       49   \n",
       "118683    2399         2001  Venture  North America        Good       50   \n",
       "118684    2399         2001  Venture  North America        Good       51   \n",
       "118685    2399         2001  Venture  North America        Good       52   \n",
       "\n",
       "             date  Cashflow  \n",
       "0      1992-03-31 -0.143824  \n",
       "1      1992-06-30 -0.092189  \n",
       "2      1992-09-30 -0.084082  \n",
       "3      1992-12-31  0.000000  \n",
       "4      1993-03-31 -0.073827  \n",
       "...           ...       ...  \n",
       "118681 2013-03-31  0.061353  \n",
       "118682 2013-06-30  0.000000  \n",
       "118683 2013-09-30  0.000000  \n",
       "118684 2013-12-31  0.000000  \n",
       "118685 2014-03-31  0.000000  \n",
       "\n",
       "[118686 rows x 8 columns]"
      ]
     },
     "execution_count": 16,
     "metadata": {},
     "output_type": "execute_result"
    }
   ],
   "source": [
    "# Normalize the cashflows of each fund in the market\n",
    "\n",
    "def fund_weights(cashflows):\n",
    "    funds = cashflows['FundID'].unique() \n",
    "    weights = {}\n",
    "    for fund in funds:\n",
    "        fund_cashflows = cashflows[cashflows['FundID'] == fund]\n",
    "        weights[fund] = -fund_cashflows['Cashflow'].sum()\n",
    "    return weights\n",
    "\n",
    "cashflows_contr = cashflows[cashflows['Cashflow'] < 0]\n",
    "eq_cashflows_contr = fund_weights(cashflows_contr)\n",
    "\n",
    "def eq_calc(row):\n",
    "    fund = row['FundID']\n",
    "    cf = row['Cashflow']\n",
    "    \n",
    "    return cf / eq_cashflows_contr[fund]\n",
    "\n",
    "# Apply the function row-wise\n",
    "cashflows['eq_cashflow'] = cashflows.apply(eq_calc, axis=1)\n",
    "\n",
    "# Drop and rename\n",
    "cashflows = cashflows.drop(columns=['Cashflow']).rename(columns={'eq_cashflow': 'Cashflow'})\n",
    "\n",
    "cashflows"
   ]
  },
  {
   "cell_type": "code",
   "execution_count": 17,
   "id": "63809543",
   "metadata": {},
   "outputs": [],
   "source": [
    "def portfolio_cashflows(cashflows, portfolio_size):\n",
    "    # Randomly select fund IDs\n",
    "    selected_funds = np.random.choice(cashflows['FundID'].unique(), size=portfolio_size, replace=False)\n",
    "    \n",
    "    # Create a random size adjustment for each selected fund\n",
    "    size_adjustments = {fund: np.random.uniform(0.5, 2.0) for fund in selected_funds}\n",
    "    \n",
    "    # Filter the portfolio\n",
    "    portfolio = cashflows[cashflows['FundID'].isin(selected_funds)].copy()\n",
    "    \n",
    "    # Apply the size adjustment\n",
    "    portfolio['Cashflow'] = portfolio.apply(lambda row: row['Cashflow'] * size_adjustments[row['FundID']], axis=1)\n",
    "    \n",
    "    return portfolio"
   ]
  },
  {
   "cell_type": "code",
   "execution_count": 10,
   "id": "b25f74fd",
   "metadata": {},
   "outputs": [],
   "source": [
    "port_cfs = portfolio_cashflows(cashflows, 200)\n",
    "port_cfs = port_cfs.copy()\n",
    "model = model_builder(cashflows, port_cfs)"
   ]
  },
  {
   "cell_type": "markdown",
   "id": "3b5a30a1",
   "metadata": {},
   "source": [
    "### Monte-carlo simulation"
   ]
  },
  {
   "cell_type": "code",
   "execution_count": 18,
   "id": "1f87eb8c",
   "metadata": {},
   "outputs": [
    {
     "data": {
      "text/plain": [
       "({'Portfolio MOIC': 1.4055335034178185,\n",
       "  'Market MOIC': 1.4055335034178185,\n",
       "  'Timing Alpha MOIC': -2.220446049250313e-16,\n",
       "  'Strategy Alpha MOIC': -2.220446049250313e-16,\n",
       "  'Geography Alpha MOIC': -2.220446049250313e-16,\n",
       "  'Sizing Alpha MOIC': 0.0,\n",
       "  'Residual Alpha MOIC': 6.661338147750939e-16},\n",
       " {'Portfolio IRR': 0.0564498673454297,\n",
       "  'Market IRR': 0.0564498673454297,\n",
       "  'Timing Alpha IRR': 2.0816681711721685e-17,\n",
       "  'Strategy Alpha IRR': 5.551115123125783e-17,\n",
       "  'Geography Alpha IRR': 2.0816681711721685e-17,\n",
       "  'Sizing Alpha IRR': -1.3877787807814457e-17,\n",
       "  'Residual Alpha IRR': -8.326672684688674e-17})"
      ]
     },
     "execution_count": 18,
     "metadata": {},
     "output_type": "execute_result"
    }
   ],
   "source": [
    "market_model = model_builder(cashflows, cashflows)\n",
    "market_model"
   ]
  },
  {
   "cell_type": "code",
   "execution_count": 24,
   "id": "2f6673eb",
   "metadata": {},
   "outputs": [],
   "source": [
    "number_of_simulations = 50\n",
    "fund_size = 200\n",
    "moic_results = []\n",
    "irr_results = []\n",
    "\n",
    "for i in range(number_of_simulations):\n",
    "    port_cfs = portfolio_cashflows(cashflows, fund_size)\n",
    "    port_cfs = port_cfs.copy()\n",
    "    model = model_builder(cashflows, port_cfs)\n",
    "    moic_results.append(model[0])\n",
    "    irr_results.append(model[1])\n"
   ]
  },
  {
   "cell_type": "code",
   "execution_count": 25,
   "id": "9c6a8eea",
   "metadata": {},
   "outputs": [],
   "source": [
    "def average_dicts(dict_list):\n",
    "    \"\"\"Compute the average of a list of dictionaries.\"\"\"\n",
    "    keys = dict_list[0].keys()\n",
    "    avg_dict = {}\n",
    "    for key in keys:\n",
    "        avg_dict[key] = sum(d[key] for d in dict_list) / len(dict_list)\n",
    "    return avg_dict"
   ]
  },
  {
   "cell_type": "code",
   "execution_count": 26,
   "id": "29831d96",
   "metadata": {},
   "outputs": [],
   "source": [
    "avg_moic_decomposition = average_dicts(moic_results)\n",
    "avg_irr_decomposition = average_dicts(irr_results)"
   ]
  },
  {
   "cell_type": "code",
   "execution_count": 27,
   "id": "7bd74e13",
   "metadata": {},
   "outputs": [
    {
     "data": {
      "text/plain": [
       "{'Portfolio IRR': 0.05586047065361904,\n",
       " 'Market IRR': 0.05644986734542974,\n",
       " 'Timing Alpha IRR': -3.838962951460467e-05,\n",
       " 'Strategy Alpha IRR': -7.542901584329408e-05,\n",
       " 'Geography Alpha IRR': -3.1714074922789965e-05,\n",
       " 'Sizing Alpha IRR': -0.00036070214041277333,\n",
       " 'Residual Alpha IRR': -8.316183111719096e-05}"
      ]
     },
     "execution_count": 27,
     "metadata": {},
     "output_type": "execute_result"
    }
   ],
   "source": [
    "avg_irr_decomposition"
   ]
  },
  {
   "cell_type": "code",
   "execution_count": 28,
   "id": "f8a3cc37",
   "metadata": {},
   "outputs": [
    {
     "data": {
      "text/plain": [
       "{'Portfolio MOIC': 1.401314540995462,\n",
       " 'Market MOIC': 1.4055335034178191,\n",
       " 'Timing Alpha MOIC': -0.00017208641137145709,\n",
       " 'Strategy Alpha MOIC': -0.00039349873434086025,\n",
       " 'Geography Alpha MOIC': -0.0003161807849346232,\n",
       " 'Sizing Alpha MOIC': -0.002714362627578342,\n",
       " 'Residual Alpha MOIC': -0.0006228338641310404}"
      ]
     },
     "execution_count": 28,
     "metadata": {},
     "output_type": "execute_result"
    }
   ],
   "source": [
    "avg_moic_decomposition"
   ]
  },
  {
   "cell_type": "code",
   "execution_count": null,
   "id": "69900bc9",
   "metadata": {},
   "outputs": [],
   "source": []
  }
 ],
 "metadata": {
  "kernelspec": {
   "display_name": "Python 3",
   "language": "python",
   "name": "python3"
  },
  "language_info": {
   "codemirror_mode": {
    "name": "ipython",
    "version": 3
   },
   "file_extension": ".py",
   "mimetype": "text/x-python",
   "name": "python",
   "nbconvert_exporter": "python",
   "pygments_lexer": "ipython3",
   "version": "3.11.9"
  }
 },
 "nbformat": 4,
 "nbformat_minor": 5
}
