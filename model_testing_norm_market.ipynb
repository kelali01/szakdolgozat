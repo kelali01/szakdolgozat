{
 "cells": [
  {
   "cell_type": "markdown",
   "id": "2c174e25",
   "metadata": {},
   "source": [
    "## Normalized market with sizing effect"
   ]
  },
  {
   "cell_type": "code",
   "execution_count": 1,
   "id": "2a69648c",
   "metadata": {},
   "outputs": [],
   "source": [
    "from model_builder import model_builder\n",
    "from data_gen import simulate_private_equity_cashflows\n",
    "import numpy as np"
   ]
  },
  {
   "cell_type": "code",
   "execution_count": 2,
   "id": "6fc6cef0",
   "metadata": {},
   "outputs": [],
   "source": [
    "cashflows = simulate_private_equity_cashflows()"
   ]
  },
  {
   "cell_type": "code",
   "execution_count": 3,
   "id": "fcdf7e4a",
   "metadata": {},
   "outputs": [
    {
     "data": {
      "text/html": [
       "<div>\n",
       "<style scoped>\n",
       "    .dataframe tbody tr th:only-of-type {\n",
       "        vertical-align: middle;\n",
       "    }\n",
       "\n",
       "    .dataframe tbody tr th {\n",
       "        vertical-align: top;\n",
       "    }\n",
       "\n",
       "    .dataframe thead th {\n",
       "        text-align: right;\n",
       "    }\n",
       "</style>\n",
       "<table border=\"1\" class=\"dataframe\">\n",
       "  <thead>\n",
       "    <tr style=\"text-align: right;\">\n",
       "      <th></th>\n",
       "      <th>FundID</th>\n",
       "      <th>VintageYear</th>\n",
       "      <th>Strategy</th>\n",
       "      <th>Geography</th>\n",
       "      <th>FundQuality</th>\n",
       "      <th>Quarter</th>\n",
       "      <th>date</th>\n",
       "      <th>Cashflow</th>\n",
       "    </tr>\n",
       "  </thead>\n",
       "  <tbody>\n",
       "    <tr>\n",
       "      <th>0</th>\n",
       "      <td>0</td>\n",
       "      <td>1996</td>\n",
       "      <td>Buyout</td>\n",
       "      <td>North America</td>\n",
       "      <td>Bad</td>\n",
       "      <td>0</td>\n",
       "      <td>1996-03-31</td>\n",
       "      <td>-0.229863</td>\n",
       "    </tr>\n",
       "    <tr>\n",
       "      <th>1</th>\n",
       "      <td>0</td>\n",
       "      <td>1996</td>\n",
       "      <td>Buyout</td>\n",
       "      <td>North America</td>\n",
       "      <td>Bad</td>\n",
       "      <td>1</td>\n",
       "      <td>1996-06-30</td>\n",
       "      <td>0.000000</td>\n",
       "    </tr>\n",
       "    <tr>\n",
       "      <th>2</th>\n",
       "      <td>0</td>\n",
       "      <td>1996</td>\n",
       "      <td>Buyout</td>\n",
       "      <td>North America</td>\n",
       "      <td>Bad</td>\n",
       "      <td>2</td>\n",
       "      <td>1996-09-30</td>\n",
       "      <td>-0.134382</td>\n",
       "    </tr>\n",
       "    <tr>\n",
       "      <th>3</th>\n",
       "      <td>0</td>\n",
       "      <td>1996</td>\n",
       "      <td>Buyout</td>\n",
       "      <td>North America</td>\n",
       "      <td>Bad</td>\n",
       "      <td>3</td>\n",
       "      <td>1996-12-31</td>\n",
       "      <td>0.000000</td>\n",
       "    </tr>\n",
       "    <tr>\n",
       "      <th>4</th>\n",
       "      <td>0</td>\n",
       "      <td>1996</td>\n",
       "      <td>Buyout</td>\n",
       "      <td>North America</td>\n",
       "      <td>Bad</td>\n",
       "      <td>4</td>\n",
       "      <td>1997-03-31</td>\n",
       "      <td>-0.117993</td>\n",
       "    </tr>\n",
       "    <tr>\n",
       "      <th>...</th>\n",
       "      <td>...</td>\n",
       "      <td>...</td>\n",
       "      <td>...</td>\n",
       "      <td>...</td>\n",
       "      <td>...</td>\n",
       "      <td>...</td>\n",
       "      <td>...</td>\n",
       "      <td>...</td>\n",
       "    </tr>\n",
       "    <tr>\n",
       "      <th>118887</th>\n",
       "      <td>2399</td>\n",
       "      <td>2001</td>\n",
       "      <td>Venture</td>\n",
       "      <td>Rest of World</td>\n",
       "      <td>Bad</td>\n",
       "      <td>39</td>\n",
       "      <td>2010-12-31</td>\n",
       "      <td>0.000000</td>\n",
       "    </tr>\n",
       "    <tr>\n",
       "      <th>118888</th>\n",
       "      <td>2399</td>\n",
       "      <td>2001</td>\n",
       "      <td>Venture</td>\n",
       "      <td>Rest of World</td>\n",
       "      <td>Bad</td>\n",
       "      <td>40</td>\n",
       "      <td>2011-03-31</td>\n",
       "      <td>0.000000</td>\n",
       "    </tr>\n",
       "    <tr>\n",
       "      <th>118889</th>\n",
       "      <td>2399</td>\n",
       "      <td>2001</td>\n",
       "      <td>Venture</td>\n",
       "      <td>Rest of World</td>\n",
       "      <td>Bad</td>\n",
       "      <td>41</td>\n",
       "      <td>2011-06-30</td>\n",
       "      <td>0.062329</td>\n",
       "    </tr>\n",
       "    <tr>\n",
       "      <th>118890</th>\n",
       "      <td>2399</td>\n",
       "      <td>2001</td>\n",
       "      <td>Venture</td>\n",
       "      <td>Rest of World</td>\n",
       "      <td>Bad</td>\n",
       "      <td>42</td>\n",
       "      <td>2011-09-30</td>\n",
       "      <td>0.094020</td>\n",
       "    </tr>\n",
       "    <tr>\n",
       "      <th>118891</th>\n",
       "      <td>2399</td>\n",
       "      <td>2001</td>\n",
       "      <td>Venture</td>\n",
       "      <td>Rest of World</td>\n",
       "      <td>Bad</td>\n",
       "      <td>43</td>\n",
       "      <td>2011-12-31</td>\n",
       "      <td>0.000000</td>\n",
       "    </tr>\n",
       "  </tbody>\n",
       "</table>\n",
       "<p>118892 rows × 8 columns</p>\n",
       "</div>"
      ],
      "text/plain": [
       "        FundID  VintageYear Strategy      Geography FundQuality  Quarter  \\\n",
       "0            0         1996   Buyout  North America         Bad        0   \n",
       "1            0         1996   Buyout  North America         Bad        1   \n",
       "2            0         1996   Buyout  North America         Bad        2   \n",
       "3            0         1996   Buyout  North America         Bad        3   \n",
       "4            0         1996   Buyout  North America         Bad        4   \n",
       "...        ...          ...      ...            ...         ...      ...   \n",
       "118887    2399         2001  Venture  Rest of World         Bad       39   \n",
       "118888    2399         2001  Venture  Rest of World         Bad       40   \n",
       "118889    2399         2001  Venture  Rest of World         Bad       41   \n",
       "118890    2399         2001  Venture  Rest of World         Bad       42   \n",
       "118891    2399         2001  Venture  Rest of World         Bad       43   \n",
       "\n",
       "             date  Cashflow  \n",
       "0      1996-03-31 -0.229863  \n",
       "1      1996-06-30  0.000000  \n",
       "2      1996-09-30 -0.134382  \n",
       "3      1996-12-31  0.000000  \n",
       "4      1997-03-31 -0.117993  \n",
       "...           ...       ...  \n",
       "118887 2010-12-31  0.000000  \n",
       "118888 2011-03-31  0.000000  \n",
       "118889 2011-06-30  0.062329  \n",
       "118890 2011-09-30  0.094020  \n",
       "118891 2011-12-31  0.000000  \n",
       "\n",
       "[118892 rows x 8 columns]"
      ]
     },
     "execution_count": 3,
     "metadata": {},
     "output_type": "execute_result"
    }
   ],
   "source": [
    "# Normalize the cashflows of each fund in the market\n",
    "\n",
    "def fund_weights(cashflows):\n",
    "    funds = cashflows['FundID'].unique() \n",
    "    weights = {}\n",
    "    for fund in funds:\n",
    "        fund_cashflows = cashflows[cashflows['FundID'] == fund]\n",
    "        weights[fund] = -fund_cashflows['Cashflow'].sum()\n",
    "    return weights\n",
    "\n",
    "cashflows_contr = cashflows[cashflows['Cashflow'] < 0]\n",
    "eq_cashflows_contr = fund_weights(cashflows_contr)\n",
    "\n",
    "def eq_calc(row):\n",
    "    fund = row['FundID']\n",
    "    cf = row['Cashflow']\n",
    "    \n",
    "    return cf / eq_cashflows_contr[fund]\n",
    "\n",
    "# Apply the function row-wise\n",
    "cashflows['eq_cashflow'] = cashflows.apply(eq_calc, axis=1)\n",
    "\n",
    "# Drop and rename\n",
    "cashflows = cashflows.drop(columns=['Cashflow']).rename(columns={'eq_cashflow': 'Cashflow'})\n",
    "\n",
    "cashflows"
   ]
  },
  {
   "cell_type": "code",
   "execution_count": 4,
   "id": "63809543",
   "metadata": {},
   "outputs": [],
   "source": [
    "def portfolio_cashflows(cashflows, portfolio_size):\n",
    "    # Randomly select fund IDs\n",
    "    selected_funds = np.random.choice(cashflows['FundID'].unique(), size=portfolio_size, replace=False)\n",
    "    \n",
    "    # Create a random size adjustment for each selected fund\n",
    "    size_adjustments = {fund: np.random.uniform(0.5, 2.0) for fund in selected_funds}\n",
    "    \n",
    "    # Filter the portfolio\n",
    "    portfolio = cashflows[cashflows['FundID'].isin(selected_funds)].copy()\n",
    "    \n",
    "    # Apply the size adjustment\n",
    "    portfolio['Cashflow'] = portfolio.apply(lambda row: row['Cashflow'] * size_adjustments[row['FundID']], axis=1)\n",
    "    \n",
    "    return portfolio"
   ]
  },
  {
   "cell_type": "code",
   "execution_count": 5,
   "id": "b25f74fd",
   "metadata": {},
   "outputs": [],
   "source": [
    "port_cfs = portfolio_cashflows(cashflows, 200)\n",
    "port_cfs = port_cfs.copy()\n",
    "model = model_builder(cashflows, port_cfs)"
   ]
  },
  {
   "cell_type": "markdown",
   "id": "3b5a30a1",
   "metadata": {},
   "source": [
    "### Monte-carlo simulation"
   ]
  },
  {
   "cell_type": "code",
   "execution_count": 6,
   "id": "1f87eb8c",
   "metadata": {},
   "outputs": [
    {
     "data": {
      "text/plain": [
       "({'Portfolio MOIC': 1.8659841367141872,\n",
       "  'Market MOIC': 1.8659841367141872,\n",
       "  'Timing Alpha MOIC': -2.220446049250313e-16,\n",
       "  'Strategy Alpha MOIC': -2.220446049250313e-16,\n",
       "  'Geography Alpha MOIC': -2.220446049250313e-16,\n",
       "  'Sizing Alpha MOIC': 0.0,\n",
       "  'Residual Alpha MOIC': 6.661338147750939e-16},\n",
       " {'Portfolio IRR': 0.10700364847177736,\n",
       "  'Market IRR': 0.10700364847177736,\n",
       "  'Timing Alpha IRR': 0.0,\n",
       "  'Strategy Alpha IRR': -4.163336342344337e-17,\n",
       "  'Geography Alpha IRR': -2.7755575615628914e-17,\n",
       "  'Sizing Alpha IRR': 0.0,\n",
       "  'Residual Alpha IRR': 6.938893903907228e-17})"
      ]
     },
     "execution_count": 6,
     "metadata": {},
     "output_type": "execute_result"
    }
   ],
   "source": [
    "market_model = model_builder(cashflows, cashflows)\n",
    "market_model"
   ]
  },
  {
   "cell_type": "code",
   "execution_count": 7,
   "id": "2f6673eb",
   "metadata": {},
   "outputs": [],
   "source": [
    "number_of_simulations = 5\n",
    "fund_size = 200\n",
    "moic_results = []\n",
    "irr_results = []\n",
    "\n",
    "for i in range(number_of_simulations):\n",
    "    port_cfs = portfolio_cashflows(cashflows, fund_size)\n",
    "    port_cfs = port_cfs.copy()\n",
    "    model = model_builder(cashflows, port_cfs)\n",
    "    moic_results.append(model[0])\n",
    "    irr_results.append(model[1])\n"
   ]
  },
  {
   "cell_type": "code",
   "execution_count": 8,
   "id": "9c6a8eea",
   "metadata": {},
   "outputs": [],
   "source": [
    "def average_dicts(dict_list):\n",
    "    \"\"\"Compute the average of a list of dictionaries.\"\"\"\n",
    "    keys = dict_list[0].keys()\n",
    "    avg_dict = {}\n",
    "    for key in keys:\n",
    "        avg_dict[key] = sum(d[key] for d in dict_list) / len(dict_list)\n",
    "    return avg_dict"
   ]
  },
  {
   "cell_type": "code",
   "execution_count": 9,
   "id": "29831d96",
   "metadata": {},
   "outputs": [],
   "source": [
    "avg_moic_decomposition = average_dicts(moic_results)\n",
    "avg_irr_decomposition = average_dicts(irr_results)"
   ]
  },
  {
   "cell_type": "code",
   "execution_count": 10,
   "id": "7bd74e13",
   "metadata": {},
   "outputs": [
    {
     "data": {
      "text/plain": [
       "{'Portfolio IRR': 0.11035098987686284,\n",
       " 'Market IRR': 0.10700364847177737,\n",
       " 'Timing Alpha IRR': 0.0007649452191956591,\n",
       " 'Strategy Alpha IRR': -9.610702983238462e-05,\n",
       " 'Geography Alpha IRR': -6.550131895619038e-05,\n",
       " 'Sizing Alpha IRR': -0.00024422702795752206,\n",
       " 'Residual Alpha IRR': 0.002988231562635929}"
      ]
     },
     "execution_count": 10,
     "metadata": {},
     "output_type": "execute_result"
    }
   ],
   "source": [
    "avg_irr_decomposition"
   ]
  },
  {
   "cell_type": "code",
   "execution_count": 11,
   "id": "f8a3cc37",
   "metadata": {},
   "outputs": [
    {
     "data": {
      "text/plain": [
       "{'Portfolio MOIC': 1.9097955191697469,\n",
       " 'Market MOIC': 1.8659841367141872,\n",
       " 'Timing Alpha MOIC': 0.012874058027185465,\n",
       " 'Strategy Alpha MOIC': -0.0012114963470847063,\n",
       " 'Geography Alpha MOIC': -0.004609177145366905,\n",
       " 'Sizing Alpha MOIC': 0.00066120015396951,\n",
       " 'Residual Alpha MOIC': 0.03609679776685652}"
      ]
     },
     "execution_count": 11,
     "metadata": {},
     "output_type": "execute_result"
    }
   ],
   "source": [
    "avg_moic_decomposition"
   ]
  },
  {
   "cell_type": "markdown",
   "id": "ca14bb92",
   "metadata": {},
   "source": [
    "## Analyze the individual effect"
   ]
  },
  {
   "cell_type": "markdown",
   "id": "f46d0473",
   "metadata": {},
   "source": [
    "### Strategy effect"
   ]
  },
  {
   "cell_type": "code",
   "execution_count": 12,
   "id": "d5e7744e",
   "metadata": {},
   "outputs": [],
   "source": [
    "venture_ids = cashflows[cashflows['Strategy'] == 'Venture']['FundID'].unique()\n",
    "buyout_ids = cashflows[cashflows['Strategy'] == 'Buyout']['FundID'].unique()\n",
    "venture_ids = np.append(venture_ids,buyout_ids[0]) # we need at least one venture fund to make the model work\n",
    "buyout_ids = np.append(buyout_ids,venture_ids[0]) # we need at least one buyout fund to make the model work"
   ]
  },
  {
   "cell_type": "code",
   "execution_count": 13,
   "id": "2c9eb48f",
   "metadata": {},
   "outputs": [],
   "source": [
    "def portfolio_cashflows_by_id(cashflows, ids):\n",
    "\n",
    "    # Create a random size adjustment for each selected fund\n",
    "    size_adjustments = {fund: np.random.uniform(0.5, 2.0) for fund in ids}\n",
    "    \n",
    "    # Filter the portfolio\n",
    "    portfolio = cashflows[cashflows['FundID'].isin(ids)].copy()\n",
    "    \n",
    "    # Apply the size adjustment\n",
    "    portfolio['Cashflow'] = portfolio.apply(lambda row: row['Cashflow'] * size_adjustments[row['FundID']], axis=1)\n",
    "    \n",
    "    return portfolio"
   ]
  },
  {
   "cell_type": "code",
   "execution_count": 14,
   "id": "db9561ca",
   "metadata": {},
   "outputs": [],
   "source": [
    "port_cfs_venture = portfolio_cashflows_by_id(cashflows, venture_ids)\n",
    "port_cfs_venture = port_cfs_venture.copy()\n",
    "port_cfs_buyout = portfolio_cashflows_by_id(cashflows, buyout_ids)\n",
    "port_cfs_buyout = port_cfs_buyout.copy()"
   ]
  },
  {
   "cell_type": "code",
   "execution_count": 15,
   "id": "1e93f655",
   "metadata": {},
   "outputs": [
    {
     "data": {
      "text/plain": [
       "({'Portfolio MOIC': 2.1307220106786042,\n",
       "  'Market MOIC': 1.8659841367141872,\n",
       "  'Timing Alpha MOIC': 0.010459444250878969,\n",
       "  'Strategy Alpha MOIC': 0.25099844522386494,\n",
       "  'Geography Alpha MOIC': 0.008123367401277726,\n",
       "  'Sizing Alpha MOIC': 0.005894767038003401,\n",
       "  'Residual Alpha MOIC': -0.010738149949607978},\n",
       " {'Portfolio IRR': 0.13358174995709707,\n",
       "  'Market IRR': 0.10700364847177736,\n",
       "  'Timing Alpha IRR': 0.0012034586111456247,\n",
       "  'Strategy Alpha IRR': 0.025586633442360937,\n",
       "  'Geography Alpha IRR': 0.0012066377430515474,\n",
       "  'Sizing Alpha IRR': 0.0003807221550401474,\n",
       "  'Residual Alpha IRR': -0.0017993504662785487})"
      ]
     },
     "execution_count": 15,
     "metadata": {},
     "output_type": "execute_result"
    }
   ],
   "source": [
    "model_venture = model_builder(cashflows, port_cfs_venture)\n",
    "model_venture"
   ]
  },
  {
   "cell_type": "code",
   "execution_count": 16,
   "id": "b9120a7e",
   "metadata": {},
   "outputs": [
    {
     "data": {
      "text/plain": [
       "({'Portfolio MOIC': 1.6189291654167235,\n",
       "  'Market MOIC': 1.8659841367141872,\n",
       "  'Timing Alpha MOIC': -0.011787586168852338,\n",
       "  'Strategy Alpha MOIC': -0.24581104975443746,\n",
       "  'Geography Alpha MOIC': -0.004081781684751817,\n",
       "  'Sizing Alpha MOIC': 0.0004592851960487643,\n",
       "  'Residual Alpha MOIC': 0.014166161114529174},\n",
       " {'Portfolio IRR': 0.07968127078883039,\n",
       "  'Market IRR': 0.10700364847177736,\n",
       "  'Timing Alpha IRR': -0.0012396441896546928,\n",
       "  'Strategy Alpha IRR': -0.02789016954587087,\n",
       "  'Geography Alpha IRR': -0.0007219630788295461,\n",
       "  'Sizing Alpha IRR': 0.0006115657903138366,\n",
       "  'Residual Alpha IRR': 0.0019178333410942994})"
      ]
     },
     "execution_count": 16,
     "metadata": {},
     "output_type": "execute_result"
    }
   ],
   "source": [
    "model_buyout = model_builder(cashflows, port_cfs_buyout)\n",
    "model_buyout"
   ]
  },
  {
   "cell_type": "markdown",
   "id": "406ec287",
   "metadata": {},
   "source": [
    "### Geo effect"
   ]
  },
  {
   "cell_type": "code",
   "execution_count": 17,
   "id": "c2abe581",
   "metadata": {},
   "outputs": [],
   "source": [
    "america_ids = cashflows[cashflows['Geography'] == 'North America']['FundID'].unique()\n",
    "row_ids = cashflows[cashflows['Geography'] == 'Rest of World']['FundID'].unique()\n",
    "america_ids = np.append(america_ids,row_ids[0]) # we need at least one venture fund to make the model work\n",
    "row_ids = np.append(row_ids,america_ids[0]) # we need at least one buyout fund to make the model work"
   ]
  },
  {
   "cell_type": "code",
   "execution_count": 18,
   "id": "66a3bfb2",
   "metadata": {},
   "outputs": [],
   "source": [
    "port_cfs_america = portfolio_cashflows_by_id(cashflows, america_ids)\n",
    "port_cfs_america = port_cfs_america.copy()\n",
    "port_cfs_row = portfolio_cashflows_by_id(cashflows, row_ids)\n",
    "port_cfs_row = port_cfs_row.copy()"
   ]
  },
  {
   "cell_type": "code",
   "execution_count": 19,
   "id": "108b5ea3",
   "metadata": {},
   "outputs": [
    {
     "data": {
      "text/plain": [
       "({'Portfolio MOIC': 2.215339430612706,\n",
       "  'Market MOIC': 1.8659841367141872,\n",
       "  'Timing Alpha MOIC': 0.009530588797556971,\n",
       "  'Strategy Alpha MOIC': 0.0024289278883782295,\n",
       "  'Geography Alpha MOIC': 0.3533299286041145,\n",
       "  'Sizing Alpha MOIC': -0.010455325026692552,\n",
       "  'Residual Alpha MOIC': -0.005478826364838207},\n",
       " {'Portfolio IRR': 0.14249016136244627,\n",
       "  'Market IRR': 0.10700364847177736,\n",
       "  'Timing Alpha IRR': 0.0010261438375228082,\n",
       "  'Strategy Alpha IRR': 0.0008571385675121418,\n",
       "  'Geography Alpha IRR': 0.035819313914618275,\n",
       "  'Sizing Alpha IRR': -0.0006686892940592215,\n",
       "  'Residual Alpha IRR': -0.0015473941349250925})"
      ]
     },
     "execution_count": 19,
     "metadata": {},
     "output_type": "execute_result"
    }
   ],
   "source": [
    "model_america = model_builder(cashflows, port_cfs_america)\n",
    "model_america"
   ]
  },
  {
   "cell_type": "code",
   "execution_count": 20,
   "id": "53dbd0a8",
   "metadata": {},
   "outputs": [
    {
     "data": {
      "text/plain": [
       "({'Portfolio MOIC': 1.5064994211998135,\n",
       "  'Market MOIC': 1.8659841367141872,\n",
       "  'Timing Alpha MOIC': -0.0065839391001547565,\n",
       "  'Strategy Alpha MOIC': -0.00906474950364089,\n",
       "  'Geography Alpha MOIC': -0.3704222184124326,\n",
       "  'Sizing Alpha MOIC': 0.014759923192148028,\n",
       "  'Residual Alpha MOIC': 0.011826268309706567},\n",
       " {'Portfolio IRR': 0.0675333212756637,\n",
       "  'Market IRR': 0.10700364847177736,\n",
       "  'Timing Alpha IRR': -0.0003953563713513103,\n",
       "  'Strategy Alpha IRR': -0.0013467959584618772,\n",
       "  'Geography Alpha IRR': -0.041015109514384626,\n",
       "  'Sizing Alpha IRR': 0.0020024778103824165,\n",
       "  'Residual Alpha IRR': 0.0012844568377017307})"
      ]
     },
     "execution_count": 20,
     "metadata": {},
     "output_type": "execute_result"
    }
   ],
   "source": [
    "model_row = model_builder(cashflows, port_cfs_row)\n",
    "model_row"
   ]
  },
  {
   "cell_type": "markdown",
   "id": "402114a2",
   "metadata": {},
   "source": [
    "### Fund quality"
   ]
  },
  {
   "cell_type": "code",
   "execution_count": 21,
   "id": "e3afdf30",
   "metadata": {},
   "outputs": [],
   "source": [
    "good_ids = cashflows[cashflows['FundQuality'] == 'Good']['FundID'].unique()\n",
    "bad_ids = cashflows[cashflows['FundQuality'] == 'Bad']['FundID'].unique()\n",
    "good_ids = np.append(good_ids,bad_ids[0]) # we need at least one venture fund to make the model work\n",
    "bad_ids = np.append(bad_ids,good_ids[0]) # we need at least one buyout fund to make the model work"
   ]
  },
  {
   "cell_type": "code",
   "execution_count": 22,
   "id": "092f975f",
   "metadata": {},
   "outputs": [],
   "source": [
    "port_cfs_good = portfolio_cashflows_by_id(cashflows, good_ids)\n",
    "port_cfs_good = port_cfs_good.copy()    \n",
    "port_cfs_bad = portfolio_cashflows_by_id(cashflows, bad_ids)\n",
    "port_cfs_bad = port_cfs_bad.copy()"
   ]
  },
  {
   "cell_type": "code",
   "execution_count": 23,
   "id": "a53cd431",
   "metadata": {},
   "outputs": [
    {
     "data": {
      "text/plain": [
       "({'Portfolio MOIC': 2.4357908818174066,\n",
       "  'Market MOIC': 1.8659841367141872,\n",
       "  'Timing Alpha MOIC': 0.008844053333528334,\n",
       "  'Strategy Alpha MOIC': 0.010161260515637593,\n",
       "  'Geography Alpha MOIC': -0.00211844841891784,\n",
       "  'Sizing Alpha MOIC': 0.007101389522495172,\n",
       "  'Residual Alpha MOIC': 0.5458184901504761},\n",
       " {'Portfolio IRR': 0.15877857117173935,\n",
       "  'Market IRR': 0.10700364847177736,\n",
       "  'Timing Alpha IRR': 0.00014590322107685405,\n",
       "  'Strategy Alpha IRR': 0.001526942697399683,\n",
       "  'Geography Alpha IRR': -0.00062567239587763,\n",
       "  'Sizing Alpha IRR': -0.000443191369215834,\n",
       "  'Residual Alpha IRR': 0.05117094054657892})"
      ]
     },
     "execution_count": 23,
     "metadata": {},
     "output_type": "execute_result"
    }
   ],
   "source": [
    "model_good = model_builder(cashflows, port_cfs_good)\n",
    "model_good"
   ]
  },
  {
   "cell_type": "code",
   "execution_count": 24,
   "id": "877da297",
   "metadata": {},
   "outputs": [
    {
     "data": {
      "text/plain": [
       "({'Portfolio MOIC': 1.3062081343651262,\n",
       "  'Market MOIC': 1.8659841367141872,\n",
       "  'Timing Alpha MOIC': -0.0033119021663710058,\n",
       "  'Strategy Alpha MOIC': -0.015104040933716645,\n",
       "  'Geography Alpha MOIC': 0.0010317089595899276,\n",
       "  'Sizing Alpha MOIC': -0.004514611813349223,\n",
       "  'Residual Alpha MOIC': -0.537877156395214},\n",
       " {'Portfolio IRR': 0.042978868084557725,\n",
       "  'Market IRR': 0.10700364847177736,\n",
       "  'Timing Alpha IRR': -5.856616120070157e-06,\n",
       "  'Strategy Alpha IRR': -0.0021387741463764626,\n",
       "  'Geography Alpha IRR': -4.1441670252384544e-07,\n",
       "  'Sizing Alpha IRR': -0.0005533855618239311,\n",
       "  'Residual Alpha IRR': -0.06132634964619665})"
      ]
     },
     "execution_count": 24,
     "metadata": {},
     "output_type": "execute_result"
    }
   ],
   "source": [
    "model_bad = model_builder(cashflows, port_cfs_bad)\n",
    "model_bad"
   ]
  },
  {
   "cell_type": "markdown",
   "id": "b8b787c9",
   "metadata": {},
   "source": [
    "### Vintage effect"
   ]
  },
  {
   "cell_type": "code",
   "execution_count": 32,
   "id": "1765fbc2",
   "metadata": {},
   "outputs": [],
   "source": [
    "vintage_ids = {}\n",
    "for vint in cashflows['VintageYear'].unique():\n",
    "    vint_ids = cashflows[cashflows['VintageYear'] == vint]['FundID'].unique()\n",
    "    vintage_ids[vint] = vint_ids"
   ]
  },
  {
   "cell_type": "code",
   "execution_count": 33,
   "id": "c0167782",
   "metadata": {},
   "outputs": [],
   "source": [
    "import random\n",
    "def pick_one_per_vintage(fund_dict):\n",
    "    selected_ids = []\n",
    "\n",
    "    for vintage, fund_ids in fund_dict.items():\n",
    "        # Randomly pick one fund from this vintage\n",
    "        fund_ids = list(fund_ids)  # ensure it's a list\n",
    "        selected_id = random.choice(fund_ids)\n",
    "        selected_ids.append(selected_id)\n",
    "\n",
    "    return np.array(selected_ids)\n",
    "\n",
    "one_from_each = pick_one_per_vintage(vintage_ids)"
   ]
  },
  {
   "cell_type": "code",
   "execution_count": 34,
   "id": "4e598497",
   "metadata": {},
   "outputs": [],
   "source": [
    "good_vintage_ids = cashflows[cashflows['VintageYear'] % 2 == 1]['FundID'].unique()\n",
    "bad_vintage_ids = cashflows[cashflows['VintageYear'] % 2 == 0]['FundID'].unique()\n",
    "good_vintage_ids = np.append(good_vintage_ids,one_from_each) # we need at least one venture fund to make the model work\n",
    "bad_vintage_ids = np.append(bad_vintage_ids,one_from_each) # we need at least one buyout fund to make the model work"
   ]
  },
  {
   "cell_type": "code",
   "execution_count": 35,
   "id": "e49693ac",
   "metadata": {},
   "outputs": [],
   "source": [
    "port_cfs_good_vintage = portfolio_cashflows_by_id(cashflows, good_vintage_ids)\n",
    "port_cfs_good_vintage = port_cfs_good_vintage.copy()\n",
    "port_cfs_bad_vintage = portfolio_cashflows_by_id(cashflows, bad_vintage_ids)\n",
    "port_cfs_bad_vintage = port_cfs_bad_vintage.copy()"
   ]
  },
  {
   "cell_type": "code",
   "execution_count": 36,
   "id": "c1096b7d",
   "metadata": {},
   "outputs": [
    {
     "data": {
      "text/plain": [
       "({'Portfolio MOIC': 2.1753993778962935,\n",
       "  'Market MOIC': 1.8659841367141872,\n",
       "  'Timing Alpha MOIC': 0.3065413954400844,\n",
       "  'Strategy Alpha MOIC': -0.00796869089632457,\n",
       "  'Geography Alpha MOIC': -0.07389514749690496,\n",
       "  'Sizing Alpha MOIC': 0.0018487013197843183,\n",
       "  'Residual Alpha MOIC': 0.08288898281546708},\n",
       " {'Portfolio IRR': 0.1381494495053371,\n",
       "  'Market IRR': 0.10700364847177736,\n",
       "  'Timing Alpha IRR': 0.030376983997692744,\n",
       "  'Strategy Alpha IRR': -0.00292608712368618,\n",
       "  'Geography Alpha IRR': -0.005567584225425734,\n",
       "  'Sizing Alpha IRR': 0.0004958585013156436,\n",
       "  'Residual Alpha IRR': 0.00876662988366328})"
      ]
     },
     "execution_count": 36,
     "metadata": {},
     "output_type": "execute_result"
    }
   ],
   "source": [
    "model_good_vintage = model_builder(cashflows, port_cfs_good_vintage)\n",
    "model_good_vintage"
   ]
  },
  {
   "cell_type": "code",
   "execution_count": 37,
   "id": "a2d14209",
   "metadata": {},
   "outputs": [
    {
     "data": {
      "text/plain": [
       "({'Portfolio MOIC': 1.5630881556325384,\n",
       "  'Market MOIC': 1.8659841367141872,\n",
       "  'Timing Alpha MOIC': -0.28195900909919946,\n",
       "  'Strategy Alpha MOIC': 0.02408910228562644,\n",
       "  'Geography Alpha MOIC': 0.09591753007544779,\n",
       "  'Sizing Alpha MOIC': -0.017313241158406267,\n",
       "  'Residual Alpha MOIC': -0.12363036318511722},\n",
       " {'Portfolio IRR': 0.07580988520990174,\n",
       "  'Market IRR': 0.10700364847177736,\n",
       "  'Timing Alpha IRR': -0.028657949157842977,\n",
       "  'Strategy Alpha IRR': -0.0009477553443312525,\n",
       "  'Geography Alpha IRR': 0.0157105633793784,\n",
       "  'Sizing Alpha IRR': -0.0019092389997017595,\n",
       "  'Residual Alpha IRR': -0.01538938313937803})"
      ]
     },
     "execution_count": 37,
     "metadata": {},
     "output_type": "execute_result"
    }
   ],
   "source": [
    "model_bad_vintage = model_builder(cashflows, port_cfs_bad_vintage)\n",
    "model_bad_vintage"
   ]
  }
 ],
 "metadata": {
  "kernelspec": {
   "display_name": "Python 3",
   "language": "python",
   "name": "python3"
  },
  "language_info": {
   "codemirror_mode": {
    "name": "ipython",
    "version": 3
   },
   "file_extension": ".py",
   "mimetype": "text/x-python",
   "name": "python",
   "nbconvert_exporter": "python",
   "pygments_lexer": "ipython3",
   "version": "3.11.9"
  }
 },
 "nbformat": 4,
 "nbformat_minor": 5
}
