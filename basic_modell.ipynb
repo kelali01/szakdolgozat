{
 "cells": [
  {
   "cell_type": "code",
   "execution_count": 385,
   "id": "5f16f4ab",
   "metadata": {},
   "outputs": [],
   "source": [
    "from data_gen import simulate_private_equity_cashflows\n",
    "from pme_calc import moic, xirr\n",
    "import numpy as np\n",
    "import pandas as pd\n",
    "import matplotlib.pyplot as plt"
   ]
  },
  {
   "cell_type": "code",
   "execution_count": 386,
   "id": "6728e78b",
   "metadata": {},
   "outputs": [],
   "source": [
    "cashflows = simulate_private_equity_cashflows()"
   ]
  },
  {
   "cell_type": "markdown",
   "id": "26cf1068",
   "metadata": {},
   "source": [
    "### Market moic and irr"
   ]
  },
  {
   "cell_type": "code",
   "execution_count": 387,
   "id": "6a6c294d",
   "metadata": {},
   "outputs": [],
   "source": [
    "aggregated_df = cashflows.groupby('date', as_index=False)['Cashflow'].sum()"
   ]
  },
  {
   "cell_type": "code",
   "execution_count": 388,
   "id": "52223797",
   "metadata": {},
   "outputs": [
    {
     "name": "stdout",
     "output_type": "stream",
     "text": [
      "1.3270372687282335 0.046373685193977006\n"
     ]
    }
   ],
   "source": [
    "market_moic = moic(cashflows)\n",
    "market_irr = xirr(aggregated_df['date'], aggregated_df['Cashflow'])\n",
    "print(market_moic, market_irr)"
   ]
  },
  {
   "cell_type": "code",
   "execution_count": 389,
   "id": "b4e27ac0",
   "metadata": {},
   "outputs": [
    {
     "data": {
      "text/plain": [
       "array([   4,    8,    9, ..., 2389, 2394, 2396], dtype=int64)"
      ]
     },
     "execution_count": 389,
     "metadata": {},
     "output_type": "execute_result"
    }
   ],
   "source": [
    "good_funds = cashflows[cashflows['Strategy'] == 'Buyout']['FundID'].unique()\n",
    "good_funds"
   ]
  },
  {
   "cell_type": "markdown",
   "id": "a8fa079f",
   "metadata": {},
   "source": [
    "### Portfolio moic and irr"
   ]
  },
  {
   "cell_type": "code",
   "execution_count": 390,
   "id": "cc7d52ed",
   "metadata": {},
   "outputs": [],
   "source": [
    "def portfolio_cashflows(cashflows, portfolio_size):\n",
    "    \n",
    "    selected_funds = np.random.choice(cashflows['FundID'].unique(), size=portfolio_size, replace=False)\n",
    "    portfolio = cashflows[cashflows['FundID'].isin(selected_funds)]\n",
    "\n",
    "    return portfolio\n"
   ]
  },
  {
   "cell_type": "code",
   "execution_count": 391,
   "id": "4956b328",
   "metadata": {},
   "outputs": [],
   "source": [
    "port_cfs = portfolio_cashflows(cashflows, 200)\n",
    "port_cfs = port_cfs.copy()"
   ]
  },
  {
   "cell_type": "code",
   "execution_count": 392,
   "id": "34eb6405",
   "metadata": {},
   "outputs": [
    {
     "name": "stdout",
     "output_type": "stream",
     "text": [
      "1.323150880385777 0.047345397661785804\n"
     ]
    }
   ],
   "source": [
    "aggregated_portfolio_df = port_cfs.groupby('date', as_index=False)['Cashflow'].sum()\n",
    "port_moic = moic(port_cfs)\n",
    "port_irr = xirr(aggregated_portfolio_df['date'], aggregated_portfolio_df['Cashflow'])\n",
    "print(port_moic, port_irr)"
   ]
  },
  {
   "cell_type": "markdown",
   "id": "fa0a8ee8",
   "metadata": {},
   "source": [
    "### Timing alpha"
   ]
  },
  {
   "cell_type": "code",
   "execution_count": 393,
   "id": "f6bf1344",
   "metadata": {},
   "outputs": [],
   "source": [
    "def vintage_weigths(cashflows):\n",
    "    vintages = cashflows['VintageYear'].unique()\n",
    "    weights = {}\n",
    "    for vintage in vintages:\n",
    "        vintage_cashflows = cashflows[cashflows['VintageYear'] == vintage]\n",
    "        weights[vintage] = vintage_cashflows['Cashflow'].sum() / cashflows['Cashflow'].sum()\n",
    "    return weights"
   ]
  },
  {
   "cell_type": "code",
   "execution_count": 394,
   "id": "55229753",
   "metadata": {},
   "outputs": [],
   "source": [
    "def vintage_aggregate(cashflows):\n",
    "    vintages = cashflows['VintageYear'].unique()\n",
    "    weights = {}\n",
    "    for vintage in vintages:\n",
    "        vintage_cashflows = cashflows[cashflows['VintageYear'] == vintage]\n",
    "        weights[vintage] = vintage_cashflows['Cashflow'].sum()\n",
    "    return weights"
   ]
  },
  {
   "cell_type": "code",
   "execution_count": 395,
   "id": "7a54cb34",
   "metadata": {},
   "outputs": [],
   "source": [
    "cashflows_contr = cashflows[cashflows['Cashflow'] < 0]\n",
    "cashflows_distr = cashflows[cashflows['Cashflow'] > 0]\n",
    "port_cfs_contr = port_cfs[port_cfs['Cashflow'] < 0]\n",
    "port_cfs_distr = port_cfs[port_cfs['Cashflow'] > 0]\n",
    "vintage_market_contr = vintage_weigths(cashflows_contr)\n",
    "vintage_market_distr = vintage_weigths(cashflows_distr)\n",
    "vintage_port_contr = vintage_weigths(port_cfs_contr)\n",
    "vintage_port_distr = vintage_weigths(port_cfs_distr)\n",
    "vintage_market_contr_agg = vintage_aggregate(cashflows_contr)\n",
    "vintage_market_distr_agg = vintage_aggregate(cashflows_distr)"
   ]
  },
  {
   "cell_type": "code",
   "execution_count": 396,
   "id": "83c55345",
   "metadata": {},
   "outputs": [],
   "source": [
    "def adjust_cashflow(row):\n",
    "    vintage = row['VintageYear']\n",
    "    cf = row['Cashflow']\n",
    "    if cf < 0:\n",
    "        # Contribution (negative cashflow)\n",
    "        weight = -1 * (vintage_port_contr[vintage] / vintage_market_contr_agg[vintage])\n",
    "    elif cf > 0:\n",
    "        # Distribution (positive cashflow)\n",
    "        # weight = vintage_port_distr[vintage] / vintage_market_distr_agg[vintage]\n",
    "        weight = -1 * (vintage_port_contr[vintage] / vintage_market_contr_agg[vintage])\n",
    "    else:\n",
    "        # Zero cashflow stays unchanged\n",
    "        weight = 1\n",
    "    return cf * weight\n",
    "\n",
    "# Apply the function row-wise\n",
    "cashflows['adjusted_cashflow'] = cashflows.apply(adjust_cashflow, axis=1)"
   ]
  },
  {
   "cell_type": "code",
   "execution_count": 397,
   "id": "13027de0",
   "metadata": {},
   "outputs": [],
   "source": [
    "timing_moic = (cashflows[cashflows['adjusted_cashflow'] > 0]['adjusted_cashflow'].sum()) / (-cashflows[cashflows['adjusted_cashflow'] < 0]['adjusted_cashflow'].sum())\n",
    "timing_aggregated_df = cashflows.groupby('date', as_index=False)['adjusted_cashflow'].sum()\n",
    "timing_irr = xirr(timing_aggregated_df['date'], timing_aggregated_df['adjusted_cashflow'])"
   ]
  },
  {
   "cell_type": "code",
   "execution_count": 398,
   "id": "472c41f7",
   "metadata": {},
   "outputs": [
    {
     "name": "stdout",
     "output_type": "stream",
     "text": [
      "-0.002375690672021369\n",
      "-0.00031773160347406404\n"
     ]
    }
   ],
   "source": [
    "print(timing_moic - market_moic)\n",
    "print(timing_irr - market_irr) #todo: check if this is correct"
   ]
  },
  {
   "cell_type": "markdown",
   "id": "3c718b2b",
   "metadata": {},
   "source": [
    "### Strategy"
   ]
  },
  {
   "cell_type": "code",
   "execution_count": 399,
   "id": "4893f38a",
   "metadata": {},
   "outputs": [],
   "source": [
    "def vintage_strategy_weigths(cashflows):\n",
    "    vintages = cashflows['VintageYear'].unique()\n",
    "    strategies = cashflows['Strategy'].unique()\n",
    "    weights = {}\n",
    "    for vintage in vintages:\n",
    "        vintage_cashflows = cashflows[cashflows['VintageYear'] == vintage]\n",
    "        vintage_dict = {}\n",
    "        for strategy in strategies:\n",
    "            vintage_strategy_cashflows = cashflows[(cashflows['VintageYear'] == vintage) & (cashflows['Strategy'] == strategy)]\n",
    "            vintage_dict[strategy] = vintage_strategy_cashflows['Cashflow'].sum() / vintage_cashflows['Cashflow'].sum()\n",
    "\n",
    "        weights[vintage] = vintage_dict\n",
    "    return weights"
   ]
  },
  {
   "cell_type": "code",
   "execution_count": 400,
   "id": "4a769c9b",
   "metadata": {},
   "outputs": [],
   "source": [
    "def vintage_strategy_weigths_agg(cashflows):\n",
    "    vintages = cashflows['VintageYear'].unique()\n",
    "    strategies = cashflows['Strategy'].unique()\n",
    "    weights = {}\n",
    "    for vintage in vintages:\n",
    "        vintage_dict = {}\n",
    "        for strategy in strategies:\n",
    "            vintage_strategy_cashflows = cashflows[(cashflows['VintageYear'] == vintage) & (cashflows['Strategy'] == strategy)]\n",
    "            vintage_dict[strategy] = vintage_strategy_cashflows['Cashflow'].sum()\n",
    "\n",
    "        weights[vintage] = vintage_dict\n",
    "    return weights"
   ]
  },
  {
   "cell_type": "code",
   "execution_count": 401,
   "id": "aa497aff",
   "metadata": {},
   "outputs": [],
   "source": [
    "vintage_strategy_port_contr = vintage_strategy_weigths(port_cfs_contr)\n",
    "vintage_strategy_port_distr = vintage_strategy_weigths(port_cfs_distr)\n",
    "vintage_strategy_market_contr_agg = vintage_strategy_weigths_agg(cashflows_contr)\n",
    "vintage_strategy_market_distr_agg = vintage_strategy_weigths_agg(cashflows_distr)\n"
   ]
  },
  {
   "cell_type": "code",
   "execution_count": 402,
   "id": "c33d7a51",
   "metadata": {},
   "outputs": [],
   "source": [
    "def vint_strat_cashflow(row):\n",
    "    vintage = row['VintageYear']\n",
    "    strategy = row['Strategy']\n",
    "    cf = row['Cashflow']\n",
    "    if cf < 0:\n",
    "        # Contribution (negative cashflow)\n",
    "        weight = -1 * (vintage_strategy_port_contr[vintage][strategy] * vintage_market_contr[vintage] / vintage_strategy_market_contr_agg[vintage][strategy])\n",
    "    elif cf > 0:\n",
    "        # Distribution (positive cashflow)\n",
    "        # weight = vintage_strategy_port_distr[vintage][strategy] * vintage_market_distr[vintage] / vintage_strategy_market_distr_agg[vintage][strategy]\n",
    "        weight = -1 * (vintage_strategy_port_contr[vintage][strategy] * vintage_market_contr[vintage] / vintage_strategy_market_contr_agg[vintage][strategy])\n",
    "    else:\n",
    "        # Zero cashflow stays unchanged\n",
    "        weight = 1\n",
    "    return cf * weight\n",
    "\n",
    "# Apply the function row-wise\n",
    "cashflows['vint_strat_adjusted_cashflow'] = cashflows.apply(vint_strat_cashflow, axis=1)"
   ]
  },
  {
   "cell_type": "code",
   "execution_count": 403,
   "id": "93d2baf4",
   "metadata": {},
   "outputs": [],
   "source": [
    "strategy_moic = (cashflows[cashflows['vint_strat_adjusted_cashflow'] > 0]['vint_strat_adjusted_cashflow'].sum()) / (-cashflows[cashflows['vint_strat_adjusted_cashflow'] < 0]['vint_strat_adjusted_cashflow'].sum())\n",
    "strategy_aggregated_df = cashflows.groupby('date', as_index=False)['vint_strat_adjusted_cashflow'].sum()\n",
    "strategy_irr = xirr(strategy_aggregated_df['date'], strategy_aggregated_df['vint_strat_adjusted_cashflow'])"
   ]
  },
  {
   "cell_type": "code",
   "execution_count": 404,
   "id": "b04f5611",
   "metadata": {},
   "outputs": [
    {
     "name": "stdout",
     "output_type": "stream",
     "text": [
      "-0.00011602369290297787\n",
      "-9.484033285673404e-05\n"
     ]
    }
   ],
   "source": [
    "print(strategy_moic-market_moic)\n",
    "print(strategy_irr-market_irr) #todo: check if this is correct"
   ]
  },
  {
   "cell_type": "markdown",
   "id": "c056b7e6",
   "metadata": {},
   "source": [
    "### Geography"
   ]
  },
  {
   "cell_type": "code",
   "execution_count": 405,
   "id": "03b30093",
   "metadata": {},
   "outputs": [],
   "source": [
    "def vintage_geo_weigths(cashflows):\n",
    "    vintages = cashflows['VintageYear'].unique()\n",
    "    geos = cashflows['Geography'].unique()\n",
    "    weights = {}\n",
    "    for vintage in vintages:\n",
    "        vintage_cashflows = cashflows[cashflows['VintageYear'] == vintage]\n",
    "        vintage_dict = {}\n",
    "        for geo in geos:\n",
    "            vintage_geo_cashflows = cashflows[(cashflows['VintageYear'] == vintage) & (cashflows['Geography'] == geo)]\n",
    "            vintage_dict[geo] = vintage_geo_cashflows['Cashflow'].sum() / vintage_cashflows['Cashflow'].sum()\n",
    "\n",
    "        weights[vintage] = vintage_dict\n",
    "    return weights"
   ]
  },
  {
   "cell_type": "code",
   "execution_count": 406,
   "id": "ef62f31a",
   "metadata": {},
   "outputs": [],
   "source": [
    "def vintage_geo_weigths_agg(cashflows):\n",
    "    vintages = cashflows['VintageYear'].unique()\n",
    "    geos = cashflows['Geography'].unique()\n",
    "    weights = {}\n",
    "    for vintage in vintages:\n",
    "        vintage_dict = {}\n",
    "        for geo in geos:\n",
    "            vintage_geo_cashflows = cashflows[(cashflows['VintageYear'] == vintage) & (cashflows['Geography'] == geo)]\n",
    "            vintage_dict[geo] = vintage_geo_cashflows['Cashflow'].sum()\n",
    "\n",
    "        weights[vintage] = vintage_dict\n",
    "    return weights"
   ]
  },
  {
   "cell_type": "code",
   "execution_count": 407,
   "id": "090c8a19",
   "metadata": {},
   "outputs": [],
   "source": [
    "vintage_geo_port_contr = vintage_geo_weigths(port_cfs_contr)\n",
    "vintage_geo_port_distr = vintage_geo_weigths(port_cfs_distr)\n",
    "vintage_geo_market_contr_agg = vintage_geo_weigths_agg(cashflows_contr)\n",
    "vintage_geo_market_distr_agg = vintage_geo_weigths_agg(cashflows_distr)\n"
   ]
  },
  {
   "cell_type": "code",
   "execution_count": 408,
   "id": "d1e179ab",
   "metadata": {},
   "outputs": [],
   "source": [
    "def vint_geo_cashflow(row):\n",
    "    vintage = row['VintageYear']\n",
    "    geo = row['Geography']\n",
    "    cf = row['Cashflow']\n",
    "    if cf < 0:\n",
    "        # Contribution (negative cashflow)\n",
    "        weight = -1 * (vintage_geo_port_contr[vintage][geo] * vintage_market_contr[vintage] / vintage_geo_market_contr_agg[vintage][geo])\n",
    "    elif cf > 0:\n",
    "        # Distribution (positive cashflow)\n",
    "        # weight = vintage_geo_port_distr[vintage][geo] * vintage_market_distr[vintage] / vintage_geo_market_distr_agg[vintage][geo]\n",
    "        weight = -1 * (vintage_geo_port_contr[vintage][geo] * vintage_market_contr[vintage] / vintage_geo_market_contr_agg[vintage][geo])\n",
    "    else:\n",
    "        # Zero cashflow stays unchanged\n",
    "        weight = 1\n",
    "    return cf * weight\n",
    "\n",
    "# Apply the function row-wise\n",
    "cashflows['vint_geo_adjusted_cashflow'] = cashflows.apply(vint_geo_cashflow, axis=1)"
   ]
  },
  {
   "cell_type": "code",
   "execution_count": 409,
   "id": "d69f803c",
   "metadata": {},
   "outputs": [],
   "source": [
    "geo_moic = (cashflows[cashflows['vint_geo_adjusted_cashflow'] > 0]['vint_geo_adjusted_cashflow'].sum()) / (-cashflows[cashflows['vint_geo_adjusted_cashflow'] < 0]['vint_geo_adjusted_cashflow'].sum())\n",
    "geo_aggregated_df = cashflows.groupby('date', as_index=False)['vint_geo_adjusted_cashflow'].sum()\n",
    "geo_irr = xirr(geo_aggregated_df['date'], geo_aggregated_df['vint_geo_adjusted_cashflow'])"
   ]
  },
  {
   "cell_type": "code",
   "execution_count": 410,
   "id": "716d5b47",
   "metadata": {},
   "outputs": [
    {
     "name": "stdout",
     "output_type": "stream",
     "text": [
      "0.0017902503638793643\n",
      "0.00022032312227475426\n"
     ]
    }
   ],
   "source": [
    "print(geo_moic-market_moic)\n",
    "print(geo_irr-market_irr) #todo: check if this is correct"
   ]
  },
  {
   "cell_type": "markdown",
   "id": "cc50a4b0",
   "metadata": {},
   "source": [
    "### Sizing alpha"
   ]
  },
  {
   "cell_type": "code",
   "execution_count": 411,
   "id": "8915b25b",
   "metadata": {},
   "outputs": [],
   "source": [
    "def fund_weights(cashflows):\n",
    "    funds = cashflows['FundID'].unique() \n",
    "    weights = {}\n",
    "    for fund in funds:\n",
    "        fund_cashflows = cashflows[cashflows['FundID'] == fund]\n",
    "        weights[fund] = -fund_cashflows['Cashflow'].sum()\n",
    "    return weights"
   ]
  },
  {
   "cell_type": "code",
   "execution_count": 412,
   "id": "2e5bdfa8",
   "metadata": {},
   "outputs": [],
   "source": [
    "eq_port_contr = fund_weights(port_cfs_contr)"
   ]
  },
  {
   "cell_type": "code",
   "execution_count": 413,
   "id": "0146453f",
   "metadata": {},
   "outputs": [],
   "source": [
    "def eq_calc(row):\n",
    "    fund = row['FundID']\n",
    "    cf = row['Cashflow']\n",
    "    \n",
    "    return cf / eq_port_contr[fund]\n",
    "\n",
    "# Apply the function row-wise\n",
    "port_cfs['eq_cashflow'] = port_cfs.apply(eq_calc, axis=1)"
   ]
  },
  {
   "cell_type": "code",
   "execution_count": 414,
   "id": "2597b915",
   "metadata": {},
   "outputs": [],
   "source": [
    "eq_moic = (port_cfs[port_cfs['eq_cashflow'] > 0]['eq_cashflow'].sum()) / (-port_cfs[port_cfs['eq_cashflow'] < 0]['eq_cashflow'].sum())\n",
    "eq_aggregated_df = port_cfs.groupby('date', as_index=False)['eq_cashflow'].sum()\n",
    "eq_irr = xirr(eq_aggregated_df['date'], eq_aggregated_df['eq_cashflow'])"
   ]
  },
  {
   "cell_type": "code",
   "execution_count": 415,
   "id": "4747f65e",
   "metadata": {},
   "outputs": [
    {
     "name": "stdout",
     "output_type": "stream",
     "text": [
      "-0.1049318219906894\n",
      "-0.012823140642615485\n"
     ]
    }
   ],
   "source": [
    "print(port_moic - eq_moic)\n",
    "print(port_irr - eq_irr) #todo: check if this is correct"
   ]
  },
  {
   "cell_type": "code",
   "execution_count": 416,
   "id": "1cc520ef",
   "metadata": {},
   "outputs": [],
   "source": [
    "timing_alpha_moic = timing_moic - market_moic\n",
    "timing_alpha_irr = timing_irr - market_irr\n",
    "strategy_alpha_moic = strategy_moic - market_moic\n",
    "strategy_alpha_irr = strategy_irr - market_irr\n",
    "geo_alpha_moic = geo_moic - market_moic \n",
    "geo_alpha_irr = geo_irr - market_irr\n",
    "sizing_alpha_moic = port_moic - eq_moic\n",
    "sizing_alpha_irr = port_irr - eq_irr\n",
    "residual_alpha_moic = port_moic - market_moic - (timing_alpha_moic + strategy_alpha_moic + geo_alpha_moic + sizing_alpha_moic)\n",
    "residual_alpha_irr = port_irr - market_irr - (timing_alpha_irr + strategy_alpha_irr + geo_alpha_irr + sizing_alpha_irr)"
   ]
  },
  {
   "cell_type": "code",
   "execution_count": 417,
   "id": "04d3ddbc",
   "metadata": {},
   "outputs": [
    {
     "name": "stdout",
     "output_type": "stream",
     "text": [
      "1.323150880385777 1.3270372687282335 -0.002375690672021369 -0.00011602369290297787 0.0017902503638793643 -0.1049318219906894 0.10174689764927791\n",
      "0.047345397661785804 0.046373685193977006 -0.00031773160347406404 -9.484033285673404e-05 0.00022032312227475426 -0.012823140642615485 0.013987101924480327\n"
     ]
    }
   ],
   "source": [
    "print(port_moic, market_moic, timing_alpha_moic, strategy_alpha_moic, geo_alpha_moic, sizing_alpha_moic, residual_alpha_moic)\n",
    "print(port_irr, market_irr, timing_alpha_irr, strategy_alpha_irr, geo_alpha_irr, sizing_alpha_irr, residual_alpha_irr)"
   ]
  },
  {
   "cell_type": "code",
   "execution_count": 418,
   "id": "1ad3b2d3",
   "metadata": {},
   "outputs": [
    {
     "data": {
      "image/png": "[encoded data removed]",
      "text/plain": [
       "<Figure size 1000x500 with 1 Axes>"
      ]
     },
     "metadata": {},
     "output_type": "display_data"
    }
   ],
   "source": [
    "import matplotlib.pyplot as plt\n",
    "\n",
    "# A bemeneti értékek\n",
    "categories = ['Piac', 'Időzítés', 'Stratégia', 'Földrajz', 'Szelekció', 'Specifikus', 'Portfólió']\n",
    "values = [market_moic, timing_alpha_moic, strategy_alpha_moic, geo_alpha_moic, sizing_alpha_moic, residual_alpha_moic,0]\n",
    "values1 = [market_moic, timing_alpha_moic, strategy_alpha_moic, geo_alpha_moic, sizing_alpha_moic, residual_alpha_moic, port_moic]\n",
    "\n",
    "\n",
    "# Kiszámítjuk a kumulált értékeket (Portfólió nélkül)\n",
    "step_values = [values[0]]\n",
    "for v in values[1:-1]:  # az utolsó elem a Portfólió, azt külön kezeljük\n",
    "    step_values.append(step_values[-1] + v)\n",
    "\n",
    "# A kezdőpontok (bottom) az oszlopokhoz\n",
    "starts = [0] + step_values[:-1]\n",
    "\n",
    "# Az oszlop színezése: pozitív zöld, negatív piros, végső összeg kék\n",
    "colors = ['green' if v >= 0 else 'red' for v in values[:-1]] + ['blue']\n",
    "\n",
    "# A ténylegesen megjelenített értékek (Portfólió kumulált összegként)\n",
    "display_values = values[:-1] + [step_values[-1] + values[-1]]\n",
    "starts += [0]  # Portfólió a 0-ról indul\n",
    "\n",
    "# Ábra kirajzolása\n",
    "plt.figure(figsize=(10, 5))\n",
    "bars = plt.bar(categories, display_values, bottom=starts, color=colors)\n",
    "\n",
    "# Értékek kiírása oszlop tetejére\n",
    "for i, bar in enumerate(bars):\n",
    "    yval = bar.get_height()\n",
    "    bottom = bar.get_y()\n",
    "    # label_val = starts[i] + yval\n",
    "    label_val = values1[i]\n",
    "    plt.text(bar.get_x() + bar.get_width() / 2.0,\n",
    "             bottom + yval + 0.05 * (1 if yval >= 0 else -1),\n",
    "             f'{label_val:.2f}', ha='center', va='bottom' if yval >= 0 else 'top')\n",
    "\n",
    "# Formázás\n",
    "# plt.title(\"Portfólió teljesítmény vízesés diagramja\")\n",
    "# plt.ylabel(\"Hozzájárulás (%)\")\n",
    "# plt.axhline(0, color='black', linewidth=0.8)\n",
    "# plt.grid(axis='y', linestyle='--', alpha=0.7)\n",
    "plt.gca().spines['top'].set_visible(False)\n",
    "plt.gca().spines['right'].set_visible(False)\n",
    "plt.gca().spines['left'].set_visible(False)\n",
    "# plt.gca().spines['bottom'].set_visible(False)\n",
    "plt.gca().yaxis.set_visible(False)\n",
    "plt.tight_layout()\n",
    "plt.savefig(\"waterfall_plot.pdf\", dpi=300, bbox_inches='tight')\n",
    "plt.show()\n"
   ]
  },
  {
   "cell_type": "code",
   "execution_count": 419,
   "id": "643e1822",
   "metadata": {},
   "outputs": [
    {
     "data": {
      "image/png": "[encoded data removed]",
      "text/plain": [
       "<Figure size 1000x500 with 1 Axes>"
      ]
     },
     "metadata": {},
     "output_type": "display_data"
    }
   ],
   "source": [
    "import matplotlib.pyplot as plt\n",
    "\n",
    "# A bemeneti értékek\n",
    "categories = ['Piac', 'Időzítés', 'Stratégia', 'Földrajz', 'Szelekció', 'Specifikus', 'Portfólió']\n",
    "values =[market_irr*100, timing_alpha_irr*100, strategy_alpha_irr*100, geo_alpha_irr*100, sizing_alpha_irr*100, residual_alpha_irr*100,0]\n",
    "values1 = [market_irr*100, timing_alpha_irr*100, strategy_alpha_irr*100, geo_alpha_irr*100, sizing_alpha_irr*100, residual_alpha_irr*100, port_irr*100]\n",
    "\n",
    "\n",
    "# Kiszámítjuk a kumulált értékeket (Portfólió nélkül)\n",
    "step_values = [values[0]]\n",
    "for v in values[1:-1]:  # az utolsó elem a Portfólió, azt külön kezeljük\n",
    "    step_values.append(step_values[-1] + v)\n",
    "\n",
    "# A kezdőpontok (bottom) az oszlopokhoz\n",
    "starts = [0] + step_values[:-1]\n",
    "\n",
    "# Az oszlop színezése: pozitív zöld, negatív piros, végső összeg kék\n",
    "colors = ['green' if v >= 0 else 'red' for v in values[:-1]] + ['blue']\n",
    "\n",
    "# A ténylegesen megjelenített értékek (Portfólió kumulált összegként)\n",
    "display_values = values[:-1] + [step_values[-1] + values[-1]]\n",
    "starts += [0]  # Portfólió a 0-ról indul\n",
    "\n",
    "# Ábra kirajzolása\n",
    "plt.figure(figsize=(10, 5))\n",
    "bars = plt.bar(categories, display_values, bottom=starts, color=colors)\n",
    "\n",
    "# Értékek kiírása oszlop tetejére\n",
    "for i, bar in enumerate(bars):\n",
    "    yval = bar.get_height()\n",
    "    bottom = bar.get_y()\n",
    "    # label_val = starts[i] + yval\n",
    "    label_val = values1[i]\n",
    "    plt.text(bar.get_x() + bar.get_width() / 2.0,\n",
    "             bottom + yval + 0.05 * (1 if yval >= 0 else -1),\n",
    "             f'{label_val:.2f}', ha='center', va='bottom' if yval >= 0 else 'top')\n",
    "\n",
    "# Formázás\n",
    "# plt.title(\"Portfólió teljesítmény vízesés diagramja\")\n",
    "# plt.ylabel(\"Hozzájárulás (%)\")\n",
    "# plt.axhline(0, color='black', linewidth=0.8)\n",
    "# plt.grid(axis='y', linestyle='--', alpha=0.7)\n",
    "plt.gca().spines['top'].set_visible(False)\n",
    "plt.gca().spines['right'].set_visible(False)\n",
    "plt.gca().spines['left'].set_visible(False)\n",
    "# plt.gca().spines['bottom'].set_visible(False)\n",
    "plt.gca().yaxis.set_visible(False)\n",
    "plt.tight_layout()\n",
    "plt.savefig(\"waterfall_plot.pdf\", dpi=300, bbox_inches='tight')\n",
    "plt.show()\n"
   ]
  },
  {
   "cell_type": "code",
   "execution_count": null,
   "id": "033992b4",
   "metadata": {},
   "outputs": [],
   "source": []
  }
 ],
 "metadata": {
  "kernelspec": {
   "display_name": "Python 3",
   "language": "python",
   "name": "python3"
  },
  "language_info": {
   "codemirror_mode": {
    "name": "ipython",
    "version": 3
   },
   "file_extension": ".py",
   "mimetype": "text/x-python",
   "name": "python",
   "nbconvert_exporter": "python",
   "pygments_lexer": "ipython3",
   "version": "3.11.9"
  }
 },
 "nbformat": 4,
 "nbformat_minor": 5
}
