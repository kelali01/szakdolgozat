{
 "cells": [
  {
   "cell_type": "code",
   "execution_count": 32,
   "id": "a50c3209",
   "metadata": {},
   "outputs": [
    {
     "name": "stderr",
     "output_type": "stream",
     "text": [
      "C:\\Users\\Asus\\AppData\\Local\\Temp\\ipykernel_3480\\1723324183.py:7: FutureWarning: 'Y' is deprecated and will be removed in a future version, please use 'YE' instead.\n",
      "  dates = pd.date_range(start='2020-01-01', periods=len(cash_flows), freq='Y')\n"
     ]
    },
    {
     "data": {
      "text/html": [
       "<div>\n",
       "<style scoped>\n",
       "    .dataframe tbody tr th:only-of-type {\n",
       "        vertical-align: middle;\n",
       "    }\n",
       "\n",
       "    .dataframe tbody tr th {\n",
       "        vertical-align: top;\n",
       "    }\n",
       "\n",
       "    .dataframe thead th {\n",
       "        text-align: right;\n",
       "    }\n",
       "</style>\n",
       "<table border=\"1\" class=\"dataframe\">\n",
       "  <thead>\n",
       "    <tr style=\"text-align: right;\">\n",
       "      <th></th>\n",
       "      <th>date</th>\n",
       "      <th>Cashflow</th>\n",
       "      <th>scaled_cashflow</th>\n",
       "    </tr>\n",
       "  </thead>\n",
       "  <tbody>\n",
       "    <tr>\n",
       "      <th>0</th>\n",
       "      <td>2020-12-31</td>\n",
       "      <td>-100</td>\n",
       "      <td>-120.00</td>\n",
       "    </tr>\n",
       "    <tr>\n",
       "      <th>1</th>\n",
       "      <td>2021-12-31</td>\n",
       "      <td>-50</td>\n",
       "      <td>-57.14</td>\n",
       "    </tr>\n",
       "    <tr>\n",
       "      <th>2</th>\n",
       "      <td>2022-12-31</td>\n",
       "      <td>60</td>\n",
       "      <td>62.61</td>\n",
       "    </tr>\n",
       "    <tr>\n",
       "      <th>3</th>\n",
       "      <td>2023-12-31</td>\n",
       "      <td>10</td>\n",
       "      <td>10.26</td>\n",
       "    </tr>\n",
       "    <tr>\n",
       "      <th>4</th>\n",
       "      <td>2024-12-31</td>\n",
       "      <td>110</td>\n",
       "      <td>110.00</td>\n",
       "    </tr>\n",
       "  </tbody>\n",
       "</table>\n",
       "</div>"
      ],
      "text/plain": [
       "        date  Cashflow  scaled_cashflow\n",
       "0 2020-12-31      -100          -120.00\n",
       "1 2021-12-31       -50           -57.14\n",
       "2 2022-12-31        60            62.61\n",
       "3 2023-12-31        10            10.26\n",
       "4 2024-12-31       110           110.00"
      ]
     },
     "execution_count": 32,
     "metadata": {},
     "output_type": "execute_result"
    }
   ],
   "source": [
    "import pandas as pd\n",
    "import numpy as np\n",
    "cash_flows = [-100, -50, 60, 10, 110]\n",
    "scaled = [-120, -57.14, 62.61, 10.26, 110]  # Example scaled cash flows\n",
    "\n",
    "# Create artificial dates for illustration\n",
    "dates = pd.date_range(start='2020-01-01', periods=len(cash_flows), freq='Y')\n",
    "\n",
    "# Create DataFrame\n",
    "df1 = pd.DataFrame({\n",
    "    'date': dates,\n",
    "    'Cashflow': cash_flows,\n",
    "    'scaled_cashflow': scaled\n",
    "})\n",
    "df1"
   ]
  },
  {
   "cell_type": "code",
   "execution_count": 27,
   "id": "7d4d613a",
   "metadata": {},
   "outputs": [],
   "source": [
    "from pme_calc import xirr, ln_pme, pme_plus, direct_alpha"
   ]
  },
  {
   "cell_type": "code",
   "execution_count": 33,
   "id": "267e916e",
   "metadata": {},
   "outputs": [
    {
     "data": {
      "text/plain": [
       "0.010907144298188412"
      ]
     },
     "execution_count": 33,
     "metadata": {},
     "output_type": "execute_result"
    }
   ],
   "source": [
    "direct_alpha(df1)"
   ]
  },
  {
   "cell_type": "code",
   "execution_count": 36,
   "id": "e335ab2c",
   "metadata": {},
   "outputs": [
    {
     "data": {
      "text/plain": [
       "0.010907144298188412"
      ]
     },
     "execution_count": 36,
     "metadata": {},
     "output_type": "execute_result"
    }
   ],
   "source": [
    "xirr(df1['date'], df1['scaled_cashflow'])"
   ]
  },
  {
   "cell_type": "code",
   "execution_count": 39,
   "id": "28653d04",
   "metadata": {},
   "outputs": [],
   "source": [
    "import math\n",
    "def direct_alpha(df):\n",
    "    #nav todo\n",
    "    alpha_cf = np.array(df['scaled_cashflow'])\n",
    "    a = xirr(df['date'], alpha_cf)\n",
    "    return math.log(1 + a)"
   ]
  },
  {
   "cell_type": "code",
   "execution_count": 40,
   "id": "541fa0ee",
   "metadata": {},
   "outputs": [
    {
     "data": {
      "text/plain": [
       "0.010848090417901867"
      ]
     },
     "execution_count": 40,
     "metadata": {},
     "output_type": "execute_result"
    }
   ],
   "source": [
    "direct_alpha(df1)"
   ]
  },
  {
   "cell_type": "code",
   "execution_count": null,
   "id": "caaf2f34",
   "metadata": {},
   "outputs": [],
   "source": []
  }
 ],
 "metadata": {
  "kernelspec": {
   "display_name": "Python 3",
   "language": "python",
   "name": "python3"
  },
  "language_info": {
   "codemirror_mode": {
    "name": "ipython",
    "version": 3
   },
   "file_extension": ".py",
   "mimetype": "text/x-python",
   "name": "python",
   "nbconvert_exporter": "python",
   "pygments_lexer": "ipython3",
   "version": "3.11.9"
  }
 },
 "nbformat": 4,
 "nbformat_minor": 5
}
