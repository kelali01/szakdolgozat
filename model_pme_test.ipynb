{
 "cells": [
  {
   "cell_type": "code",
   "execution_count": 1,
   "id": "274e4e13",
   "metadata": {},
   "outputs": [],
   "source": [
    "from model_builder_pme import model_builder\n",
    "from data_gen import simulate_private_equity_cashflows\n",
    "import numpy as np\n",
    "from pme_calc import sp500_data, xirr, ln_pme, ks_pme, pme_plus, direct_alpha, moic, index_weighted_cashflows"
   ]
  },
  {
   "cell_type": "code",
   "execution_count": 2,
   "id": "93a82015",
   "metadata": {},
   "outputs": [],
   "source": [
    "cashflows = simulate_private_equity_cashflows()"
   ]
  },
  {
   "cell_type": "code",
   "execution_count": 3,
   "id": "951096f7",
   "metadata": {},
   "outputs": [],
   "source": [
    "# Normalize the cashflows of each fund in the market\n",
    "\n",
    "def fund_weights(cashflows):\n",
    "    funds = cashflows['FundID'].unique() \n",
    "    weights = {}\n",
    "    for fund in funds:\n",
    "        fund_cashflows = cashflows[cashflows['FundID'] == fund]\n",
    "        weights[fund] = -fund_cashflows['Cashflow'].sum()\n",
    "    return weights\n",
    "\n",
    "cashflows_contr = cashflows[cashflows['Cashflow'] < 0]\n",
    "eq_cashflows_contr = fund_weights(cashflows_contr)\n",
    "\n",
    "def eq_calc(row):\n",
    "    fund = row['FundID']\n",
    "    cf = row['Cashflow']\n",
    "    \n",
    "    return cf / eq_cashflows_contr[fund]\n",
    "\n",
    "# Apply the function row-wise\n",
    "cashflows['eq_cashflow'] = cashflows.apply(eq_calc, axis=1)\n",
    "\n",
    "# Drop and rename\n",
    "cashflows = cashflows.drop(columns=['Cashflow']).rename(columns={'eq_cashflow': 'Cashflow'})"
   ]
  },
  {
   "cell_type": "code",
   "execution_count": 4,
   "id": "d9f84286",
   "metadata": {},
   "outputs": [],
   "source": [
    "def portfolio_cashflows(cashflows, portfolio_size):\n",
    "    # Randomly select fund IDs\n",
    "    selected_funds = np.random.choice(cashflows['FundID'].unique(), size=portfolio_size, replace=False)\n",
    "    \n",
    "    # Create a random size adjustment for each selected fund\n",
    "    size_adjustments = {fund: np.random.uniform(0.5, 2.0) for fund in selected_funds}\n",
    "    \n",
    "    # Filter the portfolio\n",
    "    portfolio = cashflows[cashflows['FundID'].isin(selected_funds)].copy()\n",
    "    \n",
    "    # Apply the size adjustment\n",
    "    portfolio['Cashflow'] = portfolio.apply(lambda row: row['Cashflow'] * size_adjustments[row['FundID']], axis=1)\n",
    "    \n",
    "    return portfolio"
   ]
  },
  {
   "cell_type": "code",
   "execution_count": 5,
   "id": "d6890309",
   "metadata": {},
   "outputs": [
    {
     "name": "stdout",
     "output_type": "stream",
     "text": [
      "YF.download() has changed argument auto_adjust default to True\n"
     ]
    },
    {
     "name": "stderr",
     "output_type": "stream",
     "text": [
      "[*********************100%***********************]  1 of 1 completed\n"
     ]
    },
    {
     "data": {
      "text/plain": [
       "({'Portfolio KS-PME': 1.756740915858248,\n",
       "  'Market KS-PME': 1.756740915858248,\n",
       "  'Timing Alpha KS-PME': 2.220446049250313e-16,\n",
       "  'Strategy Alpha KS-PME': 2.220446049250313e-16,\n",
       "  'Geography Alpha KS-PME': 2.220446049250313e-16,\n",
       "  'Sizing Alpha KS-PME': 0.0,\n",
       "  'Residual Alpha KS-PME': -6.661338147750939e-16},\n",
       " {'Portfolio Direct Alpha': 0.030067494557816248,\n",
       "  'Market Direct Alpha': 0.030067494557816248,\n",
       "  'Timing Direct Alpha': -2.1510571102112408e-16,\n",
       "  'Strategy Direct Alpha': -2.1510571102112408e-16,\n",
       "  'Geography Direct Alpha': -2.1510571102112408e-16,\n",
       "  'Sizing Direct Alpha': 0.0,\n",
       "  'Residual Direct Alpha': 6.453171330633722e-16})"
      ]
     },
     "execution_count": 5,
     "metadata": {},
     "output_type": "execute_result"
    }
   ],
   "source": [
    "port_cfs = portfolio_cashflows(cashflows, 200)\n",
    "port_cfs = port_cfs.copy()\n",
    "model = model_builder(cashflows, cashflows)\n",
    "model"
   ]
  },
  {
   "cell_type": "markdown",
   "id": "6a03d12e",
   "metadata": {},
   "source": [
    "### Monte-Carlo simulation"
   ]
  },
  {
   "cell_type": "code",
   "execution_count": 6,
   "id": "fc32b3c1",
   "metadata": {},
   "outputs": [
    {
     "name": "stderr",
     "output_type": "stream",
     "text": [
      "[*********************100%***********************]  1 of 1 completed\n",
      "[*********************100%***********************]  1 of 1 completed\n",
      "[*********************100%***********************]  1 of 1 completed\n",
      "[*********************100%***********************]  1 of 1 completed\n",
      "[*********************100%***********************]  1 of 1 completed\n",
      "[*********************100%***********************]  1 of 1 completed\n",
      "[*********************100%***********************]  1 of 1 completed\n",
      "[*********************100%***********************]  1 of 1 completed\n",
      "[*********************100%***********************]  1 of 1 completed\n",
      "[*********************100%***********************]  1 of 1 completed\n",
      "[*********************100%***********************]  1 of 1 completed\n",
      "[*********************100%***********************]  1 of 1 completed\n",
      "[*********************100%***********************]  1 of 1 completed\n",
      "[*********************100%***********************]  1 of 1 completed\n",
      "[*********************100%***********************]  1 of 1 completed\n",
      "[*********************100%***********************]  1 of 1 completed\n",
      "[*********************100%***********************]  1 of 1 completed\n",
      "[*********************100%***********************]  1 of 1 completed\n",
      "[*********************100%***********************]  1 of 1 completed\n",
      "[*********************100%***********************]  1 of 1 completed\n",
      "[*********************100%***********************]  1 of 1 completed\n",
      "[*********************100%***********************]  1 of 1 completed\n",
      "[*********************100%***********************]  1 of 1 completed\n",
      "[*********************100%***********************]  1 of 1 completed\n",
      "[*********************100%***********************]  1 of 1 completed\n",
      "[*********************100%***********************]  1 of 1 completed\n",
      "[*********************100%***********************]  1 of 1 completed\n",
      "[*********************100%***********************]  1 of 1 completed\n",
      "[*********************100%***********************]  1 of 1 completed\n",
      "[*********************100%***********************]  1 of 1 completed\n",
      "[*********************100%***********************]  1 of 1 completed\n",
      "[*********************100%***********************]  1 of 1 completed\n",
      "[*********************100%***********************]  1 of 1 completed\n",
      "[*********************100%***********************]  1 of 1 completed\n",
      "[*********************100%***********************]  1 of 1 completed\n",
      "[*********************100%***********************]  1 of 1 completed\n",
      "[*********************100%***********************]  1 of 1 completed\n",
      "[*********************100%***********************]  1 of 1 completed\n",
      "[*********************100%***********************]  1 of 1 completed\n",
      "[*********************100%***********************]  1 of 1 completed\n",
      "[*********************100%***********************]  1 of 1 completed\n",
      "[*********************100%***********************]  1 of 1 completed\n",
      "[*********************100%***********************]  1 of 1 completed\n",
      "[*********************100%***********************]  1 of 1 completed\n",
      "[*********************100%***********************]  1 of 1 completed\n",
      "[*********************100%***********************]  1 of 1 completed\n",
      "[*********************100%***********************]  1 of 1 completed\n",
      "[*********************100%***********************]  1 of 1 completed\n",
      "[*********************100%***********************]  1 of 1 completed\n",
      "[*********************100%***********************]  1 of 1 completed\n"
     ]
    }
   ],
   "source": [
    "number_of_simulations = 50\n",
    "fund_size = 200\n",
    "ks_pme_results = []\n",
    "da_results = []\n",
    "\n",
    "for i in range(number_of_simulations):\n",
    "    port_cfs = portfolio_cashflows(cashflows, fund_size)\n",
    "    port_cfs = port_cfs.copy()\n",
    "    model = model_builder(cashflows, port_cfs)\n",
    "    ks_pme_results.append(model[0])\n",
    "    da_results.append(model[1])"
   ]
  },
  {
   "cell_type": "code",
   "execution_count": 7,
   "id": "3e1e916e",
   "metadata": {},
   "outputs": [],
   "source": [
    "def average_dicts(dict_list):\n",
    "    \"\"\"Compute the average of a list of dictionaries.\"\"\"\n",
    "    keys = dict_list[0].keys()\n",
    "    avg_dict = {}\n",
    "    for key in keys:\n",
    "        avg_dict[key] = sum(d[key] for d in dict_list) / len(dict_list)\n",
    "    return avg_dict"
   ]
  },
  {
   "cell_type": "code",
   "execution_count": 8,
   "id": "3fc0bd9a",
   "metadata": {},
   "outputs": [],
   "source": [
    "avg_ks_pme_decomposition = average_dicts(ks_pme_results)\n",
    "avg_da_decomposition = average_dicts(da_results)"
   ]
  },
  {
   "cell_type": "code",
   "execution_count": 9,
   "id": "e9f914be",
   "metadata": {},
   "outputs": [
    {
     "data": {
      "text/plain": [
       "{'Portfolio KS-PME': 1.6902159462716029,\n",
       " 'Market KS-PME': 1.7567409158582463,\n",
       " 'Timing Alpha KS-PME': -0.0257868028290213,\n",
       " 'Strategy Alpha KS-PME': 0.0010376063718946814,\n",
       " 'Geography Alpha KS-PME': -0.010738874217418077,\n",
       " 'Sizing Alpha KS-PME': 0.011473612662661474,\n",
       " 'Residual Alpha KS-PME': -0.04251051157476189}"
      ]
     },
     "execution_count": 9,
     "metadata": {},
     "output_type": "execute_result"
    }
   ],
   "source": [
    "avg_ks_pme_decomposition"
   ]
  },
  {
   "cell_type": "code",
   "execution_count": 10,
   "id": "6f422697",
   "metadata": {},
   "outputs": [
    {
     "data": {
      "text/plain": [
       "{'Portfolio Direct Alpha': 0.0299970909487243,\n",
       " 'Market Direct Alpha': 0.030067494557816262,\n",
       " 'Timing Direct Alpha': 0.0004955177813772588,\n",
       " 'Strategy Direct Alpha': 7.019505562856667e-05,\n",
       " 'Geography Direct Alpha': -0.00034419620795437264,\n",
       " 'Sizing Direct Alpha': 0.00042308821162907186,\n",
       " 'Residual Direct Alpha': -0.0007150084497724773}"
      ]
     },
     "execution_count": 10,
     "metadata": {},
     "output_type": "execute_result"
    }
   ],
   "source": [
    "avg_da_decomposition"
   ]
  },
  {
   "cell_type": "markdown",
   "id": "15ba1a2e",
   "metadata": {},
   "source": [
    "## Individual effects"
   ]
  },
  {
   "cell_type": "markdown",
   "id": "3c1a7812",
   "metadata": {},
   "source": [
    "### Strategy effect"
   ]
  },
  {
   "cell_type": "code",
   "execution_count": 19,
   "id": "52789696",
   "metadata": {},
   "outputs": [],
   "source": [
    "venture_ids = cashflows[cashflows['Strategy'] == 'Venture']['FundID'].unique()\n",
    "buyout_ids = cashflows[cashflows['Strategy'] == 'Buyout']['FundID'].unique()\n",
    "venture_ids = np.append(venture_ids,buyout_ids[0]) # we need at least one venture fund to make the model work\n",
    "buyout_ids = np.append(buyout_ids,venture_ids[0]) # we need at least one buyout fund to make the model work"
   ]
  },
  {
   "cell_type": "code",
   "execution_count": 20,
   "id": "7bc75f97",
   "metadata": {},
   "outputs": [],
   "source": [
    "def portfolio_cashflows_by_id(cashflows, ids):\n",
    "\n",
    "    # Create a random size adjustment for each selected fund\n",
    "    size_adjustments = {fund: np.random.uniform(0.5, 2.0) for fund in ids}\n",
    "    \n",
    "    # Filter the portfolio\n",
    "    portfolio = cashflows[cashflows['FundID'].isin(ids)].copy()\n",
    "    \n",
    "    # Apply the size adjustment\n",
    "    portfolio['Cashflow'] = portfolio.apply(lambda row: row['Cashflow'] * size_adjustments[row['FundID']], axis=1)\n",
    "    \n",
    "    return portfolio"
   ]
  },
  {
   "cell_type": "code",
   "execution_count": 21,
   "id": "5cfdfa5e",
   "metadata": {},
   "outputs": [],
   "source": [
    "port_cfs_venture = portfolio_cashflows_by_id(cashflows, venture_ids)\n",
    "port_cfs_venture = port_cfs_venture.copy()\n",
    "port_cfs_buyout = portfolio_cashflows_by_id(cashflows, buyout_ids)\n",
    "port_cfs_buyout = port_cfs_buyout.copy()"
   ]
  },
  {
   "cell_type": "code",
   "execution_count": 22,
   "id": "d225b503",
   "metadata": {},
   "outputs": [
    {
     "name": "stderr",
     "output_type": "stream",
     "text": [
      "[*********************100%***********************]  1 of 1 completed\n"
     ]
    },
    {
     "data": {
      "text/plain": [
       "({'Portfolio KS-PME': 2.401761648096196,\n",
       "  'Market KS-PME': 1.9028910842378766,\n",
       "  'Timing Alpha KS-PME': -0.04516107838518413,\n",
       "  'Strategy Alpha KS-PME': 0.5950075340889445,\n",
       "  'Geography Alpha KS-PME': 0.002585480689198283,\n",
       "  'Sizing Alpha KS-PME': -0.0851666244071545,\n",
       "  'Residual Alpha KS-PME': 0.03160525187251517},\n",
       " {'Portfolio Direct Alpha': 0.04899488425679962,\n",
       "  'Market Direct Alpha': 0.03399607517871229,\n",
       "  'Timing Direct Alpha': -0.0009896510646039483,\n",
       "  'Strategy Direct Alpha': 0.017620553410394035,\n",
       "  'Geography Direct Alpha': 0.00010989055028954448,\n",
       "  'Sizing Direct Alpha': -0.0019517863795702195,\n",
       "  'Residual Direct Alpha': 0.0002098025615779181})"
      ]
     },
     "execution_count": 22,
     "metadata": {},
     "output_type": "execute_result"
    }
   ],
   "source": [
    "model_venture = model_builder(cashflows, port_cfs_venture)\n",
    "model_venture"
   ]
  },
  {
   "cell_type": "code",
   "execution_count": 23,
   "id": "714d4492",
   "metadata": {},
   "outputs": [
    {
     "name": "stderr",
     "output_type": "stream",
     "text": [
      "[*********************100%***********************]  1 of 1 completed\n"
     ]
    },
    {
     "data": {
      "text/plain": [
       "({'Portfolio KS-PME': 1.3513309036043886,\n",
       "  'Market KS-PME': 1.9028910842378766,\n",
       "  'Timing Alpha KS-PME': -0.020701016953176055,\n",
       "  'Strategy Alpha KS-PME': -0.572883483338007,\n",
       "  'Geography Alpha KS-PME': -0.020661770697454784,\n",
       "  'Sizing Alpha KS-PME': 0.012594358189074395,\n",
       "  'Residual Alpha KS-PME': 0.05009173216607543},\n",
       " {'Portfolio Direct Alpha': 0.015593400056193878,\n",
       "  'Market Direct Alpha': 0.03399607517871229,\n",
       "  'Timing Direct Alpha': -1.2165429978686082e-05,\n",
       "  'Strategy Direct Alpha': -0.019297876746297134,\n",
       "  'Geography Direct Alpha': -0.0006912312260666242,\n",
       "  'Sizing Direct Alpha': 0.0006232818671272032,\n",
       "  'Residual Direct Alpha': 0.0009753164126968285})"
      ]
     },
     "execution_count": 23,
     "metadata": {},
     "output_type": "execute_result"
    }
   ],
   "source": [
    "model_buyout = model_builder(cashflows, port_cfs_buyout)\n",
    "model_buyout"
   ]
  },
  {
   "cell_type": "markdown",
   "id": "42168563",
   "metadata": {},
   "source": [
    "### Geo effect"
   ]
  },
  {
   "cell_type": "code",
   "execution_count": 24,
   "id": "e2e9b8fa",
   "metadata": {},
   "outputs": [],
   "source": [
    "america_ids = cashflows[cashflows['Geography'] == 'North America']['FundID'].unique()\n",
    "row_ids = cashflows[cashflows['Geography'] == 'Rest of World']['FundID'].unique()\n",
    "america_ids = np.append(america_ids,row_ids[0]) # we need at least one venture fund to make the model work\n",
    "row_ids = np.append(row_ids,america_ids[0]) # we need at least one buyout fund to make the model work"
   ]
  },
  {
   "cell_type": "code",
   "execution_count": 25,
   "id": "e0f58a5b",
   "metadata": {},
   "outputs": [],
   "source": [
    "port_cfs_america = portfolio_cashflows_by_id(cashflows, america_ids)\n",
    "port_cfs_america = port_cfs_america.copy()\n",
    "port_cfs_row = portfolio_cashflows_by_id(cashflows, row_ids)\n",
    "port_cfs_row = port_cfs_row.copy()"
   ]
  },
  {
   "cell_type": "code",
   "execution_count": 26,
   "id": "08f2f73e",
   "metadata": {},
   "outputs": [
    {
     "name": "stderr",
     "output_type": "stream",
     "text": [
      "[*********************100%***********************]  1 of 1 completed\n"
     ]
    },
    {
     "data": {
      "text/plain": [
       "({'Portfolio KS-PME': 2.9234900418333742,\n",
       "  'Market KS-PME': 1.9028910842378766,\n",
       "  'Timing Alpha KS-PME': -0.01010251631009118,\n",
       "  'Strategy Alpha KS-PME': 0.01555662600379315,\n",
       "  'Geography Alpha KS-PME': 1.0149748833779615,\n",
       "  'Sizing Alpha KS-PME': 0.043962980773027294,\n",
       "  'Residual Alpha KS-PME': -0.04379301624919307},\n",
       " {'Portfolio Direct Alpha': 0.06030327802602387,\n",
       "  'Market Direct Alpha': 0.03399607517871229,\n",
       "  'Timing Direct Alpha': -0.0007174535298718407,\n",
       "  'Strategy Direct Alpha': 0.0005309317671245845,\n",
       "  'Geography Direct Alpha': 0.02683560180705686,\n",
       "  'Sizing Direct Alpha': 0.0005106185027175039,\n",
       "  'Residual Direct Alpha': -0.0008524956997155234})"
      ]
     },
     "execution_count": 26,
     "metadata": {},
     "output_type": "execute_result"
    }
   ],
   "source": [
    "model_america = model_builder(cashflows, port_cfs_america)\n",
    "model_america"
   ]
  },
  {
   "cell_type": "code",
   "execution_count": 27,
   "id": "3ef6f16e",
   "metadata": {},
   "outputs": [
    {
     "name": "stderr",
     "output_type": "stream",
     "text": [
      "[*********************100%***********************]  1 of 1 completed\n"
     ]
    },
    {
     "data": {
      "text/plain": [
       "({'Portfolio KS-PME': 0.953038584576485,\n",
       "  'Market KS-PME': 1.9028910842378766,\n",
       "  'Timing Alpha KS-PME': -0.039220106234034935,\n",
       "  'Strategy Alpha KS-PME': -0.0014452120885930508,\n",
       "  'Geography Alpha KS-PME': -0.9504942973170445,\n",
       "  'Sizing Alpha KS-PME': -0.02737631606032276,\n",
       "  'Residual Alpha KS-PME': 0.06868343203860383},\n",
       " {'Portfolio Direct Alpha': -0.0025423950351025773,\n",
       "  'Market Direct Alpha': 0.03399607517871229,\n",
       "  'Timing Direct Alpha': -0.0005100760736808582,\n",
       "  'Strategy Direct Alpha': -0.0001163272224877776,\n",
       "  'Geography Direct Alpha': -0.03659088864308122,\n",
       "  'Sizing Direct Alpha': -0.0014847792469657604,\n",
       "  'Residual Direct Alpha': 0.002163600972400752})"
      ]
     },
     "execution_count": 27,
     "metadata": {},
     "output_type": "execute_result"
    }
   ],
   "source": [
    "model_row = model_builder(cashflows, port_cfs_row)\n",
    "model_row"
   ]
  },
  {
   "cell_type": "markdown",
   "id": "8bce940a",
   "metadata": {},
   "source": [
    "### Fund quality"
   ]
  },
  {
   "cell_type": "code",
   "execution_count": 28,
   "id": "95a75566",
   "metadata": {},
   "outputs": [],
   "source": [
    "good_ids = cashflows[cashflows['FundQuality'] == 'Good']['FundID'].unique()\n",
    "bad_ids = cashflows[cashflows['FundQuality'] == 'Bad']['FundID'].unique()\n",
    "good_ids = np.append(good_ids,bad_ids[0]) # we need at least one venture fund to make the model work\n",
    "bad_ids = np.append(bad_ids,good_ids[0]) # we need at least one buyout fund to make the model work"
   ]
  },
  {
   "cell_type": "code",
   "execution_count": 29,
   "id": "b0a9c8cc",
   "metadata": {},
   "outputs": [],
   "source": [
    "port_cfs_good = portfolio_cashflows_by_id(cashflows, good_ids)\n",
    "port_cfs_good = port_cfs_good.copy()    \n",
    "port_cfs_bad = portfolio_cashflows_by_id(cashflows, bad_ids)\n",
    "port_cfs_bad = port_cfs_bad.copy()"
   ]
  },
  {
   "cell_type": "code",
   "execution_count": 30,
   "id": "564dcd07",
   "metadata": {},
   "outputs": [
    {
     "name": "stderr",
     "output_type": "stream",
     "text": [
      "[*********************100%***********************]  1 of 1 completed\n"
     ]
    },
    {
     "data": {
      "text/plain": [
       "({'Portfolio KS-PME': 3.451812770757449,\n",
       "  'Market KS-PME': 1.9028910842378766,\n",
       "  'Timing Alpha KS-PME': 0.020473157671939912,\n",
       "  'Strategy Alpha KS-PME': 0.012424508361430053,\n",
       "  'Geography Alpha KS-PME': 0.01860259152407373,\n",
       "  'Sizing Alpha KS-PME': 0.052154791581022764,\n",
       "  'Residual Alpha KS-PME': 1.4452666373811058},\n",
       " {'Portfolio Direct Alpha': 0.07298590665988784,\n",
       "  'Market Direct Alpha': 0.03399607517871229,\n",
       "  'Timing Direct Alpha': 0.000915465659180735,\n",
       "  'Strategy Direct Alpha': 0.0004996393808056471,\n",
       "  'Geography Direct Alpha': 0.00044625987378965615,\n",
       "  'Sizing Direct Alpha': 0.0013308105021786615,\n",
       "  'Residual Direct Alpha': 0.035797656065220854})"
      ]
     },
     "execution_count": 30,
     "metadata": {},
     "output_type": "execute_result"
    }
   ],
   "source": [
    "model_good = model_builder(cashflows, port_cfs_good)\n",
    "model_good"
   ]
  },
  {
   "cell_type": "code",
   "execution_count": 31,
   "id": "a5de72fc",
   "metadata": {},
   "outputs": [
    {
     "name": "stderr",
     "output_type": "stream",
     "text": [
      "[*********************100%***********************]  1 of 1 completed\n"
     ]
    },
    {
     "data": {
      "text/plain": [
       "({'Portfolio KS-PME': 0.6975948123907209,\n",
       "  'Market KS-PME': 1.9028910842378766,\n",
       "  'Timing Alpha KS-PME': -0.043728953046344055,\n",
       "  'Strategy Alpha KS-PME': -0.013335831330156589,\n",
       "  'Geography Alpha KS-PME': 0.009612384696747522,\n",
       "  'Sizing Alpha KS-PME': 0.003012157639794344,\n",
       "  'Residual Alpha KS-PME': -1.1608560298071968},\n",
       " {'Portfolio Direct Alpha': -0.02022971327544504,\n",
       "  'Market Direct Alpha': 0.03399607517871229,\n",
       "  'Timing Direct Alpha': -0.0010429895212099444,\n",
       "  'Strategy Direct Alpha': -0.0005341159045323673,\n",
       "  'Geography Direct Alpha': 0.0003543075843774751,\n",
       "  'Sizing Direct Alpha': 0.00030531716048397967,\n",
       "  'Residual Direct Alpha': -0.05330830777327648})"
      ]
     },
     "execution_count": 31,
     "metadata": {},
     "output_type": "execute_result"
    }
   ],
   "source": [
    "model_bad = model_builder(cashflows, port_cfs_bad)\n",
    "model_bad"
   ]
  },
  {
   "cell_type": "markdown",
   "id": "b649898f",
   "metadata": {},
   "source": [
    "### Vintage effect"
   ]
  },
  {
   "cell_type": "code",
   "execution_count": 32,
   "id": "7684e801",
   "metadata": {},
   "outputs": [],
   "source": [
    "vintage_ids = {}\n",
    "for vint in cashflows['VintageYear'].unique():\n",
    "    vint_ids = cashflows[cashflows['VintageYear'] == vint]['FundID'].unique()\n",
    "    vintage_ids[vint] = vint_ids"
   ]
  },
  {
   "cell_type": "code",
   "execution_count": 33,
   "id": "eaa17c71",
   "metadata": {},
   "outputs": [],
   "source": [
    "import random\n",
    "def pick_one_per_vintage(fund_dict):\n",
    "    selected_ids = []\n",
    "\n",
    "    for vintage, fund_ids in fund_dict.items():\n",
    "        # Randomly pick one fund from this vintage\n",
    "        fund_ids = list(fund_ids)  # ensure it's a list\n",
    "        selected_id = random.choice(fund_ids)\n",
    "        selected_ids.append(selected_id)\n",
    "\n",
    "    return np.array(selected_ids)\n",
    "\n",
    "one_from_each = pick_one_per_vintage(vintage_ids)"
   ]
  },
  {
   "cell_type": "code",
   "execution_count": 34,
   "id": "89f6e3d6",
   "metadata": {},
   "outputs": [],
   "source": [
    "good_vintage_ids = cashflows[cashflows['VintageYear'] % 2 == 1]['FundID'].unique()\n",
    "bad_vintage_ids = cashflows[cashflows['VintageYear'] % 2 == 0]['FundID'].unique()\n",
    "good_vintage_ids = np.append(good_vintage_ids,one_from_each) # we need at least one venture fund to make the model work\n",
    "bad_vintage_ids = np.append(bad_vintage_ids,one_from_each) # we need at least one buyout fund to make the model work"
   ]
  },
  {
   "cell_type": "code",
   "execution_count": 35,
   "id": "9e8288fa",
   "metadata": {},
   "outputs": [],
   "source": [
    "port_cfs_good_vintage = portfolio_cashflows_by_id(cashflows, good_vintage_ids)\n",
    "port_cfs_good_vintage = port_cfs_good_vintage.copy()\n",
    "port_cfs_bad_vintage = portfolio_cashflows_by_id(cashflows, bad_vintage_ids)\n",
    "port_cfs_bad_vintage = port_cfs_bad_vintage.copy()"
   ]
  },
  {
   "cell_type": "code",
   "execution_count": 36,
   "id": "cf119d38",
   "metadata": {},
   "outputs": [
    {
     "name": "stderr",
     "output_type": "stream",
     "text": [
      "[*********************100%***********************]  1 of 1 completed\n"
     ]
    },
    {
     "data": {
      "text/plain": [
       "({'Portfolio KS-PME': 2.5088879401277935,\n",
       "  'Market KS-PME': 1.9028910842378766,\n",
       "  'Timing Alpha KS-PME': 0.5924528834265974,\n",
       "  'Strategy Alpha KS-PME': 0.11904050250056297,\n",
       "  'Geography Alpha KS-PME': 0.2084866513278696,\n",
       "  'Sizing Alpha KS-PME': 0.03117677841229982,\n",
       "  'Residual Alpha KS-PME': -0.3451599597774129},\n",
       " {'Portfolio Direct Alpha': 0.05454304299704395,\n",
       "  'Market Direct Alpha': 0.03399607517871229,\n",
       "  'Timing Direct Alpha': 0.02001194452895142,\n",
       "  'Strategy Direct Alpha': 0.003739978716301419,\n",
       "  'Geography Direct Alpha': 0.005815162690374902,\n",
       "  'Sizing Direct Alpha': 0.000620005314539214,\n",
       "  'Residual Direct Alpha': -0.009640123431835297})"
      ]
     },
     "execution_count": 36,
     "metadata": {},
     "output_type": "execute_result"
    }
   ],
   "source": [
    "model_good_vintage = model_builder(cashflows, port_cfs_good_vintage)\n",
    "model_good_vintage"
   ]
  },
  {
   "cell_type": "code",
   "execution_count": 37,
   "id": "8174c57e",
   "metadata": {},
   "outputs": [
    {
     "name": "stderr",
     "output_type": "stream",
     "text": [
      "[*********************100%***********************]  1 of 1 completed\n"
     ]
    },
    {
     "data": {
      "text/plain": [
       "({'Portfolio KS-PME': 1.2149075485006724,\n",
       "  'Market KS-PME': 1.9028910842378766,\n",
       "  'Timing Alpha KS-PME': -0.6783304735773064,\n",
       "  'Strategy Alpha KS-PME': 0.06540330973432007,\n",
       "  'Geography Alpha KS-PME': -0.4247728334480356,\n",
       "  'Sizing Alpha KS-PME': -0.011826733746159501,\n",
       "  'Residual Alpha KS-PME': 0.36154319529997725},\n",
       " {'Portfolio Direct Alpha': 0.011679445611746978,\n",
       "  'Market Direct Alpha': 0.03399607517871229,\n",
       "  'Timing Direct Alpha': -0.02189769165668632,\n",
       "  'Strategy Direct Alpha': 0.0020673508093529344,\n",
       "  'Geography Direct Alpha': -0.013044646644867548,\n",
       "  'Sizing Direct Alpha': -0.0005224419346110728,\n",
       "  'Residual Direct Alpha': 0.011080799859846696})"
      ]
     },
     "execution_count": 37,
     "metadata": {},
     "output_type": "execute_result"
    }
   ],
   "source": [
    "model_bad_vintage = model_builder(cashflows, port_cfs_bad_vintage)\n",
    "model_bad_vintage"
   ]
  },
  {
   "cell_type": "code",
   "execution_count": null,
   "id": "10556f35",
   "metadata": {},
   "outputs": [],
   "source": []
  }
 ],
 "metadata": {
  "kernelspec": {
   "display_name": "Python 3",
   "language": "python",
   "name": "python3"
  },
  "language_info": {
   "codemirror_mode": {
    "name": "ipython",
    "version": 3
   },
   "file_extension": ".py",
   "mimetype": "text/x-python",
   "name": "python",
   "nbconvert_exporter": "python",
   "pygments_lexer": "ipython3",
   "version": "3.11.9"
  }
 },
 "nbformat": 4,
 "nbformat_minor": 5
}
