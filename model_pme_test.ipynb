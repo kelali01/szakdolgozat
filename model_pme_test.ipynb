{
 "cells": [
  {
   "cell_type": "code",
   "execution_count": 9,
   "id": "274e4e13",
   "metadata": {},
   "outputs": [],
   "source": [
    "from model_builder_pme import model_builder\n",
    "from data_gen import simulate_private_equity_cashflows\n",
    "import numpy as np\n",
    "from pme_calc import sp500_data, xirr, ln_pme, ks_pme, pme_plus, direct_alpha, moic, index_weighted_cashflows"
   ]
  },
  {
   "cell_type": "code",
   "execution_count": 10,
   "id": "93a82015",
   "metadata": {},
   "outputs": [],
   "source": [
    "cashflows = simulate_private_equity_cashflows()"
   ]
  },
  {
   "cell_type": "code",
   "execution_count": 11,
   "id": "951096f7",
   "metadata": {},
   "outputs": [],
   "source": [
    "# Normalize the cashflows of each fund in the market\n",
    "\n",
    "def fund_weights(cashflows):\n",
    "    funds = cashflows['FundID'].unique() \n",
    "    weights = {}\n",
    "    for fund in funds:\n",
    "        fund_cashflows = cashflows[cashflows['FundID'] == fund]\n",
    "        weights[fund] = -fund_cashflows['Cashflow'].sum()\n",
    "    return weights\n",
    "\n",
    "cashflows_contr = cashflows[cashflows['Cashflow'] < 0]\n",
    "eq_cashflows_contr = fund_weights(cashflows_contr)\n",
    "\n",
    "def eq_calc(row):\n",
    "    fund = row['FundID']\n",
    "    cf = row['Cashflow']\n",
    "    \n",
    "    return cf / eq_cashflows_contr[fund]\n",
    "\n",
    "# Apply the function row-wise\n",
    "cashflows['eq_cashflow'] = cashflows.apply(eq_calc, axis=1)\n",
    "\n",
    "# Drop and rename\n",
    "cashflows = cashflows.drop(columns=['Cashflow']).rename(columns={'eq_cashflow': 'Cashflow'})"
   ]
  },
  {
   "cell_type": "code",
   "execution_count": 12,
   "id": "d9f84286",
   "metadata": {},
   "outputs": [],
   "source": [
    "def portfolio_cashflows(cashflows, portfolio_size):\n",
    "    # Randomly select fund IDs\n",
    "    selected_funds = np.random.choice(cashflows['FundID'].unique(), size=portfolio_size, replace=False)\n",
    "    \n",
    "    # Create a random size adjustment for each selected fund\n",
    "    size_adjustments = {fund: np.random.uniform(0.5, 2.0) for fund in selected_funds}\n",
    "    \n",
    "    # Filter the portfolio\n",
    "    portfolio = cashflows[cashflows['FundID'].isin(selected_funds)].copy()\n",
    "    \n",
    "    # Apply the size adjustment\n",
    "    portfolio['Cashflow'] = portfolio.apply(lambda row: row['Cashflow'] * size_adjustments[row['FundID']], axis=1)\n",
    "    \n",
    "    return portfolio"
   ]
  },
  {
   "cell_type": "code",
   "execution_count": 13,
   "id": "d6890309",
   "metadata": {},
   "outputs": [
    {
     "name": "stderr",
     "output_type": "stream",
     "text": [
      "[*********************100%***********************]  1 of 1 completed\n"
     ]
    },
    {
     "data": {
      "text/plain": [
       "({'Portfolio KS-PME': 1.9028910842378766,\n",
       "  'Market KS-PME': 1.9028910842378766,\n",
       "  'Timing Alpha KS-PME': 2.220446049250313e-16,\n",
       "  'Strategy Alpha KS-PME': 2.220446049250313e-16,\n",
       "  'Geography Alpha KS-PME': 2.220446049250313e-16,\n",
       "  'Sizing Alpha KS-PME': 0.0,\n",
       "  'Residual Alpha KS-PME': -6.661338147750939e-16},\n",
       " {'Portfolio Direct Alpha': 0.03399607517871229,\n",
       "  'Market Direct Alpha': 0.03399607517871229,\n",
       "  'Timing Direct Alpha': -2.1510571102112408e-16,\n",
       "  'Strategy Direct Alpha': -2.1510571102112408e-16,\n",
       "  'Geography Direct Alpha': -2.1510571102112408e-16,\n",
       "  'Sizing Direct Alpha': 0.0,\n",
       "  'Residual Direct Alpha': 6.453171330633722e-16})"
      ]
     },
     "execution_count": 13,
     "metadata": {},
     "output_type": "execute_result"
    }
   ],
   "source": [
    "port_cfs = portfolio_cashflows(cashflows, 200)\n",
    "port_cfs = port_cfs.copy()\n",
    "model = model_builder(cashflows, cashflows)\n",
    "model"
   ]
  },
  {
   "cell_type": "markdown",
   "id": "6a03d12e",
   "metadata": {},
   "source": [
    "### Monte-Carlo simulation"
   ]
  },
  {
   "cell_type": "code",
   "execution_count": null,
   "id": "fc32b3c1",
   "metadata": {},
   "outputs": [],
   "source": []
  }
 ],
 "metadata": {
  "kernelspec": {
   "display_name": "Python 3",
   "language": "python",
   "name": "python3"
  },
  "language_info": {
   "codemirror_mode": {
    "name": "ipython",
    "version": 3
   },
   "file_extension": ".py",
   "mimetype": "text/x-python",
   "name": "python",
   "nbconvert_exporter": "python",
   "pygments_lexer": "ipython3",
   "version": "3.11.9"
  }
 },
 "nbformat": 4,
 "nbformat_minor": 5
}
