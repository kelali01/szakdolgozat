{
 "cells": [
  {
   "cell_type": "code",
   "execution_count": 2,
   "id": "e964c04a",
   "metadata": {},
   "outputs": [],
   "source": [
    "from model_builder import model_builder\n",
    "from data_gen_ext import simulate_private_equity_cashflows_ext\n",
    "import numpy as np"
   ]
  },
  {
   "cell_type": "code",
   "execution_count": 48,
   "id": "606d2bcf",
   "metadata": {},
   "outputs": [],
   "source": [
    "cashflows = simulate_private_equity_cashflows_ext()"
   ]
  },
  {
   "cell_type": "code",
   "execution_count": 49,
   "id": "4410c307",
   "metadata": {},
   "outputs": [
    {
     "data": {
      "text/html": [
       "<div>\n",
       "<style scoped>\n",
       "    .dataframe tbody tr th:only-of-type {\n",
       "        vertical-align: middle;\n",
       "    }\n",
       "\n",
       "    .dataframe tbody tr th {\n",
       "        vertical-align: top;\n",
       "    }\n",
       "\n",
       "    .dataframe thead th {\n",
       "        text-align: right;\n",
       "    }\n",
       "</style>\n",
       "<table border=\"1\" class=\"dataframe\">\n",
       "  <thead>\n",
       "    <tr style=\"text-align: right;\">\n",
       "      <th></th>\n",
       "      <th>FundID</th>\n",
       "      <th>VintageYear</th>\n",
       "      <th>Strategy</th>\n",
       "      <th>Geography</th>\n",
       "      <th>FundQuality</th>\n",
       "      <th>Quarter</th>\n",
       "      <th>date</th>\n",
       "      <th>Cashflow</th>\n",
       "    </tr>\n",
       "  </thead>\n",
       "  <tbody>\n",
       "    <tr>\n",
       "      <th>0</th>\n",
       "      <td>0</td>\n",
       "      <td>1995</td>\n",
       "      <td>Venture</td>\n",
       "      <td>Europe</td>\n",
       "      <td>Bad</td>\n",
       "      <td>0</td>\n",
       "      <td>1995-03-31</td>\n",
       "      <td>-0.117893</td>\n",
       "    </tr>\n",
       "    <tr>\n",
       "      <th>1</th>\n",
       "      <td>0</td>\n",
       "      <td>1995</td>\n",
       "      <td>Venture</td>\n",
       "      <td>Europe</td>\n",
       "      <td>Bad</td>\n",
       "      <td>1</td>\n",
       "      <td>1995-06-30</td>\n",
       "      <td>-0.075568</td>\n",
       "    </tr>\n",
       "    <tr>\n",
       "      <th>2</th>\n",
       "      <td>0</td>\n",
       "      <td>1995</td>\n",
       "      <td>Venture</td>\n",
       "      <td>Europe</td>\n",
       "      <td>Bad</td>\n",
       "      <td>2</td>\n",
       "      <td>1995-09-30</td>\n",
       "      <td>-0.068922</td>\n",
       "    </tr>\n",
       "    <tr>\n",
       "      <th>3</th>\n",
       "      <td>0</td>\n",
       "      <td>1995</td>\n",
       "      <td>Venture</td>\n",
       "      <td>Europe</td>\n",
       "      <td>Bad</td>\n",
       "      <td>3</td>\n",
       "      <td>1995-12-31</td>\n",
       "      <td>-0.078510</td>\n",
       "    </tr>\n",
       "    <tr>\n",
       "      <th>4</th>\n",
       "      <td>0</td>\n",
       "      <td>1995</td>\n",
       "      <td>Venture</td>\n",
       "      <td>Europe</td>\n",
       "      <td>Bad</td>\n",
       "      <td>4</td>\n",
       "      <td>1996-03-31</td>\n",
       "      <td>-0.060517</td>\n",
       "    </tr>\n",
       "    <tr>\n",
       "      <th>...</th>\n",
       "      <td>...</td>\n",
       "      <td>...</td>\n",
       "      <td>...</td>\n",
       "      <td>...</td>\n",
       "      <td>...</td>\n",
       "      <td>...</td>\n",
       "      <td>...</td>\n",
       "      <td>...</td>\n",
       "    </tr>\n",
       "    <tr>\n",
       "      <th>118945</th>\n",
       "      <td>2399</td>\n",
       "      <td>1994</td>\n",
       "      <td>Buyout</td>\n",
       "      <td>Europe</td>\n",
       "      <td>Bad</td>\n",
       "      <td>52</td>\n",
       "      <td>2007-03-31</td>\n",
       "      <td>0.070475</td>\n",
       "    </tr>\n",
       "    <tr>\n",
       "      <th>118946</th>\n",
       "      <td>2399</td>\n",
       "      <td>1994</td>\n",
       "      <td>Buyout</td>\n",
       "      <td>Europe</td>\n",
       "      <td>Bad</td>\n",
       "      <td>53</td>\n",
       "      <td>2007-06-30</td>\n",
       "      <td>0.000000</td>\n",
       "    </tr>\n",
       "    <tr>\n",
       "      <th>118947</th>\n",
       "      <td>2399</td>\n",
       "      <td>1994</td>\n",
       "      <td>Buyout</td>\n",
       "      <td>Europe</td>\n",
       "      <td>Bad</td>\n",
       "      <td>54</td>\n",
       "      <td>2007-09-30</td>\n",
       "      <td>0.000000</td>\n",
       "    </tr>\n",
       "    <tr>\n",
       "      <th>118948</th>\n",
       "      <td>2399</td>\n",
       "      <td>1994</td>\n",
       "      <td>Buyout</td>\n",
       "      <td>Europe</td>\n",
       "      <td>Bad</td>\n",
       "      <td>55</td>\n",
       "      <td>2007-12-31</td>\n",
       "      <td>0.043193</td>\n",
       "    </tr>\n",
       "    <tr>\n",
       "      <th>118949</th>\n",
       "      <td>2399</td>\n",
       "      <td>1994</td>\n",
       "      <td>Buyout</td>\n",
       "      <td>Europe</td>\n",
       "      <td>Bad</td>\n",
       "      <td>56</td>\n",
       "      <td>2008-03-31</td>\n",
       "      <td>0.056851</td>\n",
       "    </tr>\n",
       "  </tbody>\n",
       "</table>\n",
       "<p>118950 rows × 8 columns</p>\n",
       "</div>"
      ],
      "text/plain": [
       "        FundID  VintageYear Strategy Geography FundQuality  Quarter  \\\n",
       "0            0         1995  Venture    Europe         Bad        0   \n",
       "1            0         1995  Venture    Europe         Bad        1   \n",
       "2            0         1995  Venture    Europe         Bad        2   \n",
       "3            0         1995  Venture    Europe         Bad        3   \n",
       "4            0         1995  Venture    Europe         Bad        4   \n",
       "...        ...          ...      ...       ...         ...      ...   \n",
       "118945    2399         1994   Buyout    Europe         Bad       52   \n",
       "118946    2399         1994   Buyout    Europe         Bad       53   \n",
       "118947    2399         1994   Buyout    Europe         Bad       54   \n",
       "118948    2399         1994   Buyout    Europe         Bad       55   \n",
       "118949    2399         1994   Buyout    Europe         Bad       56   \n",
       "\n",
       "             date  Cashflow  \n",
       "0      1995-03-31 -0.117893  \n",
       "1      1995-06-30 -0.075568  \n",
       "2      1995-09-30 -0.068922  \n",
       "3      1995-12-31 -0.078510  \n",
       "4      1996-03-31 -0.060517  \n",
       "...           ...       ...  \n",
       "118945 2007-03-31  0.070475  \n",
       "118946 2007-06-30  0.000000  \n",
       "118947 2007-09-30  0.000000  \n",
       "118948 2007-12-31  0.043193  \n",
       "118949 2008-03-31  0.056851  \n",
       "\n",
       "[118950 rows x 8 columns]"
      ]
     },
     "execution_count": 49,
     "metadata": {},
     "output_type": "execute_result"
    }
   ],
   "source": [
    "# Normalize the cashflows of each fund in the market\n",
    "\n",
    "def fund_weights(cashflows):\n",
    "    funds = cashflows['FundID'].unique() \n",
    "    weights = {}\n",
    "    for fund in funds:\n",
    "        fund_cashflows = cashflows[cashflows['FundID'] == fund]\n",
    "        weights[fund] = -fund_cashflows['Cashflow'].sum()\n",
    "    return weights\n",
    "\n",
    "cashflows_contr = cashflows[cashflows['Cashflow'] < 0]\n",
    "eq_cashflows_contr = fund_weights(cashflows_contr)\n",
    "\n",
    "def eq_calc(row):\n",
    "    fund = row['FundID']\n",
    "    cf = row['Cashflow']\n",
    "    \n",
    "    return cf / eq_cashflows_contr[fund]\n",
    "\n",
    "# Apply the function row-wise\n",
    "cashflows['eq_cashflow'] = cashflows.apply(eq_calc, axis=1)\n",
    "\n",
    "# Drop and rename\n",
    "cashflows = cashflows.drop(columns=['Cashflow']).rename(columns={'eq_cashflow': 'Cashflow'})\n",
    "\n",
    "cashflows"
   ]
  },
  {
   "cell_type": "code",
   "execution_count": 50,
   "id": "f901ca65",
   "metadata": {},
   "outputs": [],
   "source": [
    "def portfolio_cashflows(cashflows, portfolio_size):\n",
    "    # Randomly select fund IDs\n",
    "    selected_funds = np.random.choice(cashflows['FundID'].unique(), size=portfolio_size, replace=False)\n",
    "    \n",
    "    # Create a random size adjustment for each selected fund\n",
    "    size_adjustments = {fund: np.random.uniform(0.5, 2.0) for fund in selected_funds}\n",
    "    \n",
    "    # Filter the portfolio\n",
    "    portfolio = cashflows[cashflows['FundID'].isin(selected_funds)].copy()\n",
    "    \n",
    "    # Apply the size adjustment\n",
    "    portfolio['Cashflow'] = portfolio.apply(lambda row: row['Cashflow'] * size_adjustments[row['FundID']], axis=1)\n",
    "    \n",
    "    return portfolio"
   ]
  },
  {
   "cell_type": "code",
   "execution_count": 51,
   "id": "4b6abf19",
   "metadata": {},
   "outputs": [
    {
     "data": {
      "text/plain": [
       "({'Portfolio MOIC': 2.368349985546316,\n",
       "  'Market MOIC': 2.20305521722451,\n",
       "  'Timing Alpha MOIC': 0.0006498939074095489,\n",
       "  'Strategy Alpha MOIC': 0.023361543365379767,\n",
       "  'Geography Alpha MOIC': 0.058546630982378556,\n",
       "  'Sizing Alpha MOIC': 0.04216217451828319,\n",
       "  'Residual Alpha MOIC': 0.040574525548354945},\n",
       " {'Portfolio IRR': 0.14710087522587775,\n",
       "  'Market IRR': 0.13530799444845143,\n",
       "  'Timing Alpha IRR': -0.00015830380965786706,\n",
       "  'Strategy Alpha IRR': 0.0021908140882262728,\n",
       "  'Geography Alpha IRR': 0.008008507095438488,\n",
       "  'Sizing Alpha IRR': 0.0007805828817975535,\n",
       "  'Residual Alpha IRR': 0.0009712805216218756})"
      ]
     },
     "execution_count": 51,
     "metadata": {},
     "output_type": "execute_result"
    }
   ],
   "source": [
    "port_cfs = portfolio_cashflows(cashflows, 200)\n",
    "port_cfs = port_cfs.copy()\n",
    "model = model_builder(cashflows, port_cfs)\n",
    "model"
   ]
  },
  {
   "cell_type": "markdown",
   "id": "d99ebb88",
   "metadata": {},
   "source": [
    "### Monte-Carlo simulation"
   ]
  },
  {
   "cell_type": "code",
   "execution_count": 52,
   "id": "29b27ceb",
   "metadata": {},
   "outputs": [
    {
     "data": {
      "text/plain": [
       "({'Portfolio MOIC': 2.20305521722451,\n",
       "  'Market MOIC': 2.20305521722451,\n",
       "  'Timing Alpha MOIC': -4.440892098500626e-16,\n",
       "  'Strategy Alpha MOIC': -4.440892098500626e-16,\n",
       "  'Geography Alpha MOIC': -4.440892098500626e-16,\n",
       "  'Sizing Alpha MOIC': 0.0,\n",
       "  'Residual Alpha MOIC': 1.3322676295501878e-15},\n",
       " {'Portfolio IRR': 0.13530799444845143,\n",
       "  'Market IRR': 0.13530799444845143,\n",
       "  'Timing Alpha IRR': -8.326672684688674e-17,\n",
       "  'Strategy Alpha IRR': -8.326672684688674e-17,\n",
       "  'Geography Alpha IRR': 1.1102230246251565e-16,\n",
       "  'Sizing Alpha IRR': -2.7755575615628914e-17,\n",
       "  'Residual Alpha IRR': 8.326672684688674e-17})"
      ]
     },
     "execution_count": 52,
     "metadata": {},
     "output_type": "execute_result"
    }
   ],
   "source": [
    "market_model = model_builder(cashflows, cashflows)\n",
    "market_model"
   ]
  },
  {
   "cell_type": "code",
   "execution_count": 63,
   "id": "518b8243",
   "metadata": {},
   "outputs": [],
   "source": [
    "number_of_simulations = 15\n",
    "fund_size = 200\n",
    "moic_results = []\n",
    "irr_results = []\n",
    "\n",
    "for i in range(number_of_simulations):\n",
    "    port_cfs = portfolio_cashflows(cashflows, fund_size)\n",
    "    port_cfs = port_cfs.copy()\n",
    "    model = model_builder(cashflows, port_cfs)\n",
    "    moic_results.append(model[0])\n",
    "    irr_results.append(model[1])"
   ]
  },
  {
   "cell_type": "code",
   "execution_count": 64,
   "id": "db6c5581",
   "metadata": {},
   "outputs": [],
   "source": [
    "def average_dicts(dict_list):\n",
    "    \"\"\"Compute the average of a list of dictionaries.\"\"\"\n",
    "    keys = dict_list[0].keys()\n",
    "    avg_dict = {}\n",
    "    for key in keys:\n",
    "        avg_dict[key] = sum(d[key] for d in dict_list) / len(dict_list)\n",
    "    return avg_dict"
   ]
  },
  {
   "cell_type": "code",
   "execution_count": 65,
   "id": "a8d02c7e",
   "metadata": {},
   "outputs": [],
   "source": [
    "avg_moic_decomposition = average_dicts(moic_results)\n",
    "avg_irr_decomposition = average_dicts(irr_results)"
   ]
  },
  {
   "cell_type": "code",
   "execution_count": 66,
   "id": "537fce6f",
   "metadata": {},
   "outputs": [
    {
     "data": {
      "text/plain": [
       "{'Portfolio IRR': 0.13967777195374761,\n",
       " 'Market IRR': 0.1353079944484514,\n",
       " 'Timing Alpha IRR': 0.002192321011313969,\n",
       " 'Strategy Alpha IRR': 0.00013698296822062066,\n",
       " 'Geography Alpha IRR': 0.001285640138101307,\n",
       " 'Sizing Alpha IRR': 0.000138304696771524,\n",
       " 'Residual Alpha IRR': 0.0006165286908887883}"
      ]
     },
     "execution_count": 66,
     "metadata": {},
     "output_type": "execute_result"
    }
   ],
   "source": [
    "avg_irr_decomposition"
   ]
  },
  {
   "cell_type": "code",
   "execution_count": 67,
   "id": "6fc5ecdf",
   "metadata": {},
   "outputs": [
    {
     "data": {
      "text/plain": [
       "{'Portfolio MOIC': 2.2252519623142093,\n",
       " 'Market MOIC': 2.20305521722451,\n",
       " 'Timing Alpha MOIC': 0.007320658710469038,\n",
       " 'Strategy Alpha MOIC': 0.00564172524386913,\n",
       " 'Geography Alpha MOIC': 0.012781269047091648,\n",
       " 'Sizing Alpha MOIC': -0.0075351899963712835,\n",
       " 'Residual Alpha MOIC': 0.003988282084640845}"
      ]
     },
     "execution_count": 67,
     "metadata": {},
     "output_type": "execute_result"
    }
   ],
   "source": [
    "avg_moic_decomposition"
   ]
  },
  {
   "cell_type": "markdown",
   "id": "8bd5d541",
   "metadata": {},
   "source": [
    "## Analyze the individual effects"
   ]
  },
  {
   "cell_type": "markdown",
   "id": "7a062786",
   "metadata": {},
   "source": [
    "### strategy effect"
   ]
  },
  {
   "cell_type": "code",
   "execution_count": 24,
   "id": "2e4780e2",
   "metadata": {},
   "outputs": [],
   "source": [
    "venture_ids = cashflows[cashflows['Strategy'] == 'Venture']['FundID'].unique()\n",
    "buyout_ids = cashflows[cashflows['Strategy'] == 'Buyout']['FundID'].unique()\n",
    "growth_ids = cashflows[cashflows['Strategy'] == 'Growth']['FundID'].unique()\n",
    "venture_ids = np.append(venture_ids,(buyout_ids[0], growth_ids[0])) # we need at least one venture fund to make the model work\n",
    "buyout_ids = np.append(buyout_ids,(venture_ids[0], growth_ids[0])) # we need at least one buyout fund to make the model work\n",
    "growth_ids = np.append(growth_ids,(venture_ids[0], buyout_ids[0])) # we need at least one growth fund to make the model work"
   ]
  },
  {
   "cell_type": "code",
   "execution_count": 25,
   "id": "ff0bb995",
   "metadata": {},
   "outputs": [],
   "source": [
    "def portfolio_cashflows_by_id(cashflows, ids):\n",
    "\n",
    "    # Create a random size adjustment for each selected fund\n",
    "    size_adjustments = {fund: np.random.uniform(0.5, 2.0) for fund in ids}\n",
    "    \n",
    "    # Filter the portfolio\n",
    "    portfolio = cashflows[cashflows['FundID'].isin(ids)].copy()\n",
    "    \n",
    "    # Apply the size adjustment\n",
    "    portfolio['Cashflow'] = portfolio.apply(lambda row: row['Cashflow'] * size_adjustments[row['FundID']], axis=1)\n",
    "    \n",
    "    return portfolio"
   ]
  },
  {
   "cell_type": "code",
   "execution_count": 26,
   "id": "4540c1d4",
   "metadata": {},
   "outputs": [],
   "source": [
    "port_cfs_venture = portfolio_cashflows_by_id(cashflows, venture_ids)\n",
    "port_cfs_venture = port_cfs_venture.copy()\n",
    "port_cfs_buyout = portfolio_cashflows_by_id(cashflows, buyout_ids)\n",
    "port_cfs_buyout = port_cfs_buyout.copy()\n",
    "port_cfs_growth = portfolio_cashflows_by_id(cashflows, growth_ids)\n",
    "port_cfs_growth = port_cfs_growth.copy()"
   ]
  },
  {
   "cell_type": "code",
   "execution_count": 27,
   "id": "0617000c",
   "metadata": {},
   "outputs": [
    {
     "data": {
      "text/plain": [
       "({'Portfolio MOIC': 2.528864121082101,\n",
       "  'Market MOIC': 2.238462407235341,\n",
       "  'Timing Alpha MOIC': 0.00022781697474272278,\n",
       "  'Strategy Alpha MOIC': 0.34322553567369196,\n",
       "  'Geography Alpha MOIC': -0.0022564436823397926,\n",
       "  'Sizing Alpha MOIC': -0.04250913738661444,\n",
       "  'Residual Alpha MOIC': -0.008286057732720842},\n",
       " {'Portfolio IRR': 0.1674890251827219,\n",
       "  'Market IRR': 0.140889175321854,\n",
       "  'Timing Alpha IRR': -0.0005030394450960263,\n",
       "  'Strategy Alpha IRR': 0.028972995038668126,\n",
       "  'Geography Alpha IRR': 0.0007343651135306717,\n",
       "  'Sizing Alpha IRR': -0.0010327312319083626,\n",
       "  'Residual Alpha IRR': -0.001571739614326495})"
      ]
     },
     "execution_count": 27,
     "metadata": {},
     "output_type": "execute_result"
    }
   ],
   "source": [
    "model_venture = model_builder(cashflows, port_cfs_venture)\n",
    "model_venture"
   ]
  },
  {
   "cell_type": "code",
   "execution_count": 28,
   "id": "1c843837",
   "metadata": {},
   "outputs": [
    {
     "data": {
      "text/plain": [
       "({'Portfolio MOIC': 1.8932745042913788,\n",
       "  'Market MOIC': 2.238462407235341,\n",
       "  'Timing Alpha MOIC': -0.0004152628889313448,\n",
       "  'Strategy Alpha MOIC': -0.3566587636148473,\n",
       "  'Geography Alpha MOIC': -0.0002367727203451686,\n",
       "  'Sizing Alpha MOIC': 0.01630609833361718,\n",
       "  'Residual Alpha MOIC': -0.004183202053455792},\n",
       " {'Portfolio IRR': 0.10783871228839584,\n",
       "  'Market IRR': 0.140889175321854,\n",
       "  'Timing Alpha IRR': 9.644443888659482e-05,\n",
       "  'Strategy Alpha IRR': -0.033975104283314614,\n",
       "  'Geography Alpha IRR': -0.0013425376853895554,\n",
       "  'Sizing Alpha IRR': 0.0014135295197639092,\n",
       "  'Residual Alpha IRR': 0.0007572049765955102})"
      ]
     },
     "execution_count": 28,
     "metadata": {},
     "output_type": "execute_result"
    }
   ],
   "source": [
    "model_buyout = model_builder(cashflows, port_cfs_buyout)\n",
    "model_buyout"
   ]
  },
  {
   "cell_type": "code",
   "execution_count": 30,
   "id": "188292d3",
   "metadata": {},
   "outputs": [
    {
     "data": {
      "text/plain": [
       "({'Portfolio MOIC': 2.250547420305834,\n",
       "  'Market MOIC': 2.238462407235341,\n",
       "  'Timing Alpha MOIC': -0.003730923076746606,\n",
       "  'Strategy Alpha MOIC': 0.016201989818888318,\n",
       "  'Geography Alpha MOIC': 0.016619595828721856,\n",
       "  'Sizing Alpha MOIC': 0.0029050738106741747,\n",
       "  'Residual Alpha MOIC': -0.01991072331104471},\n",
       " {'Portfolio IRR': 0.14456192922430958,\n",
       "  'Market IRR': 0.140889175321854,\n",
       "  'Timing Alpha IRR': -0.0004941532464196596,\n",
       "  'Strategy Alpha IRR': 0.002215031897355696,\n",
       "  'Geography Alpha IRR': 0.0019375300465210021,\n",
       "  'Sizing Alpha IRR': 0.0022835243739518785,\n",
       "  'Residual Alpha IRR': -0.0022691791689533336})"
      ]
     },
     "execution_count": 30,
     "metadata": {},
     "output_type": "execute_result"
    }
   ],
   "source": [
    "model_growth = model_builder(cashflows, port_cfs_growth)\n",
    "model_growth"
   ]
  },
  {
   "cell_type": "markdown",
   "id": "1d5f8fc3",
   "metadata": {},
   "source": [
    "### Geo effect"
   ]
  },
  {
   "cell_type": "code",
   "execution_count": 31,
   "id": "e69eb333",
   "metadata": {},
   "outputs": [],
   "source": [
    "america_ids = cashflows[cashflows['Geography'] == 'North America']['FundID'].unique()\n",
    "eu_ids = cashflows[cashflows['Geography'] == 'Europe']['FundID'].unique()\n",
    "asia_ids = cashflows[cashflows['Geography'] == 'Asia']['FundID'].unique()\n",
    "america_ids = np.append(america_ids,(eu_ids[0], asia_ids[0])) # we need at least one venture fund to make the model work\n",
    "eu_ids = np.append(eu_ids,(america_ids[0], asia_ids[0])) # we need at least one buyout fund to make the model work\n",
    "asia_ids = np.append(asia_ids,(america_ids[0], eu_ids[0])) # we need at least one growth fund to make the model work"
   ]
  },
  {
   "cell_type": "code",
   "execution_count": 32,
   "id": "3e7f8eaa",
   "metadata": {},
   "outputs": [],
   "source": [
    "port_cfs_america = portfolio_cashflows_by_id(cashflows, america_ids)\n",
    "port_cfs_america = port_cfs_america.copy()\n",
    "port_cfs_eu = portfolio_cashflows_by_id(cashflows, eu_ids)\n",
    "port_cfs_eu = port_cfs_eu.copy()\n",
    "port_cfs_asia = portfolio_cashflows_by_id(cashflows, asia_ids)\n",
    "port_cfs_asia = port_cfs_asia.copy()"
   ]
  },
  {
   "cell_type": "code",
   "execution_count": 33,
   "id": "c5ecc6ae",
   "metadata": {},
   "outputs": [
    {
     "data": {
      "text/plain": [
       "({'Portfolio MOIC': 2.6396208881454695,\n",
       "  'Market MOIC': 2.238462407235341,\n",
       "  'Timing Alpha MOIC': 0.022553806183613023,\n",
       "  'Strategy Alpha MOIC': 0.010950519104901524,\n",
       "  'Geography Alpha MOIC': 0.368692965794029,\n",
       "  'Sizing Alpha MOIC': 0.0077969275576905694,\n",
       "  'Residual Alpha MOIC': -0.00883573773010582},\n",
       " {'Portfolio IRR': 0.17022812987785363,\n",
       "  'Market IRR': 0.140889175321854,\n",
       "  'Timing Alpha IRR': 0.0017877771722839553,\n",
       "  'Strategy Alpha IRR': 0.0016159628853012198,\n",
       "  'Geography Alpha IRR': 0.02734135898415435,\n",
       "  'Sizing Alpha IRR': 0.0014304191141819855,\n",
       "  'Residual Alpha IRR': -0.0028365635999218763})"
      ]
     },
     "execution_count": 33,
     "metadata": {},
     "output_type": "execute_result"
    }
   ],
   "source": [
    "model_america = model_builder(cashflows, port_cfs_america)\n",
    "model_america"
   ]
  },
  {
   "cell_type": "code",
   "execution_count": 34,
   "id": "9d2f925b",
   "metadata": {},
   "outputs": [
    {
     "data": {
      "text/plain": [
       "({'Portfolio MOIC': 2.4159776687087815,\n",
       "  'Market MOIC': 2.238462407235341,\n",
       "  'Timing Alpha MOIC': -0.0009422846295557008,\n",
       "  'Strategy Alpha MOIC': -0.0014420719278276373,\n",
       "  'Geography Alpha MOIC': 0.17262321481235343,\n",
       "  'Sizing Alpha MOIC': 0.013093599104776033,\n",
       "  'Residual Alpha MOIC': -0.005817195886305804},\n",
       " {'Portfolio IRR': 0.16148393893724658,\n",
       "  'Market IRR': 0.140889175321854,\n",
       "  'Timing Alpha IRR': -3.2419462365984586e-05,\n",
       "  'Strategy Alpha IRR': 0.0007392177381027598,\n",
       "  'Geography Alpha IRR': 0.01948575436362504,\n",
       "  'Sizing Alpha IRR': 0.0018824880112515985,\n",
       "  'Residual Alpha IRR': -0.0014802770352208283})"
      ]
     },
     "execution_count": 34,
     "metadata": {},
     "output_type": "execute_result"
    }
   ],
   "source": [
    "model_eu = model_builder(cashflows, port_cfs_eu)\n",
    "model_eu"
   ]
  },
  {
   "cell_type": "code",
   "execution_count": 35,
   "id": "cfe9b620",
   "metadata": {},
   "outputs": [
    {
     "data": {
      "text/plain": [
       "({'Portfolio MOIC': 1.6595094852994978,\n",
       "  'Market MOIC': 2.238462407235341,\n",
       "  'Timing Alpha MOIC': -0.023160646568719745,\n",
       "  'Strategy Alpha MOIC': -0.02317502228431323,\n",
       "  'Geography Alpha MOIC': -0.5596177506659177,\n",
       "  'Sizing Alpha MOIC': -0.009589904764140345,\n",
       "  'Residual Alpha MOIC': 0.03659040234724764},\n",
       " {'Portfolio IRR': 0.08595735082362668,\n",
       "  'Market IRR': 0.140889175321854,\n",
       "  'Timing Alpha IRR': -0.0017419499020160656,\n",
       "  'Strategy Alpha IRR': -0.002949389898671051,\n",
       "  'Geography Alpha IRR': -0.052248176063407814,\n",
       "  'Sizing Alpha IRR': -0.0016894271211575634,\n",
       "  'Residual Alpha IRR': 0.0036971184870251833})"
      ]
     },
     "execution_count": 35,
     "metadata": {},
     "output_type": "execute_result"
    }
   ],
   "source": [
    "model_asia = model_builder(cashflows, port_cfs_asia)\n",
    "model_asia"
   ]
  },
  {
   "cell_type": "markdown",
   "id": "11e3a680",
   "metadata": {},
   "source": [
    "### Fund quality"
   ]
  },
  {
   "cell_type": "code",
   "execution_count": 36,
   "id": "ea8748bc",
   "metadata": {},
   "outputs": [],
   "source": [
    "good_ids = cashflows[cashflows['FundQuality'] == 'Good']['FundID'].unique()\n",
    "bad_ids = cashflows[cashflows['FundQuality'] == 'Bad']['FundID'].unique()\n",
    "good_ids = np.append(good_ids,bad_ids[0]) # we need at least one venture fund to make the model work\n",
    "bad_ids = np.append(bad_ids,good_ids[0]) # we need at least one buyout fund to make the model work"
   ]
  },
  {
   "cell_type": "code",
   "execution_count": 37,
   "id": "f6064861",
   "metadata": {},
   "outputs": [],
   "source": [
    "port_cfs_good = portfolio_cashflows_by_id(cashflows, good_ids)\n",
    "port_cfs_good = port_cfs_good.copy()    \n",
    "port_cfs_bad = portfolio_cashflows_by_id(cashflows, bad_ids)\n",
    "port_cfs_bad = port_cfs_bad.copy()"
   ]
  },
  {
   "cell_type": "code",
   "execution_count": 38,
   "id": "013e5df6",
   "metadata": {},
   "outputs": [
    {
     "data": {
      "text/plain": [
       "({'Portfolio MOIC': 2.963707594067612,\n",
       "  'Market MOIC': 2.238462407235341,\n",
       "  'Timing Alpha MOIC': 0.0037403174076477974,\n",
       "  'Strategy Alpha MOIC': 0.012488456861852626,\n",
       "  'Geography Alpha MOIC': 0.0120526474932241,\n",
       "  'Sizing Alpha MOIC': 0.0015763515336675304,\n",
       "  'Residual Alpha MOIC': 0.6953874135358786},\n",
       " {'Portfolio IRR': 0.1981588060277388,\n",
       "  'Market IRR': 0.140889175321854,\n",
       "  'Timing Alpha IRR': 0.0007184733930143683,\n",
       "  'Strategy Alpha IRR': 0.0010990495998028371,\n",
       "  'Geography Alpha IRR': 0.0005558753593686294,\n",
       "  'Sizing Alpha IRR': -3.850548064013304e-05,\n",
       "  'Residual Alpha IRR': 0.05493473783433911})"
      ]
     },
     "execution_count": 38,
     "metadata": {},
     "output_type": "execute_result"
    }
   ],
   "source": [
    "model_good = model_builder(cashflows, port_cfs_good)\n",
    "model_good"
   ]
  },
  {
   "cell_type": "code",
   "execution_count": 39,
   "id": "e3610b60",
   "metadata": {},
   "outputs": [
    {
     "data": {
      "text/plain": [
       "({'Portfolio MOIC': 1.541586884450072,\n",
       "  'Market MOIC': 2.238462407235341,\n",
       "  'Timing Alpha MOIC': -0.0056064721734148115,\n",
       "  'Strategy Alpha MOIC': -0.007845604096410774,\n",
       "  'Geography Alpha MOIC': -0.0035993949528125846,\n",
       "  'Sizing Alpha MOIC': 0.003069089554867288,\n",
       "  'Residual Alpha MOIC': -0.6828931411174983},\n",
       " {'Portfolio IRR': 0.07082198288690467,\n",
       "  'Market IRR': 0.140889175321854,\n",
       "  'Timing Alpha IRR': -0.0005822716148550233,\n",
       "  'Strategy Alpha IRR': -0.0005440242572734566,\n",
       "  'Geography Alpha IRR': 0.00045248933609678965,\n",
       "  'Sizing Alpha IRR': 0.00045663114362046175,\n",
       "  'Residual Alpha IRR': -0.0698500170425381})"
      ]
     },
     "execution_count": 39,
     "metadata": {},
     "output_type": "execute_result"
    }
   ],
   "source": [
    "model_bad = model_builder(cashflows, port_cfs_bad)\n",
    "model_bad"
   ]
  },
  {
   "cell_type": "markdown",
   "id": "ad5134be",
   "metadata": {},
   "source": [
    "### Vintage effect"
   ]
  },
  {
   "cell_type": "code",
   "execution_count": 40,
   "id": "fb8f0daf",
   "metadata": {},
   "outputs": [],
   "source": [
    "vintage_ids = {}\n",
    "for vint in cashflows['VintageYear'].unique():\n",
    "    vint_ids = cashflows[cashflows['VintageYear'] == vint]['FundID'].unique()\n",
    "    vintage_ids[vint] = vint_ids"
   ]
  },
  {
   "cell_type": "code",
   "execution_count": 41,
   "id": "4538602d",
   "metadata": {},
   "outputs": [],
   "source": [
    "import random\n",
    "def pick_one_per_vintage(fund_dict):\n",
    "    selected_ids = []\n",
    "\n",
    "    for vintage, fund_ids in fund_dict.items():\n",
    "        # Randomly pick one fund from this vintage\n",
    "        fund_ids = list(fund_ids)  # ensure it's a list\n",
    "        selected_id = random.choice(fund_ids)\n",
    "        selected_ids.append(selected_id)\n",
    "\n",
    "    return np.array(selected_ids)\n",
    "\n",
    "one_from_each = pick_one_per_vintage(vintage_ids)"
   ]
  },
  {
   "cell_type": "code",
   "execution_count": 42,
   "id": "6a23d5a0",
   "metadata": {},
   "outputs": [],
   "source": [
    "good_vintage_ids = cashflows[cashflows['VintageYear'] % 2 == 1]['FundID'].unique()\n",
    "bad_vintage_ids = cashflows[cashflows['VintageYear'] % 2 == 0]['FundID'].unique()\n",
    "good_vintage_ids = np.append(good_vintage_ids,one_from_each) # we need at least one venture fund to make the model work\n",
    "bad_vintage_ids = np.append(bad_vintage_ids,one_from_each) # we need at least one buyout fund to make the model work"
   ]
  },
  {
   "cell_type": "code",
   "execution_count": 43,
   "id": "1b56d452",
   "metadata": {},
   "outputs": [],
   "source": [
    "port_cfs_good_vintage = portfolio_cashflows_by_id(cashflows, good_vintage_ids)\n",
    "port_cfs_good_vintage = port_cfs_good_vintage.copy()\n",
    "port_cfs_bad_vintage = portfolio_cashflows_by_id(cashflows, bad_vintage_ids)\n",
    "port_cfs_bad_vintage = port_cfs_bad_vintage.copy()"
   ]
  },
  {
   "cell_type": "code",
   "execution_count": 44,
   "id": "8587669a",
   "metadata": {},
   "outputs": [
    {
     "data": {
      "text/plain": [
       "({'Portfolio MOIC': 2.5391525268540347,\n",
       "  'Market MOIC': 2.238462407235341,\n",
       "  'Timing Alpha MOIC': 0.3101218181352121,\n",
       "  'Strategy Alpha MOIC': 0.0005587543279950147,\n",
       "  'Geography Alpha MOIC': -0.010671429353007689,\n",
       "  'Sizing Alpha MOIC': -0.008787322907759965,\n",
       "  'Residual Alpha MOIC': 0.009468299416254045},\n",
       " {'Portfolio IRR': 0.16718252643789477,\n",
       "  'Market IRR': 0.140889175321854,\n",
       "  'Timing Alpha IRR': 0.026856832157967442,\n",
       "  'Strategy Alpha IRR': -0.0028248882741917503,\n",
       "  'Geography Alpha IRR': -0.0039821055926791415,\n",
       "  'Sizing Alpha IRR': -0.0005004487328571783,\n",
       "  'Residual Alpha IRR': 0.006743961557801409})"
      ]
     },
     "execution_count": 44,
     "metadata": {},
     "output_type": "execute_result"
    }
   ],
   "source": [
    "model_good_vintage = model_builder(cashflows, port_cfs_good_vintage)\n",
    "model_good_vintage"
   ]
  },
  {
   "cell_type": "code",
   "execution_count": 45,
   "id": "2f863ea6",
   "metadata": {},
   "outputs": [
    {
     "data": {
      "text/plain": [
       "({'Portfolio MOIC': 1.912453178799579,\n",
       "  'Market MOIC': 2.238462407235341,\n",
       "  'Timing Alpha MOIC': -0.3269468866019516,\n",
       "  'Strategy Alpha MOIC': -0.040376136416460096,\n",
       "  'Geography Alpha MOIC': 0.052970839432698646,\n",
       "  'Sizing Alpha MOIC': 0.0001589659647140973,\n",
       "  'Residual Alpha MOIC': -0.011816010814763134},\n",
       " {'Portfolio IRR': 0.11190288665763065,\n",
       "  'Market IRR': 0.140889175321854,\n",
       "  'Timing Alpha IRR': -0.028555901752591054,\n",
       "  'Strategy Alpha IRR': -0.0071366844418671305,\n",
       "  'Geography Alpha IRR': 0.0035140878355821026,\n",
       "  'Sizing Alpha IRR': -0.0004233186167931918,\n",
       "  'Residual Alpha IRR': 0.0036155283114459313})"
      ]
     },
     "execution_count": 45,
     "metadata": {},
     "output_type": "execute_result"
    }
   ],
   "source": [
    "model_bad_vintage = model_builder(cashflows, port_cfs_bad_vintage)\n",
    "model_bad_vintage"
   ]
  },
  {
   "cell_type": "code",
   "execution_count": null,
   "id": "5f71c423",
   "metadata": {},
   "outputs": [],
   "source": []
  }
 ],
 "metadata": {
  "kernelspec": {
   "display_name": "Python 3",
   "language": "python",
   "name": "python3"
  },
  "language_info": {
   "codemirror_mode": {
    "name": "ipython",
    "version": 3
   },
   "file_extension": ".py",
   "mimetype": "text/x-python",
   "name": "python",
   "nbconvert_exporter": "python",
   "pygments_lexer": "ipython3",
   "version": "3.11.9"
  }
 },
 "nbformat": 4,
 "nbformat_minor": 5
}
