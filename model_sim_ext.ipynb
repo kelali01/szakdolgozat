{
 "cells": [
  {
   "cell_type": "code",
   "execution_count": 1,
   "id": "e964c04a",
   "metadata": {},
   "outputs": [],
   "source": [
    "from model_builder import model_builder\n",
    "from data_gen_ext import simulate_private_equity_cashflows_ext\n",
    "import numpy as np"
   ]
  },
  {
   "cell_type": "code",
   "execution_count": 2,
   "id": "606d2bcf",
   "metadata": {},
   "outputs": [],
   "source": [
    "cashflows = simulate_private_equity_cashflows_ext()"
   ]
  },
  {
   "cell_type": "code",
   "execution_count": 3,
   "id": "4410c307",
   "metadata": {},
   "outputs": [
    {
     "data": {
      "text/html": [
       "<div>\n",
       "<style scoped>\n",
       "    .dataframe tbody tr th:only-of-type {\n",
       "        vertical-align: middle;\n",
       "    }\n",
       "\n",
       "    .dataframe tbody tr th {\n",
       "        vertical-align: top;\n",
       "    }\n",
       "\n",
       "    .dataframe thead th {\n",
       "        text-align: right;\n",
       "    }\n",
       "</style>\n",
       "<table border=\"1\" class=\"dataframe\">\n",
       "  <thead>\n",
       "    <tr style=\"text-align: right;\">\n",
       "      <th></th>\n",
       "      <th>FundID</th>\n",
       "      <th>VintageYear</th>\n",
       "      <th>Strategy</th>\n",
       "      <th>Geography</th>\n",
       "      <th>FundQuality</th>\n",
       "      <th>Quarter</th>\n",
       "      <th>date</th>\n",
       "      <th>Cashflow</th>\n",
       "    </tr>\n",
       "  </thead>\n",
       "  <tbody>\n",
       "    <tr>\n",
       "      <th>0</th>\n",
       "      <td>0</td>\n",
       "      <td>2002</td>\n",
       "      <td>Growth</td>\n",
       "      <td>Asia</td>\n",
       "      <td>Good</td>\n",
       "      <td>0</td>\n",
       "      <td>2002-03-31</td>\n",
       "      <td>-0.229863</td>\n",
       "    </tr>\n",
       "    <tr>\n",
       "      <th>1</th>\n",
       "      <td>0</td>\n",
       "      <td>2002</td>\n",
       "      <td>Growth</td>\n",
       "      <td>Asia</td>\n",
       "      <td>Good</td>\n",
       "      <td>1</td>\n",
       "      <td>2002-06-30</td>\n",
       "      <td>0.000000</td>\n",
       "    </tr>\n",
       "    <tr>\n",
       "      <th>2</th>\n",
       "      <td>0</td>\n",
       "      <td>2002</td>\n",
       "      <td>Growth</td>\n",
       "      <td>Asia</td>\n",
       "      <td>Good</td>\n",
       "      <td>2</td>\n",
       "      <td>2002-09-30</td>\n",
       "      <td>-0.134382</td>\n",
       "    </tr>\n",
       "    <tr>\n",
       "      <th>3</th>\n",
       "      <td>0</td>\n",
       "      <td>2002</td>\n",
       "      <td>Growth</td>\n",
       "      <td>Asia</td>\n",
       "      <td>Good</td>\n",
       "      <td>3</td>\n",
       "      <td>2002-12-31</td>\n",
       "      <td>0.000000</td>\n",
       "    </tr>\n",
       "    <tr>\n",
       "      <th>4</th>\n",
       "      <td>0</td>\n",
       "      <td>2002</td>\n",
       "      <td>Growth</td>\n",
       "      <td>Asia</td>\n",
       "      <td>Good</td>\n",
       "      <td>4</td>\n",
       "      <td>2003-03-31</td>\n",
       "      <td>-0.117993</td>\n",
       "    </tr>\n",
       "    <tr>\n",
       "      <th>...</th>\n",
       "      <td>...</td>\n",
       "      <td>...</td>\n",
       "      <td>...</td>\n",
       "      <td>...</td>\n",
       "      <td>...</td>\n",
       "      <td>...</td>\n",
       "      <td>...</td>\n",
       "      <td>...</td>\n",
       "    </tr>\n",
       "    <tr>\n",
       "      <th>118740</th>\n",
       "      <td>2399</td>\n",
       "      <td>2002</td>\n",
       "      <td>Buyout</td>\n",
       "      <td>Asia</td>\n",
       "      <td>Good</td>\n",
       "      <td>50</td>\n",
       "      <td>2014-09-30</td>\n",
       "      <td>0.034115</td>\n",
       "    </tr>\n",
       "    <tr>\n",
       "      <th>118741</th>\n",
       "      <td>2399</td>\n",
       "      <td>2002</td>\n",
       "      <td>Buyout</td>\n",
       "      <td>Asia</td>\n",
       "      <td>Good</td>\n",
       "      <td>51</td>\n",
       "      <td>2014-12-31</td>\n",
       "      <td>0.000000</td>\n",
       "    </tr>\n",
       "    <tr>\n",
       "      <th>118742</th>\n",
       "      <td>2399</td>\n",
       "      <td>2002</td>\n",
       "      <td>Buyout</td>\n",
       "      <td>Asia</td>\n",
       "      <td>Good</td>\n",
       "      <td>52</td>\n",
       "      <td>2015-03-31</td>\n",
       "      <td>0.000000</td>\n",
       "    </tr>\n",
       "    <tr>\n",
       "      <th>118743</th>\n",
       "      <td>2399</td>\n",
       "      <td>2002</td>\n",
       "      <td>Buyout</td>\n",
       "      <td>Asia</td>\n",
       "      <td>Good</td>\n",
       "      <td>53</td>\n",
       "      <td>2015-06-30</td>\n",
       "      <td>0.088846</td>\n",
       "    </tr>\n",
       "    <tr>\n",
       "      <th>118744</th>\n",
       "      <td>2399</td>\n",
       "      <td>2002</td>\n",
       "      <td>Buyout</td>\n",
       "      <td>Asia</td>\n",
       "      <td>Good</td>\n",
       "      <td>54</td>\n",
       "      <td>2015-09-30</td>\n",
       "      <td>0.000000</td>\n",
       "    </tr>\n",
       "  </tbody>\n",
       "</table>\n",
       "<p>118745 rows × 8 columns</p>\n",
       "</div>"
      ],
      "text/plain": [
       "        FundID  VintageYear Strategy Geography FundQuality  Quarter  \\\n",
       "0            0         2002   Growth      Asia        Good        0   \n",
       "1            0         2002   Growth      Asia        Good        1   \n",
       "2            0         2002   Growth      Asia        Good        2   \n",
       "3            0         2002   Growth      Asia        Good        3   \n",
       "4            0         2002   Growth      Asia        Good        4   \n",
       "...        ...          ...      ...       ...         ...      ...   \n",
       "118740    2399         2002   Buyout      Asia        Good       50   \n",
       "118741    2399         2002   Buyout      Asia        Good       51   \n",
       "118742    2399         2002   Buyout      Asia        Good       52   \n",
       "118743    2399         2002   Buyout      Asia        Good       53   \n",
       "118744    2399         2002   Buyout      Asia        Good       54   \n",
       "\n",
       "             date  Cashflow  \n",
       "0      2002-03-31 -0.229863  \n",
       "1      2002-06-30  0.000000  \n",
       "2      2002-09-30 -0.134382  \n",
       "3      2002-12-31  0.000000  \n",
       "4      2003-03-31 -0.117993  \n",
       "...           ...       ...  \n",
       "118740 2014-09-30  0.034115  \n",
       "118741 2014-12-31  0.000000  \n",
       "118742 2015-03-31  0.000000  \n",
       "118743 2015-06-30  0.088846  \n",
       "118744 2015-09-30  0.000000  \n",
       "\n",
       "[118745 rows x 8 columns]"
      ]
     },
     "execution_count": 3,
     "metadata": {},
     "output_type": "execute_result"
    }
   ],
   "source": [
    "# Normalize the cashflows of each fund in the market\n",
    "\n",
    "def fund_weights(cashflows):\n",
    "    funds = cashflows['FundID'].unique() \n",
    "    weights = {}\n",
    "    for fund in funds:\n",
    "        fund_cashflows = cashflows[cashflows['FundID'] == fund]\n",
    "        weights[fund] = -fund_cashflows['Cashflow'].sum()\n",
    "    return weights\n",
    "\n",
    "cashflows_contr = cashflows[cashflows['Cashflow'] < 0]\n",
    "eq_cashflows_contr = fund_weights(cashflows_contr)\n",
    "\n",
    "def eq_calc(row):\n",
    "    fund = row['FundID']\n",
    "    cf = row['Cashflow']\n",
    "    \n",
    "    return cf / eq_cashflows_contr[fund]\n",
    "\n",
    "# Apply the function row-wise\n",
    "cashflows['eq_cashflow'] = cashflows.apply(eq_calc, axis=1)\n",
    "\n",
    "# Drop and rename\n",
    "cashflows = cashflows.drop(columns=['Cashflow']).rename(columns={'eq_cashflow': 'Cashflow'})\n",
    "\n",
    "cashflows"
   ]
  },
  {
   "cell_type": "code",
   "execution_count": 4,
   "id": "f901ca65",
   "metadata": {},
   "outputs": [],
   "source": [
    "def portfolio_cashflows(cashflows, portfolio_size):\n",
    "    # Randomly select fund IDs\n",
    "    selected_funds = np.random.choice(cashflows['FundID'].unique(), size=portfolio_size, replace=False)\n",
    "    \n",
    "    # Create a random size adjustment for each selected fund\n",
    "    size_adjustments = {fund: np.random.uniform(0.5, 2.0) for fund in selected_funds}\n",
    "    \n",
    "    # Filter the portfolio\n",
    "    portfolio = cashflows[cashflows['FundID'].isin(selected_funds)].copy()\n",
    "    \n",
    "    # Apply the size adjustment\n",
    "    portfolio['Cashflow'] = portfolio.apply(lambda row: row['Cashflow'] * size_adjustments[row['FundID']], axis=1)\n",
    "    \n",
    "    return portfolio"
   ]
  },
  {
   "cell_type": "code",
   "execution_count": 5,
   "id": "4b6abf19",
   "metadata": {},
   "outputs": [
    {
     "data": {
      "text/plain": [
       "({'Portfolio MOIC': 2.1482651727900914,\n",
       "  'Market MOIC': 2.0770482398756984,\n",
       "  'Timing Alpha MOIC': 0.013055961746447853,\n",
       "  'Strategy Alpha MOIC': -0.012330854345893094,\n",
       "  'Geography Alpha MOIC': -0.01908166147731105,\n",
       "  'Sizing Alpha MOIC': -0.01012836306405962,\n",
       "  'Residual Alpha MOIC': 0.09970185005520893},\n",
       " {'Portfolio IRR': 0.13409949856468345,\n",
       "  'Market IRR': 0.12621241937725386,\n",
       "  'Timing Alpha IRR': 0.003919674376440335,\n",
       "  'Strategy Alpha IRR': -0.0018335582581840842,\n",
       "  'Geography Alpha IRR': -0.0026395418891384526,\n",
       "  'Sizing Alpha IRR': 0.00048109334161342,\n",
       "  'Residual Alpha IRR': 0.007959411616698372})"
      ]
     },
     "execution_count": 5,
     "metadata": {},
     "output_type": "execute_result"
    }
   ],
   "source": [
    "port_cfs = portfolio_cashflows(cashflows, 200)\n",
    "port_cfs = port_cfs.copy()\n",
    "model = model_builder(cashflows, port_cfs)\n",
    "model"
   ]
  },
  {
   "cell_type": "markdown",
   "id": "d99ebb88",
   "metadata": {},
   "source": [
    "### Monte-Carlo simulation"
   ]
  },
  {
   "cell_type": "code",
   "execution_count": 6,
   "id": "29b27ceb",
   "metadata": {},
   "outputs": [
    {
     "data": {
      "text/plain": [
       "({'Portfolio MOIC': 2.0770482398756984,\n",
       "  'Market MOIC': 2.0770482398756984,\n",
       "  'Timing Alpha MOIC': 4.440892098500626e-16,\n",
       "  'Strategy Alpha MOIC': 4.440892098500626e-16,\n",
       "  'Geography Alpha MOIC': 4.440892098500626e-16,\n",
       "  'Sizing Alpha MOIC': 0.0,\n",
       "  'Residual Alpha MOIC': -1.3322676295501878e-15},\n",
       " {'Portfolio IRR': 0.12621241937725386,\n",
       "  'Market IRR': 0.12621241937725386,\n",
       "  'Timing Alpha IRR': -5.551115123125783e-17,\n",
       "  'Strategy Alpha IRR': -5.551115123125783e-17,\n",
       "  'Geography Alpha IRR': -5.551115123125783e-17,\n",
       "  'Sizing Alpha IRR': 0.0,\n",
       "  'Residual Alpha IRR': 1.6653345369377348e-16})"
      ]
     },
     "execution_count": 6,
     "metadata": {},
     "output_type": "execute_result"
    }
   ],
   "source": [
    "market_model = model_builder(cashflows, cashflows)\n",
    "market_model"
   ]
  },
  {
   "cell_type": "code",
   "execution_count": 17,
   "id": "518b8243",
   "metadata": {},
   "outputs": [],
   "source": [
    "number_of_simulations = 80\n",
    "fund_size = 200\n",
    "moic_results = []\n",
    "irr_results = []\n",
    "\n",
    "for i in range(number_of_simulations):\n",
    "    port_cfs = portfolio_cashflows(cashflows, fund_size)\n",
    "    port_cfs = port_cfs.copy()\n",
    "    model = model_builder(cashflows, port_cfs)\n",
    "    moic_results.append(model[0])\n",
    "    irr_results.append(model[1])"
   ]
  },
  {
   "cell_type": "code",
   "execution_count": 13,
   "id": "db6c5581",
   "metadata": {},
   "outputs": [],
   "source": [
    "def average_dicts(dict_list):\n",
    "    \"\"\"Compute the average of a list of dictionaries.\"\"\"\n",
    "    keys = dict_list[0].keys()\n",
    "    avg_dict = {}\n",
    "    for key in keys:\n",
    "        avg_dict[key] = sum(d[key] for d in dict_list) / len(dict_list)\n",
    "    return avg_dict"
   ]
  },
  {
   "cell_type": "code",
   "execution_count": 18,
   "id": "a8d02c7e",
   "metadata": {},
   "outputs": [],
   "source": [
    "avg_moic_decomposition = average_dicts(moic_results)\n",
    "avg_irr_decomposition = average_dicts(irr_results)"
   ]
  },
  {
   "cell_type": "code",
   "execution_count": 19,
   "id": "537fce6f",
   "metadata": {},
   "outputs": [
    {
     "data": {
      "text/plain": [
       "{'Portfolio IRR': 0.1254249410307245,\n",
       " 'Market IRR': 0.12621241937725372,\n",
       " 'Timing Alpha IRR': 0.0005482959373947698,\n",
       " 'Strategy Alpha IRR': -0.0005876001447352805,\n",
       " 'Geography Alpha IRR': -0.0006390110846440707,\n",
       " 'Sizing Alpha IRR': -0.0002812446548742277,\n",
       " 'Residual Alpha IRR': 0.00017208160032945938}"
      ]
     },
     "execution_count": 19,
     "metadata": {},
     "output_type": "execute_result"
    }
   ],
   "source": [
    "avg_irr_decomposition"
   ]
  },
  {
   "cell_type": "code",
   "execution_count": 20,
   "id": "6fc5ecdf",
   "metadata": {},
   "outputs": [
    {
     "data": {
      "text/plain": [
       "{'Portfolio MOIC': 2.070848246598204,\n",
       " 'Market MOIC': 2.077048239875696,\n",
       " 'Timing Alpha MOIC': 0.004220220497024763,\n",
       " 'Strategy Alpha MOIC': -0.004605679624816053,\n",
       " 'Geography Alpha MOIC': -0.006274867234084672,\n",
       " 'Sizing Alpha MOIC': -0.0007387338994095438,\n",
       " 'Residual Alpha MOIC': 0.0011990669837915607}"
      ]
     },
     "execution_count": 20,
     "metadata": {},
     "output_type": "execute_result"
    }
   ],
   "source": [
    "avg_moic_decomposition"
   ]
  },
  {
   "cell_type": "markdown",
   "id": "8bd5d541",
   "metadata": {},
   "source": [
    "## Analyze the individual effects"
   ]
  },
  {
   "cell_type": "markdown",
   "id": "7a062786",
   "metadata": {},
   "source": [
    "### strategy effect"
   ]
  },
  {
   "cell_type": "code",
   "execution_count": 21,
   "id": "2e4780e2",
   "metadata": {},
   "outputs": [],
   "source": [
    "venture_ids = cashflows[cashflows['Strategy'] == 'Venture']['FundID'].unique()\n",
    "buyout_ids = cashflows[cashflows['Strategy'] == 'Buyout']['FundID'].unique()\n",
    "growth_ids = cashflows[cashflows['Strategy'] == 'Growth']['FundID'].unique()\n",
    "venture_ids = np.append(venture_ids,(buyout_ids[0], growth_ids[0])) # we need at least one venture fund to make the model work\n",
    "buyout_ids = np.append(buyout_ids,(venture_ids[0], growth_ids[0])) # we need at least one buyout fund to make the model work\n",
    "growth_ids = np.append(growth_ids,(venture_ids[0], buyout_ids[0])) # we need at least one growth fund to make the model work"
   ]
  },
  {
   "cell_type": "code",
   "execution_count": 22,
   "id": "ff0bb995",
   "metadata": {},
   "outputs": [],
   "source": [
    "def portfolio_cashflows_by_id(cashflows, ids):\n",
    "\n",
    "    # Create a random size adjustment for each selected fund\n",
    "    size_adjustments = {fund: np.random.uniform(0.5, 2.0) for fund in ids}\n",
    "    \n",
    "    # Filter the portfolio\n",
    "    portfolio = cashflows[cashflows['FundID'].isin(ids)].copy()\n",
    "    \n",
    "    # Apply the size adjustment\n",
    "    portfolio['Cashflow'] = portfolio.apply(lambda row: row['Cashflow'] * size_adjustments[row['FundID']], axis=1)\n",
    "    \n",
    "    return portfolio"
   ]
  },
  {
   "cell_type": "code",
   "execution_count": 23,
   "id": "4540c1d4",
   "metadata": {},
   "outputs": [],
   "source": [
    "port_cfs_venture = portfolio_cashflows_by_id(cashflows, venture_ids)\n",
    "port_cfs_venture = port_cfs_venture.copy()\n",
    "port_cfs_buyout = portfolio_cashflows_by_id(cashflows, buyout_ids)\n",
    "port_cfs_buyout = port_cfs_buyout.copy()\n",
    "port_cfs_growth = portfolio_cashflows_by_id(cashflows, growth_ids)\n",
    "port_cfs_growth = port_cfs_growth.copy()"
   ]
  },
  {
   "cell_type": "code",
   "execution_count": 24,
   "id": "0617000c",
   "metadata": {},
   "outputs": [
    {
     "data": {
      "text/plain": [
       "({'Portfolio MOIC': 2.477724739794438,\n",
       "  'Market MOIC': 2.0770482398756984,\n",
       "  'Timing Alpha MOIC': 0.002178936706001,\n",
       "  'Strategy Alpha MOIC': 0.3915476363696153,\n",
       "  'Geography Alpha MOIC': -0.007143808374270755,\n",
       "  'Sizing Alpha MOIC': 0.009885042451185821,\n",
       "  'Residual Alpha MOIC': 0.004208692766208166},\n",
       " {'Portfolio IRR': 0.16231080459026645,\n",
       "  'Market IRR': 0.12621241937725386,\n",
       "  'Timing Alpha IRR': -0.00010037599544629461,\n",
       "  'Strategy Alpha IRR': 0.035877626070516505,\n",
       "  'Geography Alpha IRR': -0.001120519286912508,\n",
       "  'Sizing Alpha IRR': 0.0003730682834650334,\n",
       "  'Residual Alpha IRR': 0.0010685861413898545})"
      ]
     },
     "execution_count": 24,
     "metadata": {},
     "output_type": "execute_result"
    }
   ],
   "source": [
    "model_venture = model_builder(cashflows, port_cfs_venture)\n",
    "model_venture"
   ]
  },
  {
   "cell_type": "code",
   "execution_count": 25,
   "id": "1c843837",
   "metadata": {},
   "outputs": [
    {
     "data": {
      "text/plain": [
       "({'Portfolio MOIC': 1.5661356575774634,\n",
       "  'Market MOIC': 2.0770482398756984,\n",
       "  'Timing Alpha MOIC': -0.021153402003938115,\n",
       "  'Strategy Alpha MOIC': -0.5122061096673649,\n",
       "  'Geography Alpha MOIC': -0.002282650075741355,\n",
       "  'Sizing Alpha MOIC': 0.008902420275634038,\n",
       "  'Residual Alpha MOIC': 0.015827159173175342},\n",
       " {'Portfolio IRR': 0.07413130414006164,\n",
       "  'Market IRR': 0.12621241937725386,\n",
       "  'Timing Alpha IRR': -0.002400706313831144,\n",
       "  'Strategy Alpha IRR': -0.051570243234361615,\n",
       "  'Geography Alpha IRR': 0.0006525486819405624,\n",
       "  'Sizing Alpha IRR': 0.0009371072048114382,\n",
       "  'Residual Alpha IRR': 0.00030017842424853725})"
      ]
     },
     "execution_count": 25,
     "metadata": {},
     "output_type": "execute_result"
    }
   ],
   "source": [
    "model_buyout = model_builder(cashflows, port_cfs_buyout)\n",
    "model_buyout"
   ]
  },
  {
   "cell_type": "code",
   "execution_count": 26,
   "id": "188292d3",
   "metadata": {},
   "outputs": [
    {
     "data": {
      "text/plain": [
       "({'Portfolio MOIC': 2.2020417939822634,\n",
       "  'Market MOIC': 2.0770482398756984,\n",
       "  'Timing Alpha MOIC': 0.014322735362735095,\n",
       "  'Strategy Alpha MOIC': 0.1084796250779867,\n",
       "  'Geography Alpha MOIC': 0.0007888033921679138,\n",
       "  'Sizing Alpha MOIC': 0.0012459031024114608,\n",
       "  'Residual Alpha MOIC': 0.0001564871712638194},\n",
       " {'Portfolio IRR': 0.13788069167468528,\n",
       "  'Market IRR': 0.12621241937725386,\n",
       "  'Timing Alpha IRR': 0.0022181337631158315,\n",
       "  'Strategy Alpha IRR': 0.009648525729245905,\n",
       "  'Geography Alpha IRR': 0.00040019307654282077,\n",
       "  'Sizing Alpha IRR': -0.00020617298081437863,\n",
       "  'Residual Alpha IRR': -0.00039240729065875835})"
      ]
     },
     "execution_count": 26,
     "metadata": {},
     "output_type": "execute_result"
    }
   ],
   "source": [
    "model_growth = model_builder(cashflows, port_cfs_growth)\n",
    "model_growth"
   ]
  },
  {
   "cell_type": "markdown",
   "id": "1d5f8fc3",
   "metadata": {},
   "source": [
    "### Geo effect"
   ]
  },
  {
   "cell_type": "code",
   "execution_count": 27,
   "id": "e69eb333",
   "metadata": {},
   "outputs": [],
   "source": [
    "america_ids = cashflows[cashflows['Geography'] == 'North America']['FundID'].unique()\n",
    "eu_ids = cashflows[cashflows['Geography'] == 'Europe']['FundID'].unique()\n",
    "asia_ids = cashflows[cashflows['Geography'] == 'Asia']['FundID'].unique()\n",
    "america_ids = np.append(america_ids,(eu_ids[0], asia_ids[0])) # we need at least one venture fund to make the model work\n",
    "eu_ids = np.append(eu_ids,(america_ids[0], asia_ids[0])) # we need at least one buyout fund to make the model work\n",
    "asia_ids = np.append(asia_ids,(america_ids[0], eu_ids[0])) # we need at least one growth fund to make the model work"
   ]
  },
  {
   "cell_type": "code",
   "execution_count": 28,
   "id": "3e7f8eaa",
   "metadata": {},
   "outputs": [],
   "source": [
    "port_cfs_america = portfolio_cashflows_by_id(cashflows, america_ids)\n",
    "port_cfs_america = port_cfs_america.copy()\n",
    "port_cfs_eu = portfolio_cashflows_by_id(cashflows, eu_ids)\n",
    "port_cfs_eu = port_cfs_eu.copy()\n",
    "port_cfs_asia = portfolio_cashflows_by_id(cashflows, asia_ids)\n",
    "port_cfs_asia = port_cfs_asia.copy()"
   ]
  },
  {
   "cell_type": "code",
   "execution_count": 29,
   "id": "c5ecc6ae",
   "metadata": {},
   "outputs": [
    {
     "data": {
      "text/plain": [
       "({'Portfolio MOIC': 2.4487272534546416,\n",
       "  'Market MOIC': 2.0770482398756984,\n",
       "  'Timing Alpha MOIC': 0.008837681607898329,\n",
       "  'Strategy Alpha MOIC': 0.005686414369052706,\n",
       "  'Geography Alpha MOIC': 0.361763656830715,\n",
       "  'Sizing Alpha MOIC': 0.005922772680208688,\n",
       "  'Residual Alpha MOIC': -0.010531511908931535},\n",
       " {'Portfolio IRR': 0.15271255804549377,\n",
       "  'Market IRR': 0.12621241937725386,\n",
       "  'Timing Alpha IRR': 0.0013241900981820764,\n",
       "  'Strategy Alpha IRR': -0.0003692883251428525,\n",
       "  'Geography Alpha IRR': 0.026616857119419385,\n",
       "  'Sizing Alpha IRR': -0.00021534307182866086,\n",
       "  'Residual Alpha IRR': -0.0008562771523900337})"
      ]
     },
     "execution_count": 29,
     "metadata": {},
     "output_type": "execute_result"
    }
   ],
   "source": [
    "model_america = model_builder(cashflows, port_cfs_america)\n",
    "model_america"
   ]
  },
  {
   "cell_type": "code",
   "execution_count": 30,
   "id": "9d2f925b",
   "metadata": {},
   "outputs": [
    {
     "data": {
      "text/plain": [
       "({'Portfolio MOIC': 2.191249606111917,\n",
       "  'Market MOIC': 2.0770482398756984,\n",
       "  'Timing Alpha MOIC': -0.005999860889433606,\n",
       "  'Strategy Alpha MOIC': -0.016253504178979306,\n",
       "  'Geography Alpha MOIC': 0.13750702438875084,\n",
       "  'Sizing Alpha MOIC': -0.02546037396398626,\n",
       "  'Residual Alpha MOIC': 0.02440808087986701},\n",
       " {'Portfolio IRR': 0.13652346773333268,\n",
       "  'Market IRR': 0.12621241937725386,\n",
       "  'Timing Alpha IRR': -0.0007825587594537387,\n",
       "  'Strategy Alpha IRR': -0.0015987591939207318,\n",
       "  'Geography Alpha IRR': 0.013273669911768454,\n",
       "  'Sizing Alpha IRR': -0.0026567836225028507,\n",
       "  'Residual Alpha IRR': 0.0020754800201876894})"
      ]
     },
     "execution_count": 30,
     "metadata": {},
     "output_type": "execute_result"
    }
   ],
   "source": [
    "model_eu = model_builder(cashflows, port_cfs_eu)\n",
    "model_eu"
   ]
  },
  {
   "cell_type": "code",
   "execution_count": 31,
   "id": "cfe9b620",
   "metadata": {},
   "outputs": [
    {
     "data": {
      "text/plain": [
       "({'Portfolio MOIC': 1.6141299308582724,\n",
       "  'Market MOIC': 2.0770482398756984,\n",
       "  'Timing Alpha MOIC': 0.0001410064250326748,\n",
       "  'Strategy Alpha MOIC': 0.0021234869047193072,\n",
       "  'Geography Alpha MOIC': -0.48515998796289406,\n",
       "  'Sizing Alpha MOIC': 0.011333315033178915,\n",
       "  'Residual Alpha MOIC': 0.008643870582537128},\n",
       " {'Portfolio IRR': 0.08303605158675499,\n",
       "  'Market IRR': 0.12621241937725386,\n",
       "  'Timing Alpha IRR': -0.00010396549406457845,\n",
       "  'Strategy Alpha IRR': 0.0018193088511911648,\n",
       "  'Geography Alpha IRR': -0.04640103887403764,\n",
       "  'Sizing Alpha IRR': 0.002137929609628525,\n",
       "  'Residual Alpha IRR': -0.0006286018832163398})"
      ]
     },
     "execution_count": 31,
     "metadata": {},
     "output_type": "execute_result"
    }
   ],
   "source": [
    "model_asia = model_builder(cashflows, port_cfs_asia)\n",
    "model_asia"
   ]
  },
  {
   "cell_type": "markdown",
   "id": "11e3a680",
   "metadata": {},
   "source": [
    "### Fund quality"
   ]
  },
  {
   "cell_type": "code",
   "execution_count": 36,
   "id": "ea8748bc",
   "metadata": {},
   "outputs": [],
   "source": [
    "good_ids = cashflows[cashflows['FundQuality'] == 'Good']['FundID'].unique()\n",
    "bad_ids = cashflows[cashflows['FundQuality'] == 'Bad']['FundID'].unique()\n",
    "good_ids = np.append(good_ids,bad_ids[0]) # we need at least one venture fund to make the model work\n",
    "bad_ids = np.append(bad_ids,good_ids[0]) # we need at least one buyout fund to make the model work"
   ]
  },
  {
   "cell_type": "code",
   "execution_count": 37,
   "id": "f6064861",
   "metadata": {},
   "outputs": [],
   "source": [
    "port_cfs_good = portfolio_cashflows_by_id(cashflows, good_ids)\n",
    "port_cfs_good = port_cfs_good.copy()    \n",
    "port_cfs_bad = portfolio_cashflows_by_id(cashflows, bad_ids)\n",
    "port_cfs_bad = port_cfs_bad.copy()"
   ]
  },
  {
   "cell_type": "code",
   "execution_count": 38,
   "id": "013e5df6",
   "metadata": {},
   "outputs": [
    {
     "data": {
      "text/plain": [
       "({'Portfolio MOIC': 2.963707594067612,\n",
       "  'Market MOIC': 2.238462407235341,\n",
       "  'Timing Alpha MOIC': 0.0037403174076477974,\n",
       "  'Strategy Alpha MOIC': 0.012488456861852626,\n",
       "  'Geography Alpha MOIC': 0.0120526474932241,\n",
       "  'Sizing Alpha MOIC': 0.0015763515336675304,\n",
       "  'Residual Alpha MOIC': 0.6953874135358786},\n",
       " {'Portfolio IRR': 0.1981588060277388,\n",
       "  'Market IRR': 0.140889175321854,\n",
       "  'Timing Alpha IRR': 0.0007184733930143683,\n",
       "  'Strategy Alpha IRR': 0.0010990495998028371,\n",
       "  'Geography Alpha IRR': 0.0005558753593686294,\n",
       "  'Sizing Alpha IRR': -3.850548064013304e-05,\n",
       "  'Residual Alpha IRR': 0.05493473783433911})"
      ]
     },
     "execution_count": 38,
     "metadata": {},
     "output_type": "execute_result"
    }
   ],
   "source": [
    "model_good = model_builder(cashflows, port_cfs_good)\n",
    "model_good"
   ]
  },
  {
   "cell_type": "code",
   "execution_count": 39,
   "id": "e3610b60",
   "metadata": {},
   "outputs": [
    {
     "data": {
      "text/plain": [
       "({'Portfolio MOIC': 1.541586884450072,\n",
       "  'Market MOIC': 2.238462407235341,\n",
       "  'Timing Alpha MOIC': -0.0056064721734148115,\n",
       "  'Strategy Alpha MOIC': -0.007845604096410774,\n",
       "  'Geography Alpha MOIC': -0.0035993949528125846,\n",
       "  'Sizing Alpha MOIC': 0.003069089554867288,\n",
       "  'Residual Alpha MOIC': -0.6828931411174983},\n",
       " {'Portfolio IRR': 0.07082198288690467,\n",
       "  'Market IRR': 0.140889175321854,\n",
       "  'Timing Alpha IRR': -0.0005822716148550233,\n",
       "  'Strategy Alpha IRR': -0.0005440242572734566,\n",
       "  'Geography Alpha IRR': 0.00045248933609678965,\n",
       "  'Sizing Alpha IRR': 0.00045663114362046175,\n",
       "  'Residual Alpha IRR': -0.0698500170425381})"
      ]
     },
     "execution_count": 39,
     "metadata": {},
     "output_type": "execute_result"
    }
   ],
   "source": [
    "model_bad = model_builder(cashflows, port_cfs_bad)\n",
    "model_bad"
   ]
  },
  {
   "cell_type": "markdown",
   "id": "ad5134be",
   "metadata": {},
   "source": [
    "### Vintage effect"
   ]
  },
  {
   "cell_type": "code",
   "execution_count": 40,
   "id": "fb8f0daf",
   "metadata": {},
   "outputs": [],
   "source": [
    "vintage_ids = {}\n",
    "for vint in cashflows['VintageYear'].unique():\n",
    "    vint_ids = cashflows[cashflows['VintageYear'] == vint]['FundID'].unique()\n",
    "    vintage_ids[vint] = vint_ids"
   ]
  },
  {
   "cell_type": "code",
   "execution_count": 41,
   "id": "4538602d",
   "metadata": {},
   "outputs": [],
   "source": [
    "import random\n",
    "def pick_one_per_vintage(fund_dict):\n",
    "    selected_ids = []\n",
    "\n",
    "    for vintage, fund_ids in fund_dict.items():\n",
    "        # Randomly pick one fund from this vintage\n",
    "        fund_ids = list(fund_ids)  # ensure it's a list\n",
    "        selected_id = random.choice(fund_ids)\n",
    "        selected_ids.append(selected_id)\n",
    "\n",
    "    return np.array(selected_ids)\n",
    "\n",
    "one_from_each = pick_one_per_vintage(vintage_ids)"
   ]
  },
  {
   "cell_type": "code",
   "execution_count": 42,
   "id": "6a23d5a0",
   "metadata": {},
   "outputs": [],
   "source": [
    "good_vintage_ids = cashflows[cashflows['VintageYear'] % 2 == 1]['FundID'].unique()\n",
    "bad_vintage_ids = cashflows[cashflows['VintageYear'] % 2 == 0]['FundID'].unique()\n",
    "good_vintage_ids = np.append(good_vintage_ids,one_from_each) # we need at least one venture fund to make the model work\n",
    "bad_vintage_ids = np.append(bad_vintage_ids,one_from_each) # we need at least one buyout fund to make the model work"
   ]
  },
  {
   "cell_type": "code",
   "execution_count": 43,
   "id": "1b56d452",
   "metadata": {},
   "outputs": [],
   "source": [
    "port_cfs_good_vintage = portfolio_cashflows_by_id(cashflows, good_vintage_ids)\n",
    "port_cfs_good_vintage = port_cfs_good_vintage.copy()\n",
    "port_cfs_bad_vintage = portfolio_cashflows_by_id(cashflows, bad_vintage_ids)\n",
    "port_cfs_bad_vintage = port_cfs_bad_vintage.copy()"
   ]
  },
  {
   "cell_type": "code",
   "execution_count": 44,
   "id": "8587669a",
   "metadata": {},
   "outputs": [
    {
     "data": {
      "text/plain": [
       "({'Portfolio MOIC': 2.5391525268540347,\n",
       "  'Market MOIC': 2.238462407235341,\n",
       "  'Timing Alpha MOIC': 0.3101218181352121,\n",
       "  'Strategy Alpha MOIC': 0.0005587543279950147,\n",
       "  'Geography Alpha MOIC': -0.010671429353007689,\n",
       "  'Sizing Alpha MOIC': -0.008787322907759965,\n",
       "  'Residual Alpha MOIC': 0.009468299416254045},\n",
       " {'Portfolio IRR': 0.16718252643789477,\n",
       "  'Market IRR': 0.140889175321854,\n",
       "  'Timing Alpha IRR': 0.026856832157967442,\n",
       "  'Strategy Alpha IRR': -0.0028248882741917503,\n",
       "  'Geography Alpha IRR': -0.0039821055926791415,\n",
       "  'Sizing Alpha IRR': -0.0005004487328571783,\n",
       "  'Residual Alpha IRR': 0.006743961557801409})"
      ]
     },
     "execution_count": 44,
     "metadata": {},
     "output_type": "execute_result"
    }
   ],
   "source": [
    "model_good_vintage = model_builder(cashflows, port_cfs_good_vintage)\n",
    "model_good_vintage"
   ]
  },
  {
   "cell_type": "code",
   "execution_count": 45,
   "id": "2f863ea6",
   "metadata": {},
   "outputs": [
    {
     "data": {
      "text/plain": [
       "({'Portfolio MOIC': 1.912453178799579,\n",
       "  'Market MOIC': 2.238462407235341,\n",
       "  'Timing Alpha MOIC': -0.3269468866019516,\n",
       "  'Strategy Alpha MOIC': -0.040376136416460096,\n",
       "  'Geography Alpha MOIC': 0.052970839432698646,\n",
       "  'Sizing Alpha MOIC': 0.0001589659647140973,\n",
       "  'Residual Alpha MOIC': -0.011816010814763134},\n",
       " {'Portfolio IRR': 0.11190288665763065,\n",
       "  'Market IRR': 0.140889175321854,\n",
       "  'Timing Alpha IRR': -0.028555901752591054,\n",
       "  'Strategy Alpha IRR': -0.0071366844418671305,\n",
       "  'Geography Alpha IRR': 0.0035140878355821026,\n",
       "  'Sizing Alpha IRR': -0.0004233186167931918,\n",
       "  'Residual Alpha IRR': 0.0036155283114459313})"
      ]
     },
     "execution_count": 45,
     "metadata": {},
     "output_type": "execute_result"
    }
   ],
   "source": [
    "model_bad_vintage = model_builder(cashflows, port_cfs_bad_vintage)\n",
    "model_bad_vintage"
   ]
  },
  {
   "cell_type": "code",
   "execution_count": null,
   "id": "5f71c423",
   "metadata": {},
   "outputs": [],
   "source": []
  }
 ],
 "metadata": {
  "kernelspec": {
   "display_name": "Python 3",
   "language": "python",
   "name": "python3"
  },
  "language_info": {
   "codemirror_mode": {
    "name": "ipython",
    "version": 3
   },
   "file_extension": ".py",
   "mimetype": "text/x-python",
   "name": "python",
   "nbconvert_exporter": "python",
   "pygments_lexer": "ipython3",
   "version": "3.11.9"
  }
 },
 "nbformat": 4,
 "nbformat_minor": 5
}
